{
 "cells": [
  {
   "cell_type": "markdown",
   "metadata": {},
   "source": [
    "# Protein language model training\n",
    "\n",
    "This notebook trains the language models for applying ULMFit to protein sequences. The dataproc notebook should be run first to create some datasets."
   ]
  },
  {
   "cell_type": "code",
   "execution_count": 1,
   "metadata": {},
   "outputs": [],
   "source": [
    "%reload_ext autoreload\n",
    "%autoreload 2\n",
    "%matplotlib inline"
   ]
  },
  {
   "cell_type": "markdown",
   "metadata": {},
   "source": [
    "### Import libraries:"
   ]
  },
  {
   "cell_type": "code",
   "execution_count": 2,
   "metadata": {},
   "outputs": [],
   "source": [
    "from fastai import *\n",
    "from fastai.text import *\n",
    "\n",
    "import pickle\n",
    "\n",
    "sys.path.append(\"..\")\n",
    "import readseq\n",
    "import ulmputils\n",
    "\n",
    "seqDirPath = Config().data_path()/'pseq'\n",
    "ulmputils.modelDirPath = modelDirPath = seqDirPath/'models'"
   ]
  },
  {
   "cell_type": "code",
   "execution_count": 3,
   "metadata": {
    "scrolled": false
   },
   "outputs": [
    {
     "name": "stdout",
     "output_type": "stream",
     "text": [
      "['xxunk', 'xxpad', 'xxbos', 'xxeos', 'xxfld', 'xxmaj', 'xxup', 'xxrep', 'xxwrep', 'A', 'C', 'D', 'E', 'F', 'G', 'H', 'I', 'K', 'L', 'M', 'N', 'P', 'Q', 'R', 'S', 'T', 'V', 'W', 'Y', 'xxfake', 'xxfake', 'xxfake']\n"
     ]
    }
   ],
   "source": [
    "print(ulmputils.vocab.itos)"
   ]
  },
  {
   "cell_type": "markdown",
   "metadata": {},
   "source": [
    "### Create and save databunches for training language models:"
   ]
  },
  {
   "cell_type": "code",
   "execution_count": 4,
   "metadata": {},
   "outputs": [],
   "source": [
    "bs = 64\n",
    "def getDataLm(lmFName) :\n",
    "    lmFullFName = lmFName+'_lm.pkl'\n",
    "    if not (seqDirPath/lmFullFName).exists() :\n",
    "        l = TextList.from_csv(seqDirPath,lmFName+'.csv', cols='sequence',\n",
    "                          processor=ulmputils.processor)\n",
    "        print(l[0])\n",
    "        ulmputils.randomSeedForTraining(3141)\n",
    "        dataLm = l.split_by_rand_pct(0.1).label_for_lm().databunch(bs=bs)\n",
    "        dataLm.save(lmFullFName)\n",
    "    else :\n",
    "        dataLm = load_data(seqDirPath, lmFullFName, bs=bs)\n",
    "    return dataLm"
   ]
  },
  {
   "cell_type": "code",
   "execution_count": 5,
   "metadata": {
    "scrolled": false
   },
   "outputs": [
    {
     "name": "stdout",
     "output_type": "stream",
     "text": [
      "(Text xxbos A D T I V A V E L D T Y P N T D I G D P S Y P H I G I D I K S V R S K K T A K W N M Q N G K V G T A H I I Y N S V G K R L S A V V S Y P N G D S A T V S Y D V D L D N V L P E W V R V G L S A T T G L Y K E T N T I L S W S F T S K L K S N S T H E T N A L H F M F N Q F S K D Q K D L I L Q G D A T T G R D G N L E L T R V S S N G S P Q G S S V G R A L F Y A P V H I W E S S A V V A S F D A T F T F L I K S S D S H P A D G I A F F I S N I D S S I P S G S T G R L L G L F P D A N, EmptyLabel )\n"
     ]
    },
    {
     "data": {
      "text/html": [
       "<table border=\"1\" class=\"dataframe\">\n",
       "  <thead>\n",
       "    <tr style=\"text-align: right;\">\n",
       "      <th>idx</th>\n",
       "      <th>text</th>\n",
       "    </tr>\n",
       "  </thead>\n",
       "  <tbody>\n",
       "    <tr>\n",
       "      <td>0</td>\n",
       "      <td>G D S A T V S Y D V D L D N V L P E W V R V G L S A T T G L Y K E T N T I L S W S F T S K L K S N S T H E T N A L H F M F N Q F S K D Q K D</td>\n",
       "    </tr>\n",
       "    <tr>\n",
       "      <td>1</td>\n",
       "      <td>A M T I A T A A L F A K G T T T L R N I Y N W R V K E T D R L F A M A T E L R K V G A E V E E G H D F I R I T P P E K L K F A E I A T Y N D</td>\n",
       "    </tr>\n",
       "    <tr>\n",
       "      <td>2</td>\n",
       "      <td>V G D V I A A L G R D N G W S G L I I N G A V R D A S T L R T L D I G I K A L G T N P R K S T K T G A G E R D V P V D F G G V T F T P G D V</td>\n",
       "    </tr>\n",
       "    <tr>\n",
       "      <td>3</td>\n",
       "      <td>S V A E R S F I K A L N G G C S S P S A A Y G V I Q G E K I V L T G F Y V D K N G K I Y K M T K T G D R N Q G E A L G Y S L A M E M L K G A</td>\n",
       "    </tr>\n",
       "    <tr>\n",
       "      <td>4</td>\n",
       "      <td>L F I V N D R L D I A L A T G A D G V H L G Q D D L P A T V A R K L L G P D R I I G V S T G T R E E A L Q A E K E G A D Y V G F G H I F P T</td>\n",
       "    </tr>\n",
       "  </tbody>\n",
       "</table>"
      ],
      "text/plain": [
       "<IPython.core.display.HTML object>"
      ]
     },
     "metadata": {},
     "output_type": "display_data"
    }
   ],
   "source": [
    "dataLm = getDataLm('swissprotPE3AA20AllP')\n",
    "print(dataLm.train_ds[0])\n",
    "dataLm.show_batch()\n",
    "dataLm = None"
   ]
  },
  {
   "cell_type": "markdown",
   "metadata": {},
   "source": [
    "### Set up hyperparameters for training language models:"
   ]
  },
  {
   "cell_type": "code",
   "execution_count": 6,
   "metadata": {},
   "outputs": [
    {
     "name": "stdout",
     "output_type": "stream",
     "text": [
      "{'emb_sz': 400, 'n_hid': 1152, 'n_layers': 3, 'pad_token': 1, 'qrnn': False, 'bidir': False, 'output_p': 0.1, 'hidden_p': 0.15, 'input_p': 0.25, 'embed_p': 0.02, 'weight_p': 0.2, 'tie_weights': True, 'out_bias': True}\n"
     ]
    }
   ],
   "source": [
    "# tried\n",
    "# qrnn=True - unable to run (CUDA_HOME undefined)\n",
    "print(awd_lstm_lm_config)\n",
    "lmPars = dict(awd_lstm_lm_config,\n",
    "    emb_sz = 400,\n",
    "    n_hid = 1152,\n",
    "    n_layers = 3,\n",
    "    qrnn = False,\n",
    ")\n",
    "archPars = dict(\n",
    "    drop_mult=0.2,\n",
    ")"
   ]
  },
  {
   "cell_type": "markdown",
   "metadata": {},
   "source": [
    "### Create, train and save language models:\n",
    "Starting with the big non-transmembrane dataset loaded above."
   ]
  },
  {
   "cell_type": "code",
   "execution_count": 9,
   "metadata": {},
   "outputs": [],
   "source": [
    "def setupLmTraining(withPref=None, withLmFName=None, withLmPars=None, withArchPars=None,\n",
    "                    seed=3141, printInfo=False) :\n",
    "    global pref, lmFName, lmPars, archPars, dataLm, learn, modelFName\n",
    "    if withPref is not None : pref = withPref\n",
    "    if withLmFName is not None : lmFName = withLmFName\n",
    "    if withLmPars is not None : lmPars = withLmPars\n",
    "    if withArchPars is not None : archPars = withArchPars\n",
    "    dataLm = getDataLm(lmFName)\n",
    "    if seed is not None :\n",
    "        ulmputils.randomSeedForTraining(seed)\n",
    "    learn = language_model_learner(dataLm, AWD_LSTM, config=lmPars,\n",
    "                                   pretrained=False, **archPars)\n",
    "    if printInfo :\n",
    "        print(learn.data.bptt)\n",
    "        print(learn.model)\n",
    "    modelFName = ulmputils.getModelFNameFromHyperPars(pref+'_'+lmFName,\n",
    "                                            (lmPars,awd_lstm_lm_config),archPars)\n",
    "    ulmputils.loadLatestModelVersion(learn,modelFName)"
   ]
  },
  {
   "cell_type": "code",
   "execution_count": 10,
   "metadata": {},
   "outputs": [
    {
     "name": "stdout",
     "output_type": "stream",
     "text": [
      "70\n",
      "SequentialRNN(\n",
      "  (0): AWD_LSTM(\n",
      "    (encoder): Embedding(32, 400, padding_idx=1)\n",
      "    (encoder_dp): EmbeddingDropout(\n",
      "      (emb): Embedding(32, 400, padding_idx=1)\n",
      "    )\n",
      "    (rnns): ModuleList(\n",
      "      (0): WeightDropout(\n",
      "        (module): LSTM(400, 1152, batch_first=True)\n",
      "      )\n",
      "      (1): WeightDropout(\n",
      "        (module): LSTM(1152, 1152, batch_first=True)\n",
      "      )\n",
      "      (2): WeightDropout(\n",
      "        (module): LSTM(1152, 400, batch_first=True)\n",
      "      )\n",
      "    )\n",
      "    (input_dp): RNNDropout()\n",
      "    (hidden_dps): ModuleList(\n",
      "      (0): RNNDropout()\n",
      "      (1): RNNDropout()\n",
      "      (2): RNNDropout()\n",
      "    )\n",
      "  )\n",
      "  (1): LinearDecoder(\n",
      "    (decoder): Linear(in_features=400, out_features=32, bias=True)\n",
      "    (output_dp): RNNDropout()\n",
      "  )\n",
      ")\n",
      "Version not available to load!\n"
     ]
    }
   ],
   "source": [
    "setupLmTraining('awd_lstm','swissprotPE3AA20AllP',lmPars,archPars,printInfo=True)"
   ]
  },
  {
   "cell_type": "code",
   "execution_count": 11,
   "metadata": {
    "scrolled": true
   },
   "outputs": [
    {
     "data": {
      "text/plain": [
       "'awd_lstm_swissprotPE3AA20AllP_drop_mult_0_2'"
      ]
     },
     "execution_count": 11,
     "metadata": {},
     "output_type": "execute_result"
    }
   ],
   "source": [
    "modelFName"
   ]
  },
  {
   "cell_type": "code",
   "execution_count": 12,
   "metadata": {
    "scrolled": true
   },
   "outputs": [
    {
     "data": {
      "text/html": [],
      "text/plain": [
       "<IPython.core.display.HTML object>"
      ]
     },
     "metadata": {},
     "output_type": "display_data"
    },
    {
     "name": "stdout",
     "output_type": "stream",
     "text": [
      "LR Finder is complete, type {learner_name}.recorder.plot() to see the graph.\n"
     ]
    },
    {
     "data": {
      "image/png": "[encoded data removed]",
      "text/plain": [
       "<Figure size 432x288 with 1 Axes>"
      ]
     },
     "metadata": {
      "needs_background": "light"
     },
     "output_type": "display_data"
    }
   ],
   "source": [
    "learn.lr_find()\n",
    "learn.recorder.plot()"
   ]
  },
  {
   "cell_type": "code",
   "execution_count": null,
   "metadata": {},
   "outputs": [],
   "source": [
    "learn.fit_one_cycle(40, 3e-3, moms=(0.8,0.7))"
   ]
  },
  {
   "cell_type": "code",
   "execution_count": null,
   "metadata": {},
   "outputs": [],
   "source": []
  },
  {
   "cell_type": "code",
   "execution_count": 14,
   "metadata": {
    "scrolled": true
   },
   "outputs": [
    {
     "name": "stdout",
     "output_type": "stream",
     "text": [
      "70\n",
      "SequentialRNN(\n",
      "  (0): AWD_LSTM(\n",
      "    (encoder): Embedding(32, 400, padding_idx=1)\n",
      "    (encoder_dp): EmbeddingDropout(\n",
      "      (emb): Embedding(32, 400, padding_idx=1)\n",
      "    )\n",
      "    (rnns): ModuleList(\n",
      "      (0): WeightDropout(\n",
      "        (module): LSTM(400, 1152, batch_first=True)\n",
      "      )\n",
      "      (1): WeightDropout(\n",
      "        (module): LSTM(1152, 1152, batch_first=True)\n",
      "      )\n",
      "      (2): WeightDropout(\n",
      "        (module): LSTM(1152, 400, batch_first=True)\n",
      "      )\n",
      "    )\n",
      "    (input_dp): RNNDropout()\n",
      "    (hidden_dps): ModuleList(\n",
      "      (0): RNNDropout()\n",
      "      (1): RNNDropout()\n",
      "      (2): RNNDropout()\n",
      "    )\n",
      "  )\n",
      "  (1): LinearDecoder(\n",
      "    (decoder): Linear(in_features=400, out_features=32, bias=True)\n",
      "    (output_dp): RNNDropout()\n",
      "  )\n",
      ")\n"
     ]
    }
   ],
   "source": [
    "setupLmTraining('awd_lstm','swissprotPE3AA20NoTM',lmPars,archPars,printInfo=True)"
   ]
  },
  {
   "cell_type": "code",
   "execution_count": 16,
   "metadata": {
    "scrolled": true
   },
   "outputs": [
    {
     "data": {
      "text/plain": [
       "'awd_lstm_swissprotPE3AA20NoTM_drop_mult_0_2'"
      ]
     },
     "execution_count": 16,
     "metadata": {},
     "output_type": "execute_result"
    }
   ],
   "source": [
    "modelFName"
   ]
  },
  {
   "cell_type": "code",
   "execution_count": 13,
   "metadata": {},
   "outputs": [
    {
     "data": {
      "text/html": [],
      "text/plain": [
       "<IPython.core.display.HTML object>"
      ]
     },
     "metadata": {},
     "output_type": "display_data"
    },
    {
     "name": "stdout",
     "output_type": "stream",
     "text": [
      "LR Finder is complete, type {learner_name}.recorder.plot() to see the graph.\n"
     ]
    },
    {
     "data": {
      "image/png": "[encoded data removed]",
      "text/plain": [
       "<Figure size 432x288 with 1 Axes>"
      ]
     },
     "metadata": {
      "needs_background": "light"
     },
     "output_type": "display_data"
    }
   ],
   "source": [
    "learn.lr_find()\n",
    "learn.recorder.plot()"
   ]
  },
  {
   "cell_type": "code",
   "execution_count": 15,
   "metadata": {
    "scrolled": true
   },
   "outputs": [
    {
     "data": {
      "text/html": [
       "<table border=\"1\" class=\"dataframe\">\n",
       "  <thead>\n",
       "    <tr style=\"text-align: left;\">\n",
       "      <th>epoch</th>\n",
       "      <th>train_loss</th>\n",
       "      <th>valid_loss</th>\n",
       "      <th>accuracy</th>\n",
       "      <th>time</th>\n",
       "    </tr>\n",
       "  </thead>\n",
       "  <tbody>\n",
       "    <tr>\n",
       "      <td>0</td>\n",
       "      <td>2.375439</td>\n",
       "      <td>2.337047</td>\n",
       "      <td>0.284132</td>\n",
       "      <td>42:21</td>\n",
       "    </tr>\n",
       "    <tr>\n",
       "      <td>1</td>\n",
       "      <td>2.118643</td>\n",
       "      <td>2.050178</td>\n",
       "      <td>0.373760</td>\n",
       "      <td>42:21</td>\n",
       "    </tr>\n",
       "    <tr>\n",
       "      <td>2</td>\n",
       "      <td>2.007292</td>\n",
       "      <td>1.980855</td>\n",
       "      <td>0.395250</td>\n",
       "      <td>42:27</td>\n",
       "    </tr>\n",
       "    <tr>\n",
       "      <td>3</td>\n",
       "      <td>2.032430</td>\n",
       "      <td>1.971479</td>\n",
       "      <td>0.398618</td>\n",
       "      <td>42:22</td>\n",
       "    </tr>\n",
       "    <tr>\n",
       "      <td>4</td>\n",
       "      <td>2.007107</td>\n",
       "      <td>1.959068</td>\n",
       "      <td>0.402784</td>\n",
       "      <td>42:23</td>\n",
       "    </tr>\n",
       "    <tr>\n",
       "      <td>5</td>\n",
       "      <td>2.020425</td>\n",
       "      <td>1.924481</td>\n",
       "      <td>0.414177</td>\n",
       "      <td>42:25</td>\n",
       "    </tr>\n",
       "    <tr>\n",
       "      <td>6</td>\n",
       "      <td>1.967661</td>\n",
       "      <td>1.894687</td>\n",
       "      <td>0.423810</td>\n",
       "      <td>42:24</td>\n",
       "    </tr>\n",
       "    <tr>\n",
       "      <td>7</td>\n",
       "      <td>1.942310</td>\n",
       "      <td>1.878101</td>\n",
       "      <td>0.428920</td>\n",
       "      <td>42:22</td>\n",
       "    </tr>\n",
       "    <tr>\n",
       "      <td>8</td>\n",
       "      <td>1.955570</td>\n",
       "      <td>1.868809</td>\n",
       "      <td>0.431903</td>\n",
       "      <td>42:22</td>\n",
       "    </tr>\n",
       "    <tr>\n",
       "      <td>9</td>\n",
       "      <td>1.901045</td>\n",
       "      <td>1.854185</td>\n",
       "      <td>0.436254</td>\n",
       "      <td>42:25</td>\n",
       "    </tr>\n",
       "    <tr>\n",
       "      <td>10</td>\n",
       "      <td>1.940760</td>\n",
       "      <td>1.848720</td>\n",
       "      <td>0.437942</td>\n",
       "      <td>42:22</td>\n",
       "    </tr>\n",
       "    <tr>\n",
       "      <td>11</td>\n",
       "      <td>1.914002</td>\n",
       "      <td>1.832390</td>\n",
       "      <td>0.442943</td>\n",
       "      <td>42:22</td>\n",
       "    </tr>\n",
       "    <tr>\n",
       "      <td>12</td>\n",
       "      <td>1.881706</td>\n",
       "      <td>1.815898</td>\n",
       "      <td>0.447491</td>\n",
       "      <td>42:26</td>\n",
       "    </tr>\n",
       "    <tr>\n",
       "      <td>13</td>\n",
       "      <td>1.888530</td>\n",
       "      <td>1.802521</td>\n",
       "      <td>0.452142</td>\n",
       "      <td>42:23</td>\n",
       "    </tr>\n",
       "    <tr>\n",
       "      <td>14</td>\n",
       "      <td>1.856166</td>\n",
       "      <td>1.791127</td>\n",
       "      <td>0.455462</td>\n",
       "      <td>42:25</td>\n",
       "    </tr>\n",
       "    <tr>\n",
       "      <td>15</td>\n",
       "      <td>1.840432</td>\n",
       "      <td>1.780983</td>\n",
       "      <td>0.458408</td>\n",
       "      <td>42:25</td>\n",
       "    </tr>\n",
       "    <tr>\n",
       "      <td>16</td>\n",
       "      <td>1.827463</td>\n",
       "      <td>1.763956</td>\n",
       "      <td>0.463201</td>\n",
       "      <td>42:28</td>\n",
       "    </tr>\n",
       "    <tr>\n",
       "      <td>17</td>\n",
       "      <td>1.791901</td>\n",
       "      <td>1.752724</td>\n",
       "      <td>0.466614</td>\n",
       "      <td>42:26</td>\n",
       "    </tr>\n",
       "    <tr>\n",
       "      <td>18</td>\n",
       "      <td>1.807445</td>\n",
       "      <td>1.741739</td>\n",
       "      <td>0.470021</td>\n",
       "      <td>42:27</td>\n",
       "    </tr>\n",
       "    <tr>\n",
       "      <td>19</td>\n",
       "      <td>1.776759</td>\n",
       "      <td>1.721835</td>\n",
       "      <td>0.476145</td>\n",
       "      <td>42:30</td>\n",
       "    </tr>\n",
       "    <tr>\n",
       "      <td>20</td>\n",
       "      <td>1.786594</td>\n",
       "      <td>1.709607</td>\n",
       "      <td>0.479838</td>\n",
       "      <td>42:29</td>\n",
       "    </tr>\n",
       "    <tr>\n",
       "      <td>21</td>\n",
       "      <td>1.776901</td>\n",
       "      <td>1.691800</td>\n",
       "      <td>0.484973</td>\n",
       "      <td>42:34</td>\n",
       "    </tr>\n",
       "    <tr>\n",
       "      <td>22</td>\n",
       "      <td>1.763566</td>\n",
       "      <td>1.675380</td>\n",
       "      <td>0.489881</td>\n",
       "      <td>42:19</td>\n",
       "    </tr>\n",
       "    <tr>\n",
       "      <td>23</td>\n",
       "      <td>1.727909</td>\n",
       "      <td>1.658510</td>\n",
       "      <td>0.495014</td>\n",
       "      <td>43:38</td>\n",
       "    </tr>\n",
       "    <tr>\n",
       "      <td>24</td>\n",
       "      <td>1.676480</td>\n",
       "      <td>1.640163</td>\n",
       "      <td>0.500483</td>\n",
       "      <td>42:51</td>\n",
       "    </tr>\n",
       "    <tr>\n",
       "      <td>25</td>\n",
       "      <td>1.666235</td>\n",
       "      <td>1.621978</td>\n",
       "      <td>0.506471</td>\n",
       "      <td>42:27</td>\n",
       "    </tr>\n",
       "    <tr>\n",
       "      <td>26</td>\n",
       "      <td>1.675767</td>\n",
       "      <td>1.604040</td>\n",
       "      <td>0.511691</td>\n",
       "      <td>42:29</td>\n",
       "    </tr>\n",
       "    <tr>\n",
       "      <td>27</td>\n",
       "      <td>1.648472</td>\n",
       "      <td>1.584630</td>\n",
       "      <td>0.517356</td>\n",
       "      <td>42:28</td>\n",
       "    </tr>\n",
       "    <tr>\n",
       "      <td>28</td>\n",
       "      <td>1.596137</td>\n",
       "      <td>1.562171</td>\n",
       "      <td>0.524392</td>\n",
       "      <td>42:29</td>\n",
       "    </tr>\n",
       "    <tr>\n",
       "      <td>29</td>\n",
       "      <td>1.538213</td>\n",
       "      <td>1.539614</td>\n",
       "      <td>0.531205</td>\n",
       "      <td>42:21</td>\n",
       "    </tr>\n",
       "    <tr>\n",
       "      <td>30</td>\n",
       "      <td>1.553558</td>\n",
       "      <td>1.519237</td>\n",
       "      <td>0.537529</td>\n",
       "      <td>42:03</td>\n",
       "    </tr>\n",
       "    <tr>\n",
       "      <td>31</td>\n",
       "      <td>1.551755</td>\n",
       "      <td>1.498896</td>\n",
       "      <td>0.543925</td>\n",
       "      <td>42:01</td>\n",
       "    </tr>\n",
       "    <tr>\n",
       "      <td>32</td>\n",
       "      <td>1.548288</td>\n",
       "      <td>1.481230</td>\n",
       "      <td>0.549386</td>\n",
       "      <td>42:02</td>\n",
       "    </tr>\n",
       "    <tr>\n",
       "      <td>33</td>\n",
       "      <td>1.498656</td>\n",
       "      <td>1.463405</td>\n",
       "      <td>0.554945</td>\n",
       "      <td>42:02</td>\n",
       "    </tr>\n",
       "    <tr>\n",
       "      <td>34</td>\n",
       "      <td>1.446939</td>\n",
       "      <td>1.448527</td>\n",
       "      <td>0.559593</td>\n",
       "      <td>42:06</td>\n",
       "    </tr>\n",
       "    <tr>\n",
       "      <td>35</td>\n",
       "      <td>1.481077</td>\n",
       "      <td>1.435921</td>\n",
       "      <td>0.563819</td>\n",
       "      <td>42:01</td>\n",
       "    </tr>\n",
       "    <tr>\n",
       "      <td>36</td>\n",
       "      <td>1.459337</td>\n",
       "      <td>1.426526</td>\n",
       "      <td>0.566655</td>\n",
       "      <td>42:02</td>\n",
       "    </tr>\n",
       "    <tr>\n",
       "      <td>37</td>\n",
       "      <td>1.446127</td>\n",
       "      <td>1.420909</td>\n",
       "      <td>0.568615</td>\n",
       "      <td>42:05</td>\n",
       "    </tr>\n",
       "    <tr>\n",
       "      <td>38</td>\n",
       "      <td>1.402304</td>\n",
       "      <td>1.418074</td>\n",
       "      <td>0.569460</td>\n",
       "      <td>42:05</td>\n",
       "    </tr>\n",
       "    <tr>\n",
       "      <td>39</td>\n",
       "      <td>1.436328</td>\n",
       "      <td>1.417501</td>\n",
       "      <td>0.569669</td>\n",
       "      <td>42:15</td>\n",
       "    </tr>\n",
       "  </tbody>\n",
       "</table>"
      ],
      "text/plain": [
       "<IPython.core.display.HTML object>"
      ]
     },
     "metadata": {},
     "output_type": "display_data"
    }
   ],
   "source": [
    "learn.fit_one_cycle(40, 3e-3, moms=(0.8,0.7))"
   ]
  },
  {
   "cell_type": "code",
   "execution_count": 17,
   "metadata": {},
   "outputs": [],
   "source": [
    "ulmputils.saveNextModelVersion(learn,modelFName)"
   ]
  },
  {
   "cell_type": "code",
   "execution_count": 22,
   "metadata": {
    "scrolled": true
   },
   "outputs": [
    {
     "data": {
      "text/html": [
       "<table border=\"1\" class=\"dataframe\">\n",
       "  <thead>\n",
       "    <tr style=\"text-align: left;\">\n",
       "      <th>epoch</th>\n",
       "      <th>train_loss</th>\n",
       "      <th>valid_loss</th>\n",
       "      <th>accuracy</th>\n",
       "      <th>time</th>\n",
       "    </tr>\n",
       "  </thead>\n",
       "  <tbody>\n",
       "    <tr>\n",
       "      <td>0</td>\n",
       "      <td>1.440791</td>\n",
       "      <td>1.417561</td>\n",
       "      <td>0.569527</td>\n",
       "      <td>42:32</td>\n",
       "    </tr>\n",
       "    <tr>\n",
       "      <td>1</td>\n",
       "      <td>1.471815</td>\n",
       "      <td>1.416235</td>\n",
       "      <td>0.570037</td>\n",
       "      <td>42:30</td>\n",
       "    </tr>\n",
       "    <tr>\n",
       "      <td>2</td>\n",
       "      <td>1.401974</td>\n",
       "      <td>1.414537</td>\n",
       "      <td>0.570445</td>\n",
       "      <td>42:29</td>\n",
       "    </tr>\n",
       "    <tr>\n",
       "      <td>3</td>\n",
       "      <td>1.440144</td>\n",
       "      <td>1.413482</td>\n",
       "      <td>0.570917</td>\n",
       "      <td>42:32</td>\n",
       "    </tr>\n",
       "    <tr>\n",
       "      <td>4</td>\n",
       "      <td>1.403215</td>\n",
       "      <td>1.412380</td>\n",
       "      <td>0.571323</td>\n",
       "      <td>42:39</td>\n",
       "    </tr>\n",
       "    <tr>\n",
       "      <td>5</td>\n",
       "      <td>1.445295</td>\n",
       "      <td>1.410859</td>\n",
       "      <td>0.571732</td>\n",
       "      <td>42:38</td>\n",
       "    </tr>\n",
       "    <tr>\n",
       "      <td>6</td>\n",
       "      <td>1.422488</td>\n",
       "      <td>1.410197</td>\n",
       "      <td>0.572002</td>\n",
       "      <td>42:41</td>\n",
       "    </tr>\n",
       "    <tr>\n",
       "      <td>7</td>\n",
       "      <td>1.382323</td>\n",
       "      <td>1.408958</td>\n",
       "      <td>0.572449</td>\n",
       "      <td>42:40</td>\n",
       "    </tr>\n",
       "    <tr>\n",
       "      <td>8</td>\n",
       "      <td>1.462061</td>\n",
       "      <td>1.408105</td>\n",
       "      <td>0.572665</td>\n",
       "      <td>42:48</td>\n",
       "    </tr>\n",
       "    <tr>\n",
       "      <td>9</td>\n",
       "      <td>1.397503</td>\n",
       "      <td>1.407279</td>\n",
       "      <td>0.572905</td>\n",
       "      <td>42:46</td>\n",
       "    </tr>\n",
       "  </tbody>\n",
       "</table>"
      ],
      "text/plain": [
       "<IPython.core.display.HTML object>"
      ]
     },
     "metadata": {},
     "output_type": "display_data"
    }
   ],
   "source": [
    "setupLmTraining(); learn.fit(10, 5e-5)"
   ]
  },
  {
   "cell_type": "code",
   "execution_count": 23,
   "metadata": {},
   "outputs": [],
   "source": [
    "ulmputils.saveNextModelVersion(learn,modelFName)"
   ]
  },
  {
   "cell_type": "code",
   "execution_count": 46,
   "metadata": {},
   "outputs": [
    {
     "name": "stdout",
     "output_type": "stream",
     "text": [
      "Loading awd_lstm_swissprotPE3AA20NoTM_drop_mult_0_2_1\n"
     ]
    }
   ],
   "source": [
    "setupLmTraining()"
   ]
  },
  {
   "cell_type": "code",
   "execution_count": 36,
   "metadata": {},
   "outputs": [],
   "source": [
    "learn.save_encoder(modelFName+'_enc')"
   ]
  },
  {
   "cell_type": "code",
   "execution_count": 15,
   "metadata": {},
   "outputs": [],
   "source": [
    "# learn.load('swissp70epoch_aa20_notm_0_2dropmult_58_6acc');"
   ]
  },
  {
   "cell_type": "code",
   "execution_count": 47,
   "metadata": {},
   "outputs": [],
   "source": [
    "mainModelFName = modelFName"
   ]
  },
  {
   "cell_type": "markdown",
   "metadata": {},
   "source": [
    "### The obligatory cool PCA stuff:\n",
    "Looking at the embedding that the language model generated for amino acids."
   ]
  },
  {
   "cell_type": "code",
   "execution_count": 37,
   "metadata": {},
   "outputs": [],
   "source": [
    "def getaaPca(learn) :\n",
    "    aaEmbedding = next(learn.model[0].named_parameters())[1]\n",
    "    print('embedding shape',aaEmbedding.shape)\n",
    "    aaFirstPos = 9\n",
    "    return aaEmbedding[aaFirstPos:aaFirstPos+20].pca(3)\n",
    "\n",
    "#aw = learn.model[0]; aw\n",
    "# weightParam = next(aw.named_parameters()); weightParam\n",
    "# p = weightParam[1]; p\n",
    "# p.shape\n",
    "# aapca = p[9:9+20].pca(3); aapca.shape"
   ]
  },
  {
   "cell_type": "code",
   "execution_count": 38,
   "metadata": {
    "scrolled": true
   },
   "outputs": [
    {
     "name": "stdout",
     "output_type": "stream",
     "text": [
      "embedding shape torch.Size([32, 400])\n"
     ]
    }
   ],
   "source": [
    "aapca = getaaPca(learn)"
   ]
  },
  {
   "cell_type": "code",
   "execution_count": 39,
   "metadata": {},
   "outputs": [
    {
     "data": {
      "text/plain": [
       "('ACDEFGHIKLMNPQRSTVWY', 20)"
      ]
     },
     "execution_count": 39,
     "metadata": {},
     "output_type": "execute_result"
    }
   ],
   "source": [
    "aaLetters = ulmputils.aaLetters; aaLetters, len(aaLetters)"
   ]
  },
  {
   "cell_type": "code",
   "execution_count": 40,
   "metadata": {},
   "outputs": [],
   "source": [
    "fac0,fac1,fac2 = aapca.t()"
   ]
  },
  {
   "cell_type": "code",
   "execution_count": 41,
   "metadata": {
    "scrolled": true
   },
   "outputs": [
    {
     "data": {
      "text/plain": [
       "[(tensor(-6.1774, device='cuda:0', grad_fn=<SelectBackward>), 'F'),\n",
       " (tensor(-5.5219, device='cuda:0', grad_fn=<SelectBackward>), 'W'),\n",
       " (tensor(-5.1013, device='cuda:0', grad_fn=<SelectBackward>), 'L'),\n",
       " (tensor(-4.9717, device='cuda:0', grad_fn=<SelectBackward>), 'M'),\n",
       " (tensor(-4.8949, device='cuda:0', grad_fn=<SelectBackward>), 'I'),\n",
       " (tensor(-4.1080, device='cuda:0', grad_fn=<SelectBackward>), 'Y'),\n",
       " (tensor(-3.3976, device='cuda:0', grad_fn=<SelectBackward>), 'V'),\n",
       " (tensor(-2.3590, device='cuda:0', grad_fn=<SelectBackward>), 'C'),\n",
       " (tensor(1.0165, device='cuda:0', grad_fn=<SelectBackward>), 'H'),\n",
       " (tensor(1.2233, device='cuda:0', grad_fn=<SelectBackward>), 'T'),\n",
       " (tensor(1.9095, device='cuda:0', grad_fn=<SelectBackward>), 'A'),\n",
       " (tensor(2.2716, device='cuda:0', grad_fn=<SelectBackward>), 'P'),\n",
       " (tensor(2.3772, device='cuda:0', grad_fn=<SelectBackward>), 'R'),\n",
       " (tensor(2.9943, device='cuda:0', grad_fn=<SelectBackward>), 'Q'),\n",
       " (tensor(3.0990, device='cuda:0', grad_fn=<SelectBackward>), 'S'),\n",
       " (tensor(3.5946, device='cuda:0', grad_fn=<SelectBackward>), 'K'),\n",
       " (tensor(3.9188, device='cuda:0', grad_fn=<SelectBackward>), 'G'),\n",
       " (tensor(4.1861, device='cuda:0', grad_fn=<SelectBackward>), 'N'),\n",
       " (tensor(4.5584, device='cuda:0', grad_fn=<SelectBackward>), 'E'),\n",
       " (tensor(5.3825, device='cuda:0', grad_fn=<SelectBackward>), 'D')]"
      ]
     },
     "execution_count": 41,
     "metadata": {},
     "output_type": "execute_result"
    }
   ],
   "source": [
    "sorted(list(zip(fac0,ulmputils.aaLetters)))"
   ]
  },
  {
   "cell_type": "code",
   "execution_count": 42,
   "metadata": {},
   "outputs": [],
   "source": [
    "def setAlpha(im) :\n",
    "    height,width = im.shape[:2]\n",
    "    for r in range(height) :\n",
    "        for c in range(width) :\n",
    "            pix = im[r,c]\n",
    "            if pix[0]==1.0 and pix[1]==1.0 and pix[2]==1.0 :\n",
    "                pix[3] = 0.3\n",
    "            else :\n",
    "                pix[3] = 1.0"
   ]
  },
  {
   "cell_type": "code",
   "execution_count": 43,
   "metadata": {
    "scrolled": false
   },
   "outputs": [
    {
     "data": {
      "image/png": "[encoded data removed]",
      "text/plain": [
       "<Figure size 1584x1584 with 1 Axes>"
      ]
     },
     "metadata": {
      "needs_background": "light"
     },
     "output_type": "display_data"
    }
   ],
   "source": [
    "X,Y = fac0, fac1\n",
    "plt.figure(figsize=(22,22))\n",
    "ax = plt.subplot(111)\n",
    "plt.scatter(X, Y)\n",
    "for i, x, y in zip(aaLetters, X, Y):\n",
    "    im = plt.imread('aaims/'+i+'.png')\n",
    "    setAlpha(im)\n",
    "    imageBox = plt.matplotlib.offsetbox.AnnotationBbox(\n",
    "        plt.matplotlib.offsetbox.OffsetImage(im),\n",
    "        (x,y), pad=0.0, frameon=False,\n",
    "    )\n",
    "    ax.add_artist(imageBox)\n",
    "plt.savefig('aapca.png')\n",
    "plt.show()"
   ]
  },
  {
   "cell_type": "markdown",
   "metadata": {},
   "source": [
    "### Fine tuning a language model for transmembrane proteins:"
   ]
  },
  {
   "cell_type": "code",
   "execution_count": 49,
   "metadata": {},
   "outputs": [
    {
     "name": "stdout",
     "output_type": "stream",
     "text": [
      "70\n",
      "SequentialRNN(\n",
      "  (0): AWD_LSTM(\n",
      "    (encoder): Embedding(32, 400, padding_idx=1)\n",
      "    (encoder_dp): EmbeddingDropout(\n",
      "      (emb): Embedding(32, 400, padding_idx=1)\n",
      "    )\n",
      "    (rnns): ModuleList(\n",
      "      (0): WeightDropout(\n",
      "        (module): LSTM(400, 1152, batch_first=True)\n",
      "      )\n",
      "      (1): WeightDropout(\n",
      "        (module): LSTM(1152, 1152, batch_first=True)\n",
      "      )\n",
      "      (2): WeightDropout(\n",
      "        (module): LSTM(1152, 400, batch_first=True)\n",
      "      )\n",
      "    )\n",
      "    (input_dp): RNNDropout()\n",
      "    (hidden_dps): ModuleList(\n",
      "      (0): RNNDropout()\n",
      "      (1): RNNDropout()\n",
      "      (2): RNNDropout()\n",
      "    )\n",
      "  )\n",
      "  (1): LinearDecoder(\n",
      "    (decoder): Linear(in_features=400, out_features=32, bias=True)\n",
      "    (output_dp): RNNDropout()\n",
      "  )\n",
      ")\n",
      "No version available to load!\n"
     ]
    }
   ],
   "source": [
    "setupLmTraining('awd_lstm','swissprotPE3AA20TM',lmPars,archPars,printInfo=True)"
   ]
  },
  {
   "cell_type": "code",
   "execution_count": 50,
   "metadata": {},
   "outputs": [
    {
     "name": "stdout",
     "output_type": "stream",
     "text": [
      "Loading awd_lstm_swissprotPE3AA20NoTM_drop_mult_0_2_1\n"
     ]
    }
   ],
   "source": [
    "ulmputils.loadLatestModelVersion(learn,mainModelFName)"
   ]
  },
  {
   "cell_type": "code",
   "execution_count": 52,
   "metadata": {},
   "outputs": [
    {
     "data": {
      "text/html": [
       "<table border=\"1\" class=\"dataframe\">\n",
       "  <thead>\n",
       "    <tr style=\"text-align: left;\">\n",
       "      <th>epoch</th>\n",
       "      <th>train_loss</th>\n",
       "      <th>valid_loss</th>\n",
       "      <th>accuracy</th>\n",
       "      <th>time</th>\n",
       "    </tr>\n",
       "  </thead>\n",
       "  <tbody>\n",
       "    <tr>\n",
       "      <td>0</td>\n",
       "      <td>2.323240</td>\n",
       "      <td>2.343914</td>\n",
       "      <td>0.276125</td>\n",
       "      <td>06:24</td>\n",
       "    </tr>\n",
       "    <tr>\n",
       "      <td>1</td>\n",
       "      <td>2.079851</td>\n",
       "      <td>2.090801</td>\n",
       "      <td>0.356764</td>\n",
       "      <td>06:25</td>\n",
       "    </tr>\n",
       "    <tr>\n",
       "      <td>2</td>\n",
       "      <td>1.967678</td>\n",
       "      <td>1.964113</td>\n",
       "      <td>0.396288</td>\n",
       "      <td>06:23</td>\n",
       "    </tr>\n",
       "    <tr>\n",
       "      <td>3</td>\n",
       "      <td>1.870510</td>\n",
       "      <td>1.893539</td>\n",
       "      <td>0.419095</td>\n",
       "      <td>06:23</td>\n",
       "    </tr>\n",
       "    <tr>\n",
       "      <td>4</td>\n",
       "      <td>1.824809</td>\n",
       "      <td>1.841043</td>\n",
       "      <td>0.435423</td>\n",
       "      <td>06:24</td>\n",
       "    </tr>\n",
       "    <tr>\n",
       "      <td>5</td>\n",
       "      <td>1.780623</td>\n",
       "      <td>1.796135</td>\n",
       "      <td>0.449971</td>\n",
       "      <td>06:24</td>\n",
       "    </tr>\n",
       "    <tr>\n",
       "      <td>6</td>\n",
       "      <td>1.668792</td>\n",
       "      <td>1.753950</td>\n",
       "      <td>0.464244</td>\n",
       "      <td>06:24</td>\n",
       "    </tr>\n",
       "    <tr>\n",
       "      <td>7</td>\n",
       "      <td>1.653363</td>\n",
       "      <td>1.711153</td>\n",
       "      <td>0.476880</td>\n",
       "      <td>06:25</td>\n",
       "    </tr>\n",
       "    <tr>\n",
       "      <td>8</td>\n",
       "      <td>1.609042</td>\n",
       "      <td>1.669132</td>\n",
       "      <td>0.490194</td>\n",
       "      <td>06:25</td>\n",
       "    </tr>\n",
       "    <tr>\n",
       "      <td>9</td>\n",
       "      <td>1.518489</td>\n",
       "      <td>1.633888</td>\n",
       "      <td>0.501187</td>\n",
       "      <td>06:25</td>\n",
       "    </tr>\n",
       "    <tr>\n",
       "      <td>10</td>\n",
       "      <td>1.451540</td>\n",
       "      <td>1.602490</td>\n",
       "      <td>0.511793</td>\n",
       "      <td>06:25</td>\n",
       "    </tr>\n",
       "    <tr>\n",
       "      <td>11</td>\n",
       "      <td>1.448552</td>\n",
       "      <td>1.563944</td>\n",
       "      <td>0.523719</td>\n",
       "      <td>06:26</td>\n",
       "    </tr>\n",
       "    <tr>\n",
       "      <td>12</td>\n",
       "      <td>1.398188</td>\n",
       "      <td>1.528883</td>\n",
       "      <td>0.534899</td>\n",
       "      <td>06:26</td>\n",
       "    </tr>\n",
       "    <tr>\n",
       "      <td>13</td>\n",
       "      <td>1.335977</td>\n",
       "      <td>1.497127</td>\n",
       "      <td>0.545188</td>\n",
       "      <td>06:26</td>\n",
       "    </tr>\n",
       "    <tr>\n",
       "      <td>14</td>\n",
       "      <td>1.227012</td>\n",
       "      <td>1.468993</td>\n",
       "      <td>0.554279</td>\n",
       "      <td>06:26</td>\n",
       "    </tr>\n",
       "    <tr>\n",
       "      <td>15</td>\n",
       "      <td>1.194757</td>\n",
       "      <td>1.445865</td>\n",
       "      <td>0.562079</td>\n",
       "      <td>06:26</td>\n",
       "    </tr>\n",
       "    <tr>\n",
       "      <td>16</td>\n",
       "      <td>1.177337</td>\n",
       "      <td>1.431684</td>\n",
       "      <td>0.567205</td>\n",
       "      <td>06:26</td>\n",
       "    </tr>\n",
       "    <tr>\n",
       "      <td>17</td>\n",
       "      <td>1.141277</td>\n",
       "      <td>1.420362</td>\n",
       "      <td>0.571186</td>\n",
       "      <td>06:26</td>\n",
       "    </tr>\n",
       "    <tr>\n",
       "      <td>18</td>\n",
       "      <td>1.135380</td>\n",
       "      <td>1.416494</td>\n",
       "      <td>0.572617</td>\n",
       "      <td>06:26</td>\n",
       "    </tr>\n",
       "    <tr>\n",
       "      <td>19</td>\n",
       "      <td>1.097089</td>\n",
       "      <td>1.416325</td>\n",
       "      <td>0.572859</td>\n",
       "      <td>06:26</td>\n",
       "    </tr>\n",
       "  </tbody>\n",
       "</table>"
      ],
      "text/plain": [
       "<IPython.core.display.HTML object>"
      ]
     },
     "metadata": {},
     "output_type": "display_data"
    }
   ],
   "source": [
    "learn.fit_one_cycle(20, 3e-3, moms=(0.8,0.7))"
   ]
  },
  {
   "cell_type": "code",
   "execution_count": 53,
   "metadata": {},
   "outputs": [
    {
     "name": "stdout",
     "output_type": "stream",
     "text": [
      "Saving awd_lstm_swissprotPE3AA20TM_drop_mult_0_2\n"
     ]
    }
   ],
   "source": [
    "ulmputils.saveNextModelVersion(learn,modelFName)"
   ]
  },
  {
   "cell_type": "code",
   "execution_count": 54,
   "metadata": {
    "scrolled": true
   },
   "outputs": [
    {
     "name": "stdout",
     "output_type": "stream",
     "text": [
      "Loading awd_lstm_swissprotPE3AA20TM_drop_mult_0_2\n"
     ]
    },
    {
     "data": {
      "text/html": [
       "<table border=\"1\" class=\"dataframe\">\n",
       "  <thead>\n",
       "    <tr style=\"text-align: left;\">\n",
       "      <th>epoch</th>\n",
       "      <th>train_loss</th>\n",
       "      <th>valid_loss</th>\n",
       "      <th>accuracy</th>\n",
       "      <th>time</th>\n",
       "    </tr>\n",
       "  </thead>\n",
       "  <tbody>\n",
       "    <tr>\n",
       "      <td>0</td>\n",
       "      <td>1.082029</td>\n",
       "      <td>1.414488</td>\n",
       "      <td>0.573309</td>\n",
       "      <td>06:26</td>\n",
       "    </tr>\n",
       "    <tr>\n",
       "      <td>1</td>\n",
       "      <td>1.120964</td>\n",
       "      <td>1.411828</td>\n",
       "      <td>0.574435</td>\n",
       "      <td>06:29</td>\n",
       "    </tr>\n",
       "    <tr>\n",
       "      <td>2</td>\n",
       "      <td>1.125956</td>\n",
       "      <td>1.409217</td>\n",
       "      <td>0.575195</td>\n",
       "      <td>06:29</td>\n",
       "    </tr>\n",
       "    <tr>\n",
       "      <td>3</td>\n",
       "      <td>1.082002</td>\n",
       "      <td>1.407897</td>\n",
       "      <td>0.575873</td>\n",
       "      <td>06:27</td>\n",
       "    </tr>\n",
       "    <tr>\n",
       "      <td>4</td>\n",
       "      <td>1.098787</td>\n",
       "      <td>1.405039</td>\n",
       "      <td>0.576816</td>\n",
       "      <td>06:26</td>\n",
       "    </tr>\n",
       "    <tr>\n",
       "      <td>5</td>\n",
       "      <td>1.093351</td>\n",
       "      <td>1.404181</td>\n",
       "      <td>0.577281</td>\n",
       "      <td>06:25</td>\n",
       "    </tr>\n",
       "    <tr>\n",
       "      <td>6</td>\n",
       "      <td>1.023626</td>\n",
       "      <td>1.402679</td>\n",
       "      <td>0.578056</td>\n",
       "      <td>06:25</td>\n",
       "    </tr>\n",
       "    <tr>\n",
       "      <td>7</td>\n",
       "      <td>1.064203</td>\n",
       "      <td>1.401235</td>\n",
       "      <td>0.578753</td>\n",
       "      <td>06:25</td>\n",
       "    </tr>\n",
       "    <tr>\n",
       "      <td>8</td>\n",
       "      <td>1.073029</td>\n",
       "      <td>1.399163</td>\n",
       "      <td>0.579425</td>\n",
       "      <td>06:26</td>\n",
       "    </tr>\n",
       "    <tr>\n",
       "      <td>9</td>\n",
       "      <td>1.026038</td>\n",
       "      <td>1.397827</td>\n",
       "      <td>0.580022</td>\n",
       "      <td>06:26</td>\n",
       "    </tr>\n",
       "  </tbody>\n",
       "</table>"
      ],
      "text/plain": [
       "<IPython.core.display.HTML object>"
      ]
     },
     "metadata": {},
     "output_type": "display_data"
    }
   ],
   "source": [
    "setupLmTraining(); learn.fit(10, 1e-4)"
   ]
  },
  {
   "cell_type": "code",
   "execution_count": 55,
   "metadata": {},
   "outputs": [
    {
     "name": "stdout",
     "output_type": "stream",
     "text": [
      "Saving awd_lstm_swissprotPE3AA20TM_drop_mult_0_2_1\n"
     ]
    }
   ],
   "source": [
    "ulmputils.saveNextModelVersion(learn,modelFName)"
   ]
  },
  {
   "cell_type": "code",
   "execution_count": 56,
   "metadata": {
    "scrolled": true
   },
   "outputs": [
    {
     "name": "stdout",
     "output_type": "stream",
     "text": [
      "Loading awd_lstm_swissprotPE3AA20TM_drop_mult_0_2_1\n"
     ]
    },
    {
     "data": {
      "text/html": [
       "<table border=\"1\" class=\"dataframe\">\n",
       "  <thead>\n",
       "    <tr style=\"text-align: left;\">\n",
       "      <th>epoch</th>\n",
       "      <th>train_loss</th>\n",
       "      <th>valid_loss</th>\n",
       "      <th>accuracy</th>\n",
       "      <th>time</th>\n",
       "    </tr>\n",
       "  </thead>\n",
       "  <tbody>\n",
       "    <tr>\n",
       "      <td>0</td>\n",
       "      <td>1.030358</td>\n",
       "      <td>1.398186</td>\n",
       "      <td>0.580291</td>\n",
       "      <td>06:24</td>\n",
       "    </tr>\n",
       "    <tr>\n",
       "      <td>1</td>\n",
       "      <td>1.071351</td>\n",
       "      <td>1.396916</td>\n",
       "      <td>0.581117</td>\n",
       "      <td>06:26</td>\n",
       "    </tr>\n",
       "    <tr>\n",
       "      <td>2</td>\n",
       "      <td>1.076174</td>\n",
       "      <td>1.395355</td>\n",
       "      <td>0.581593</td>\n",
       "      <td>06:24</td>\n",
       "    </tr>\n",
       "    <tr>\n",
       "      <td>3</td>\n",
       "      <td>1.033837</td>\n",
       "      <td>1.395394</td>\n",
       "      <td>0.582095</td>\n",
       "      <td>06:25</td>\n",
       "    </tr>\n",
       "    <tr>\n",
       "      <td>4</td>\n",
       "      <td>1.052443</td>\n",
       "      <td>1.392797</td>\n",
       "      <td>0.582691</td>\n",
       "      <td>06:25</td>\n",
       "    </tr>\n",
       "    <tr>\n",
       "      <td>5</td>\n",
       "      <td>1.046935</td>\n",
       "      <td>1.393030</td>\n",
       "      <td>0.582893</td>\n",
       "      <td>06:24</td>\n",
       "    </tr>\n",
       "    <tr>\n",
       "      <td>6</td>\n",
       "      <td>0.978759</td>\n",
       "      <td>1.392238</td>\n",
       "      <td>0.583401</td>\n",
       "      <td>06:25</td>\n",
       "    </tr>\n",
       "    <tr>\n",
       "      <td>7</td>\n",
       "      <td>1.020342</td>\n",
       "      <td>1.391714</td>\n",
       "      <td>0.583847</td>\n",
       "      <td>06:25</td>\n",
       "    </tr>\n",
       "    <tr>\n",
       "      <td>8</td>\n",
       "      <td>1.031128</td>\n",
       "      <td>1.389689</td>\n",
       "      <td>0.584406</td>\n",
       "      <td>06:25</td>\n",
       "    </tr>\n",
       "    <tr>\n",
       "      <td>9</td>\n",
       "      <td>0.985756</td>\n",
       "      <td>1.389087</td>\n",
       "      <td>0.584736</td>\n",
       "      <td>06:26</td>\n",
       "    </tr>\n",
       "    <tr>\n",
       "      <td>10</td>\n",
       "      <td>1.010003</td>\n",
       "      <td>1.386016</td>\n",
       "      <td>0.585096</td>\n",
       "      <td>06:26</td>\n",
       "    </tr>\n",
       "    <tr>\n",
       "      <td>11</td>\n",
       "      <td>1.041276</td>\n",
       "      <td>1.385865</td>\n",
       "      <td>0.585738</td>\n",
       "      <td>06:28</td>\n",
       "    </tr>\n",
       "    <tr>\n",
       "      <td>12</td>\n",
       "      <td>1.022262</td>\n",
       "      <td>1.385093</td>\n",
       "      <td>0.586231</td>\n",
       "      <td>06:29</td>\n",
       "    </tr>\n",
       "    <tr>\n",
       "      <td>13</td>\n",
       "      <td>1.012390</td>\n",
       "      <td>1.384574</td>\n",
       "      <td>0.586632</td>\n",
       "      <td>06:28</td>\n",
       "    </tr>\n",
       "    <tr>\n",
       "      <td>14</td>\n",
       "      <td>0.958981</td>\n",
       "      <td>1.384061</td>\n",
       "      <td>0.586839</td>\n",
       "      <td>06:28</td>\n",
       "    </tr>\n",
       "    <tr>\n",
       "      <td>15</td>\n",
       "      <td>0.983806</td>\n",
       "      <td>1.384538</td>\n",
       "      <td>0.587065</td>\n",
       "      <td>06:28</td>\n",
       "    </tr>\n",
       "    <tr>\n",
       "      <td>16</td>\n",
       "      <td>1.014142</td>\n",
       "      <td>1.384268</td>\n",
       "      <td>0.587485</td>\n",
       "      <td>06:28</td>\n",
       "    </tr>\n",
       "    <tr>\n",
       "      <td>17</td>\n",
       "      <td>1.021455</td>\n",
       "      <td>1.380947</td>\n",
       "      <td>0.588221</td>\n",
       "      <td>06:28</td>\n",
       "    </tr>\n",
       "    <tr>\n",
       "      <td>18</td>\n",
       "      <td>1.046540</td>\n",
       "      <td>1.379361</td>\n",
       "      <td>0.588627</td>\n",
       "      <td>06:28</td>\n",
       "    </tr>\n",
       "    <tr>\n",
       "      <td>19</td>\n",
       "      <td>1.016936</td>\n",
       "      <td>1.377211</td>\n",
       "      <td>0.588952</td>\n",
       "      <td>06:28</td>\n",
       "    </tr>\n",
       "  </tbody>\n",
       "</table>"
      ],
      "text/plain": [
       "<IPython.core.display.HTML object>"
      ]
     },
     "metadata": {},
     "output_type": "display_data"
    }
   ],
   "source": [
    "setupLmTraining(); learn.fit(20, 1e-4)"
   ]
  },
  {
   "cell_type": "code",
   "execution_count": 57,
   "metadata": {},
   "outputs": [
    {
     "name": "stdout",
     "output_type": "stream",
     "text": [
      "Saving awd_lstm_swissprotPE3AA20TM_drop_mult_0_2_2\n"
     ]
    }
   ],
   "source": [
    "ulmputils.saveNextModelVersion(learn,modelFName)"
   ]
  },
  {
   "cell_type": "code",
   "execution_count": 58,
   "metadata": {
    "scrolled": true
   },
   "outputs": [
    {
     "name": "stdout",
     "output_type": "stream",
     "text": [
      "Loading awd_lstm_swissprotPE3AA20TM_drop_mult_0_2_2\n"
     ]
    },
    {
     "data": {
      "text/html": [
       "<table border=\"1\" class=\"dataframe\">\n",
       "  <thead>\n",
       "    <tr style=\"text-align: left;\">\n",
       "      <th>epoch</th>\n",
       "      <th>train_loss</th>\n",
       "      <th>valid_loss</th>\n",
       "      <th>accuracy</th>\n",
       "      <th>time</th>\n",
       "    </tr>\n",
       "  </thead>\n",
       "  <tbody>\n",
       "    <tr>\n",
       "      <td>0</td>\n",
       "      <td>0.976883</td>\n",
       "      <td>1.379717</td>\n",
       "      <td>0.588984</td>\n",
       "      <td>06:24</td>\n",
       "    </tr>\n",
       "    <tr>\n",
       "      <td>1</td>\n",
       "      <td>1.019730</td>\n",
       "      <td>1.379230</td>\n",
       "      <td>0.589529</td>\n",
       "      <td>06:25</td>\n",
       "    </tr>\n",
       "    <tr>\n",
       "      <td>2</td>\n",
       "      <td>1.022864</td>\n",
       "      <td>1.378335</td>\n",
       "      <td>0.589827</td>\n",
       "      <td>06:23</td>\n",
       "    </tr>\n",
       "    <tr>\n",
       "      <td>3</td>\n",
       "      <td>0.980982</td>\n",
       "      <td>1.379378</td>\n",
       "      <td>0.590075</td>\n",
       "      <td>06:23</td>\n",
       "    </tr>\n",
       "    <tr>\n",
       "      <td>4</td>\n",
       "      <td>1.001211</td>\n",
       "      <td>1.376318</td>\n",
       "      <td>0.590462</td>\n",
       "      <td>06:23</td>\n",
       "    </tr>\n",
       "    <tr>\n",
       "      <td>5</td>\n",
       "      <td>0.994889</td>\n",
       "      <td>1.377774</td>\n",
       "      <td>0.590670</td>\n",
       "      <td>06:23</td>\n",
       "    </tr>\n",
       "    <tr>\n",
       "      <td>6</td>\n",
       "      <td>0.928941</td>\n",
       "      <td>1.377223</td>\n",
       "      <td>0.590916</td>\n",
       "      <td>06:23</td>\n",
       "    </tr>\n",
       "    <tr>\n",
       "      <td>7</td>\n",
       "      <td>0.972021</td>\n",
       "      <td>1.377109</td>\n",
       "      <td>0.591314</td>\n",
       "      <td>06:23</td>\n",
       "    </tr>\n",
       "    <tr>\n",
       "      <td>8</td>\n",
       "      <td>0.983365</td>\n",
       "      <td>1.375303</td>\n",
       "      <td>0.591638</td>\n",
       "      <td>06:25</td>\n",
       "    </tr>\n",
       "    <tr>\n",
       "      <td>9</td>\n",
       "      <td>0.941259</td>\n",
       "      <td>1.374986</td>\n",
       "      <td>0.591824</td>\n",
       "      <td>06:23</td>\n",
       "    </tr>\n",
       "    <tr>\n",
       "      <td>10</td>\n",
       "      <td>0.962050</td>\n",
       "      <td>1.373342</td>\n",
       "      <td>0.592141</td>\n",
       "      <td>06:26</td>\n",
       "    </tr>\n",
       "    <tr>\n",
       "      <td>11</td>\n",
       "      <td>0.993209</td>\n",
       "      <td>1.373744</td>\n",
       "      <td>0.592510</td>\n",
       "      <td>06:21</td>\n",
       "    </tr>\n",
       "    <tr>\n",
       "      <td>12</td>\n",
       "      <td>0.973872</td>\n",
       "      <td>1.373480</td>\n",
       "      <td>0.592815</td>\n",
       "      <td>06:20</td>\n",
       "    </tr>\n",
       "    <tr>\n",
       "      <td>13</td>\n",
       "      <td>0.967950</td>\n",
       "      <td>1.373023</td>\n",
       "      <td>0.593006</td>\n",
       "      <td>06:22</td>\n",
       "    </tr>\n",
       "    <tr>\n",
       "      <td>14</td>\n",
       "      <td>0.916543</td>\n",
       "      <td>1.372739</td>\n",
       "      <td>0.593144</td>\n",
       "      <td>06:24</td>\n",
       "    </tr>\n",
       "    <tr>\n",
       "      <td>15</td>\n",
       "      <td>0.943287</td>\n",
       "      <td>1.373367</td>\n",
       "      <td>0.593270</td>\n",
       "      <td>06:22</td>\n",
       "    </tr>\n",
       "    <tr>\n",
       "      <td>16</td>\n",
       "      <td>0.971715</td>\n",
       "      <td>1.373585</td>\n",
       "      <td>0.593527</td>\n",
       "      <td>06:22</td>\n",
       "    </tr>\n",
       "    <tr>\n",
       "      <td>17</td>\n",
       "      <td>0.975843</td>\n",
       "      <td>1.370562</td>\n",
       "      <td>0.594173</td>\n",
       "      <td>06:26</td>\n",
       "    </tr>\n",
       "    <tr>\n",
       "      <td>18</td>\n",
       "      <td>0.999849</td>\n",
       "      <td>1.369890</td>\n",
       "      <td>0.594343</td>\n",
       "      <td>06:30</td>\n",
       "    </tr>\n",
       "    <tr>\n",
       "      <td>19</td>\n",
       "      <td>0.969560</td>\n",
       "      <td>1.367767</td>\n",
       "      <td>0.594547</td>\n",
       "      <td>06:25</td>\n",
       "    </tr>\n",
       "  </tbody>\n",
       "</table>"
      ],
      "text/plain": [
       "<IPython.core.display.HTML object>"
      ]
     },
     "metadata": {},
     "output_type": "display_data"
    }
   ],
   "source": [
    "setupLmTraining(); learn.fit(20, 1e-4)"
   ]
  },
  {
   "cell_type": "code",
   "execution_count": 59,
   "metadata": {},
   "outputs": [
    {
     "name": "stdout",
     "output_type": "stream",
     "text": [
      "Saving awd_lstm_swissprotPE3AA20TM_drop_mult_0_2_3\n"
     ]
    }
   ],
   "source": [
    "ulmputils.saveNextModelVersion(learn,modelFName)"
   ]
  },
  {
   "cell_type": "code",
   "execution_count": 60,
   "metadata": {
    "scrolled": true
   },
   "outputs": [
    {
     "name": "stdout",
     "output_type": "stream",
     "text": [
      "Loading awd_lstm_swissprotPE3AA20TM_drop_mult_0_2_3\n"
     ]
    },
    {
     "data": {
      "text/html": [
       "<table border=\"1\" class=\"dataframe\">\n",
       "  <thead>\n",
       "    <tr style=\"text-align: left;\">\n",
       "      <th>epoch</th>\n",
       "      <th>train_loss</th>\n",
       "      <th>valid_loss</th>\n",
       "      <th>accuracy</th>\n",
       "      <th>time</th>\n",
       "    </tr>\n",
       "  </thead>\n",
       "  <tbody>\n",
       "    <tr>\n",
       "      <td>0</td>\n",
       "      <td>0.936847</td>\n",
       "      <td>1.370189</td>\n",
       "      <td>0.594518</td>\n",
       "      <td>06:24</td>\n",
       "    </tr>\n",
       "    <tr>\n",
       "      <td>1</td>\n",
       "      <td>0.981364</td>\n",
       "      <td>1.369805</td>\n",
       "      <td>0.595003</td>\n",
       "      <td>06:25</td>\n",
       "    </tr>\n",
       "    <tr>\n",
       "      <td>2</td>\n",
       "      <td>0.983368</td>\n",
       "      <td>1.369309</td>\n",
       "      <td>0.595209</td>\n",
       "      <td>06:23</td>\n",
       "    </tr>\n",
       "    <tr>\n",
       "      <td>3</td>\n",
       "      <td>0.941403</td>\n",
       "      <td>1.370941</td>\n",
       "      <td>0.595443</td>\n",
       "      <td>06:23</td>\n",
       "    </tr>\n",
       "    <tr>\n",
       "      <td>4</td>\n",
       "      <td>0.962380</td>\n",
       "      <td>1.367162</td>\n",
       "      <td>0.595617</td>\n",
       "      <td>06:24</td>\n",
       "    </tr>\n",
       "    <tr>\n",
       "      <td>5</td>\n",
       "      <td>0.955424</td>\n",
       "      <td>1.369782</td>\n",
       "      <td>0.595645</td>\n",
       "      <td>06:24</td>\n",
       "    </tr>\n",
       "    <tr>\n",
       "      <td>6</td>\n",
       "      <td>0.891342</td>\n",
       "      <td>1.368990</td>\n",
       "      <td>0.595897</td>\n",
       "      <td>06:25</td>\n",
       "    </tr>\n",
       "    <tr>\n",
       "      <td>7</td>\n",
       "      <td>0.935477</td>\n",
       "      <td>1.369077</td>\n",
       "      <td>0.596102</td>\n",
       "      <td>06:24</td>\n",
       "    </tr>\n",
       "    <tr>\n",
       "      <td>8</td>\n",
       "      <td>0.947235</td>\n",
       "      <td>1.367321</td>\n",
       "      <td>0.596399</td>\n",
       "      <td>06:25</td>\n",
       "    </tr>\n",
       "    <tr>\n",
       "      <td>9</td>\n",
       "      <td>0.907317</td>\n",
       "      <td>1.367399</td>\n",
       "      <td>0.596452</td>\n",
       "      <td>06:25</td>\n",
       "    </tr>\n",
       "    <tr>\n",
       "      <td>10</td>\n",
       "      <td>0.927100</td>\n",
       "      <td>1.366323</td>\n",
       "      <td>0.596631</td>\n",
       "      <td>06:27</td>\n",
       "    </tr>\n",
       "    <tr>\n",
       "      <td>11</td>\n",
       "      <td>0.957720</td>\n",
       "      <td>1.366718</td>\n",
       "      <td>0.597048</td>\n",
       "      <td>06:24</td>\n",
       "    </tr>\n",
       "    <tr>\n",
       "      <td>12</td>\n",
       "      <td>0.937755</td>\n",
       "      <td>1.366817</td>\n",
       "      <td>0.597358</td>\n",
       "      <td>06:24</td>\n",
       "    </tr>\n",
       "    <tr>\n",
       "      <td>13</td>\n",
       "      <td>0.934619</td>\n",
       "      <td>1.366252</td>\n",
       "      <td>0.597576</td>\n",
       "      <td>06:29</td>\n",
       "    </tr>\n",
       "    <tr>\n",
       "      <td>14</td>\n",
       "      <td>0.884036</td>\n",
       "      <td>1.366023</td>\n",
       "      <td>0.597556</td>\n",
       "      <td>06:30</td>\n",
       "    </tr>\n",
       "    <tr>\n",
       "      <td>15</td>\n",
       "      <td>0.911621</td>\n",
       "      <td>1.366710</td>\n",
       "      <td>0.597678</td>\n",
       "      <td>06:30</td>\n",
       "    </tr>\n",
       "    <tr>\n",
       "      <td>16</td>\n",
       "      <td>0.939278</td>\n",
       "      <td>1.367107</td>\n",
       "      <td>0.597873</td>\n",
       "      <td>06:25</td>\n",
       "    </tr>\n",
       "    <tr>\n",
       "      <td>17</td>\n",
       "      <td>0.941249</td>\n",
       "      <td>1.364310</td>\n",
       "      <td>0.598380</td>\n",
       "      <td>06:22</td>\n",
       "    </tr>\n",
       "    <tr>\n",
       "      <td>18</td>\n",
       "      <td>0.964323</td>\n",
       "      <td>1.364694</td>\n",
       "      <td>0.598315</td>\n",
       "      <td>06:28</td>\n",
       "    </tr>\n",
       "    <tr>\n",
       "      <td>19</td>\n",
       "      <td>0.933455</td>\n",
       "      <td>1.362403</td>\n",
       "      <td>0.598699</td>\n",
       "      <td>06:32</td>\n",
       "    </tr>\n",
       "  </tbody>\n",
       "</table>"
      ],
      "text/plain": [
       "<IPython.core.display.HTML object>"
      ]
     },
     "metadata": {},
     "output_type": "display_data"
    }
   ],
   "source": [
    "setupLmTraining(); learn.fit(20, 1e-4)"
   ]
  },
  {
   "cell_type": "code",
   "execution_count": 61,
   "metadata": {},
   "outputs": [
    {
     "name": "stdout",
     "output_type": "stream",
     "text": [
      "Saving awd_lstm_swissprotPE3AA20TM_drop_mult_0_2_4\n"
     ]
    }
   ],
   "source": [
    "ulmputils.saveNextModelVersion(learn,modelFName)"
   ]
  },
  {
   "cell_type": "code",
   "execution_count": 64,
   "metadata": {
    "scrolled": false
   },
   "outputs": [
    {
     "name": "stdout",
     "output_type": "stream",
     "text": [
      "Loading awd_lstm_swissprotPE3AA20TM_drop_mult_0_2_4\n"
     ]
    },
    {
     "data": {
      "text/html": [
       "<table border=\"1\" class=\"dataframe\">\n",
       "  <thead>\n",
       "    <tr style=\"text-align: left;\">\n",
       "      <th>epoch</th>\n",
       "      <th>train_loss</th>\n",
       "      <th>valid_loss</th>\n",
       "      <th>accuracy</th>\n",
       "      <th>time</th>\n",
       "    </tr>\n",
       "  </thead>\n",
       "  <tbody>\n",
       "    <tr>\n",
       "      <td>0</td>\n",
       "      <td>0.905091</td>\n",
       "      <td>1.364804</td>\n",
       "      <td>0.598369</td>\n",
       "      <td>06:19</td>\n",
       "    </tr>\n",
       "    <tr>\n",
       "      <td>1</td>\n",
       "      <td>0.950954</td>\n",
       "      <td>1.364138</td>\n",
       "      <td>0.599169</td>\n",
       "      <td>06:18</td>\n",
       "    </tr>\n",
       "    <tr>\n",
       "      <td>2</td>\n",
       "      <td>0.952231</td>\n",
       "      <td>1.363688</td>\n",
       "      <td>0.599082</td>\n",
       "      <td>06:18</td>\n",
       "    </tr>\n",
       "    <tr>\n",
       "      <td>3</td>\n",
       "      <td>0.909767</td>\n",
       "      <td>1.366194</td>\n",
       "      <td>0.599158</td>\n",
       "      <td>06:18</td>\n",
       "    </tr>\n",
       "    <tr>\n",
       "      <td>4</td>\n",
       "      <td>0.931357</td>\n",
       "      <td>1.361632</td>\n",
       "      <td>0.599508</td>\n",
       "      <td>06:18</td>\n",
       "    </tr>\n",
       "    <tr>\n",
       "      <td>5</td>\n",
       "      <td>0.923965</td>\n",
       "      <td>1.365209</td>\n",
       "      <td>0.599484</td>\n",
       "      <td>06:17</td>\n",
       "    </tr>\n",
       "    <tr>\n",
       "      <td>6</td>\n",
       "      <td>0.861836</td>\n",
       "      <td>1.364236</td>\n",
       "      <td>0.599534</td>\n",
       "      <td>06:17</td>\n",
       "    </tr>\n",
       "    <tr>\n",
       "      <td>7</td>\n",
       "      <td>0.906341</td>\n",
       "      <td>1.364490</td>\n",
       "      <td>0.600046</td>\n",
       "      <td>06:17</td>\n",
       "    </tr>\n",
       "    <tr>\n",
       "      <td>8</td>\n",
       "      <td>0.918422</td>\n",
       "      <td>1.362616</td>\n",
       "      <td>0.600131</td>\n",
       "      <td>06:17</td>\n",
       "    </tr>\n",
       "    <tr>\n",
       "      <td>9</td>\n",
       "      <td>0.880375</td>\n",
       "      <td>1.363030</td>\n",
       "      <td>0.600366</td>\n",
       "      <td>06:17</td>\n",
       "    </tr>\n",
       "    <tr>\n",
       "      <td>10</td>\n",
       "      <td>0.899946</td>\n",
       "      <td>1.361843</td>\n",
       "      <td>0.600225</td>\n",
       "      <td>06:17</td>\n",
       "    </tr>\n",
       "    <tr>\n",
       "      <td>11</td>\n",
       "      <td>0.929772</td>\n",
       "      <td>1.362357</td>\n",
       "      <td>0.600599</td>\n",
       "      <td>06:17</td>\n",
       "    </tr>\n",
       "    <tr>\n",
       "      <td>12</td>\n",
       "      <td>0.909265</td>\n",
       "      <td>1.362861</td>\n",
       "      <td>0.600839</td>\n",
       "      <td>06:17</td>\n",
       "    </tr>\n",
       "    <tr>\n",
       "      <td>13</td>\n",
       "      <td>0.907804</td>\n",
       "      <td>1.362637</td>\n",
       "      <td>0.601056</td>\n",
       "      <td>06:17</td>\n",
       "    </tr>\n",
       "    <tr>\n",
       "      <td>14</td>\n",
       "      <td>0.858087</td>\n",
       "      <td>1.361742</td>\n",
       "      <td>0.600968</td>\n",
       "      <td>06:17</td>\n",
       "    </tr>\n",
       "    <tr>\n",
       "      <td>15</td>\n",
       "      <td>0.885824</td>\n",
       "      <td>1.362683</td>\n",
       "      <td>0.601031</td>\n",
       "      <td>06:17</td>\n",
       "    </tr>\n",
       "    <tr>\n",
       "      <td>16</td>\n",
       "      <td>0.913350</td>\n",
       "      <td>1.363021</td>\n",
       "      <td>0.601256</td>\n",
       "      <td>06:17</td>\n",
       "    </tr>\n",
       "    <tr>\n",
       "      <td>17</td>\n",
       "      <td>0.913890</td>\n",
       "      <td>1.360392</td>\n",
       "      <td>0.601765</td>\n",
       "      <td>06:17</td>\n",
       "    </tr>\n",
       "    <tr>\n",
       "      <td>18</td>\n",
       "      <td>0.936089</td>\n",
       "      <td>1.362024</td>\n",
       "      <td>0.601468</td>\n",
       "      <td>06:17</td>\n",
       "    </tr>\n",
       "    <tr>\n",
       "      <td>19</td>\n",
       "      <td>0.904742</td>\n",
       "      <td>1.359367</td>\n",
       "      <td>0.601908</td>\n",
       "      <td>06:17</td>\n",
       "    </tr>\n",
       "  </tbody>\n",
       "</table>"
      ],
      "text/plain": [
       "<IPython.core.display.HTML object>"
      ]
     },
     "metadata": {},
     "output_type": "display_data"
    }
   ],
   "source": [
    "setupLmTraining(); learn.fit(20, 1e-4)"
   ]
  },
  {
   "cell_type": "code",
   "execution_count": 67,
   "metadata": {
    "scrolled": true
   },
   "outputs": [
    {
     "name": "stdout",
     "output_type": "stream",
     "text": [
      "Saving awd_lstm_swissprotPE3AA20TM_drop_mult_0_2_5\n"
     ]
    }
   ],
   "source": [
    "ulmputils.saveNextModelVersion(learn,modelFName)"
   ]
  },
  {
   "cell_type": "code",
   "execution_count": null,
   "metadata": {},
   "outputs": [],
   "source": []
  }
 ],
 "metadata": {
  "kernelspec": {
   "display_name": "Python 3",
   "language": "python",
   "name": "python3"
  },
  "language_info": {
   "codemirror_mode": {
    "name": "ipython",
    "version": 3
   },
   "file_extension": ".py",
   "mimetype": "text/x-python",
   "name": "python",
   "nbconvert_exporter": "python",
   "pygments_lexer": "ipython3",
   "version": "3.7.3"
  }
 },
 "nbformat": 4,
 "nbformat_minor": 2
}
