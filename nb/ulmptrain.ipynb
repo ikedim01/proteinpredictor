{
 "cells": [
  {
   "cell_type": "code",
   "execution_count": 1,
   "metadata": {},
   "outputs": [],
   "source": [
    "%reload_ext autoreload\n",
    "%autoreload 2\n",
    "%matplotlib inline"
   ]
  },
  {
   "cell_type": "code",
   "execution_count": 2,
   "metadata": {},
   "outputs": [],
   "source": [
    "from fastai import *\n",
    "from fastai.text import *\n",
    "\n",
    "import pickle\n",
    "\n",
    "sys.path.append(\"..\")\n",
    "import readseq\n",
    "import ulmputils\n",
    "\n",
    "seqDirPath = Config().data_path()/'pseq'"
   ]
  },
  {
   "cell_type": "code",
   "execution_count": 3,
   "metadata": {
    "scrolled": true
   },
   "outputs": [
    {
     "name": "stdout",
     "output_type": "stream",
     "text": [
      "['xxunk', 'xxpad', 'xxbos', 'xxeos', 'xxfld', 'xxmaj', 'xxup', 'xxrep', 'xxwrep', 'A', 'C', 'D', 'E', 'F', 'G', 'H', 'I', 'K', 'L', 'M', 'N', 'P', 'Q', 'R', 'S', 'T', 'U', 'V', 'W', 'Y', 'xxfake', 'xxfake']\n"
     ]
    }
   ],
   "source": [
    "print(ulmputils.vocab.itos)"
   ]
  },
  {
   "cell_type": "code",
   "execution_count": 4,
   "metadata": {},
   "outputs": [],
   "source": [
    "bs = 64\n",
    "calcLM = False\n",
    "#fName = 'swissprotPE3'\n",
    "fName = 'swissprot'\n",
    "if calcLM :\n",
    "    l = TextList.from_csv(seqDirPath,fName+'.csv', cols='sequence',\n",
    "                      processor=ulmputils.processor)\n",
    "    print(l[0])\n",
    "    ulmputils.randomSeedForTraining(3141)\n",
    "    data_lm = l.split_by_rand_pct(0.1).label_for_lm().databunch(bs=bs)\n",
    "    data_lm.save(fName+'_lm.pkl')\n",
    "else :\n",
    "    data_lm = load_data(seqDirPath, fName+'_lm.pkl', bs=bs)"
   ]
  },
  {
   "cell_type": "code",
   "execution_count": 5,
   "metadata": {},
   "outputs": [
    {
     "data": {
      "text/plain": [
       "(Text xxbos A D T I V A V E L D T Y P N T D I G D P S Y P H I G I D I K S V R S K K T A K W N M Q N G K V G T A H I I Y N S V G K R L S A V V S Y P N G D S A T V S Y D V D L D N V L P E W V R V G L S A T T G L Y K E T N T I L S W S F T S K L K S N S T H E T N A L H F M F N Q F S K D Q K D L I L Q G D A T T G R D G N L E L T R V S S N G S P Q G S S V G R A L F Y A P V H I W E S S A V V A S F D A T F T F L I K S S D S H P A D G I A F F I S N I D S S I P S G S T G R L L G L F P D A N,\n",
       " EmptyLabel )"
      ]
     },
     "execution_count": 5,
     "metadata": {},
     "output_type": "execute_result"
    }
   ],
   "source": [
    "data_lm.train_ds[0]"
   ]
  },
  {
   "cell_type": "code",
   "execution_count": 6,
   "metadata": {
    "scrolled": true
   },
   "outputs": [
    {
     "data": {
      "text/html": [
       "<table border=\"1\" class=\"dataframe\">\n",
       "  <thead>\n",
       "    <tr style=\"text-align: right;\">\n",
       "      <th>idx</th>\n",
       "      <th>text</th>\n",
       "    </tr>\n",
       "  </thead>\n",
       "  <tbody>\n",
       "    <tr>\n",
       "      <td>0</td>\n",
       "      <td>G D S A T V S Y D V D L D N V L P E W V R V G L S A T T G L Y K E T N T I L S W S F T S K L K S N S T H E T N A L H F M F N Q F S K D Q K D</td>\n",
       "    </tr>\n",
       "    <tr>\n",
       "      <td>1</td>\n",
       "      <td>E E I N D D N H A E G L I G Y V R E R N Y K G M T L E S V V E L E N G K M V M V S E F F N E D D P D F D H S L D Q K M A I N W V E S W E V V</td>\n",
       "    </tr>\n",
       "    <tr>\n",
       "      <td>2</td>\n",
       "      <td>T N F xxbos M K Q S N S K N T P P I A S K K V F I K T Y G C Q M N V Y D S Q R M N D S L S A Q G Y V T T Q T P N D A D L I L V N T C H I R E K A</td>\n",
       "    </tr>\n",
       "    <tr>\n",
       "      <td>3</td>\n",
       "      <td>D T E V D L W S V G C I L A E M I E G K P L F P G K D H V H Q F S I I T E L L G S P P P D V I D T I C S E N T L R F V Q S L P H R D P I P F</td>\n",
       "    </tr>\n",
       "    <tr>\n",
       "      <td>4</td>\n",
       "      <td>C F E Q Y E K E A Q H L L A L E T P L P L P A Y E R I L K A A H S F N L L D A R K A I S V T E R Q R Y I L R I R T L T K A V A E A Y Y A S R</td>\n",
       "    </tr>\n",
       "  </tbody>\n",
       "</table>"
      ],
      "text/plain": [
       "<IPython.core.display.HTML object>"
      ]
     },
     "metadata": {},
     "output_type": "display_data"
    }
   ],
   "source": [
    "data_lm.show_batch()"
   ]
  },
  {
   "cell_type": "code",
   "execution_count": 7,
   "metadata": {},
   "outputs": [
    {
     "data": {
      "text/plain": [
       "{'emb_sz': 400,\n",
       " 'n_hid': 1152,\n",
       " 'n_layers': 3,\n",
       " 'pad_token': 1,\n",
       " 'qrnn': False,\n",
       " 'bidir': False,\n",
       " 'output_p': 0.1,\n",
       " 'hidden_p': 0.15,\n",
       " 'input_p': 0.25,\n",
       " 'embed_p': 0.02,\n",
       " 'weight_p': 0.2,\n",
       " 'tie_weights': True,\n",
       " 'out_bias': True}"
      ]
     },
     "execution_count": 7,
     "metadata": {},
     "output_type": "execute_result"
    }
   ],
   "source": [
    "# tried\n",
    "# emb_sz=40 - slightly worse\n",
    "# qrnn=True - unable to run (CUDA_HOME undefined)\n",
    "emb_sz = 400\n",
    "n_hid = 1152\n",
    "n_layers = 3\n",
    "qrnn = False\n",
    "awd_lstm_lm_config"
   ]
  },
  {
   "cell_type": "code",
   "execution_count": 8,
   "metadata": {},
   "outputs": [],
   "source": [
    "learn = language_model_learner(data_lm,\n",
    "            AWD_LSTM, config=dict(awd_lstm_lm_config, emb_sz=emb_sz, n_hid=n_hid,\n",
    "                                  n_layers=n_layers, qrnn=qrnn),\n",
    "            pretrained=False, drop_mult=0.2)"
   ]
  },
  {
   "cell_type": "code",
   "execution_count": 9,
   "metadata": {},
   "outputs": [],
   "source": [
    "# doc(language_model_learner)"
   ]
  },
  {
   "cell_type": "code",
   "execution_count": 10,
   "metadata": {
    "scrolled": true
   },
   "outputs": [
    {
     "data": {
      "text/plain": [
       "70"
      ]
     },
     "execution_count": 10,
     "metadata": {},
     "output_type": "execute_result"
    }
   ],
   "source": [
    "learn.data.bptt"
   ]
  },
  {
   "cell_type": "code",
   "execution_count": 11,
   "metadata": {},
   "outputs": [
    {
     "data": {
      "text/plain": [
       "SequentialRNN(\n",
       "  (0): AWD_LSTM(\n",
       "    (encoder): Embedding(32, 400, padding_idx=1)\n",
       "    (encoder_dp): EmbeddingDropout(\n",
       "      (emb): Embedding(32, 400, padding_idx=1)\n",
       "    )\n",
       "    (rnns): ModuleList(\n",
       "      (0): WeightDropout(\n",
       "        (module): LSTM(400, 1152, batch_first=True)\n",
       "      )\n",
       "      (1): WeightDropout(\n",
       "        (module): LSTM(1152, 1152, batch_first=True)\n",
       "      )\n",
       "      (2): WeightDropout(\n",
       "        (module): LSTM(1152, 400, batch_first=True)\n",
       "      )\n",
       "    )\n",
       "    (input_dp): RNNDropout()\n",
       "    (hidden_dps): ModuleList(\n",
       "      (0): RNNDropout()\n",
       "      (1): RNNDropout()\n",
       "      (2): RNNDropout()\n",
       "    )\n",
       "  )\n",
       "  (1): LinearDecoder(\n",
       "    (decoder): Linear(in_features=400, out_features=32, bias=True)\n",
       "    (output_dp): RNNDropout()\n",
       "  )\n",
       ")"
      ]
     },
     "execution_count": 11,
     "metadata": {},
     "output_type": "execute_result"
    }
   ],
   "source": [
    "learn.model"
   ]
  },
  {
   "cell_type": "code",
   "execution_count": 16,
   "metadata": {},
   "outputs": [
    {
     "data": {
      "text/html": [],
      "text/plain": [
       "<IPython.core.display.HTML object>"
      ]
     },
     "metadata": {},
     "output_type": "display_data"
    },
    {
     "name": "stdout",
     "output_type": "stream",
     "text": [
      "LR Finder is complete, type {learner_name}.recorder.plot() to see the graph.\n"
     ]
    }
   ],
   "source": [
    "learn.lr_find()"
   ]
  },
  {
   "cell_type": "code",
   "execution_count": 17,
   "metadata": {},
   "outputs": [
    {
     "data": {
      "image/png": "[encoded data removed]",
      "text/plain": [
       "<Figure size 432x288 with 1 Axes>"
      ]
     },
     "metadata": {
      "needs_background": "light"
     },
     "output_type": "display_data"
    }
   ],
   "source": [
    "learn.recorder.plot()"
   ]
  },
  {
   "cell_type": "code",
   "execution_count": 12,
   "metadata": {
    "scrolled": false
   },
   "outputs": [
    {
     "data": {
      "text/html": [
       "<table border=\"1\" class=\"dataframe\">\n",
       "  <thead>\n",
       "    <tr style=\"text-align: left;\">\n",
       "      <th>epoch</th>\n",
       "      <th>train_loss</th>\n",
       "      <th>valid_loss</th>\n",
       "      <th>accuracy</th>\n",
       "      <th>time</th>\n",
       "    </tr>\n",
       "  </thead>\n",
       "  <tbody>\n",
       "    <tr>\n",
       "      <td>0</td>\n",
       "      <td>2.401656</td>\n",
       "      <td>2.353648</td>\n",
       "      <td>0.278127</td>\n",
       "      <td>49:48</td>\n",
       "    </tr>\n",
       "    <tr>\n",
       "      <td>1</td>\n",
       "      <td>2.160994</td>\n",
       "      <td>2.107268</td>\n",
       "      <td>0.355091</td>\n",
       "      <td>49:39</td>\n",
       "    </tr>\n",
       "    <tr>\n",
       "      <td>2</td>\n",
       "      <td>2.135048</td>\n",
       "      <td>2.051626</td>\n",
       "      <td>0.372490</td>\n",
       "      <td>49:24</td>\n",
       "    </tr>\n",
       "    <tr>\n",
       "      <td>3</td>\n",
       "      <td>2.108858</td>\n",
       "      <td>2.044425</td>\n",
       "      <td>0.375031</td>\n",
       "      <td>49:12</td>\n",
       "    </tr>\n",
       "    <tr>\n",
       "      <td>4</td>\n",
       "      <td>2.101440</td>\n",
       "      <td>2.030173</td>\n",
       "      <td>0.380300</td>\n",
       "      <td>49:10</td>\n",
       "    </tr>\n",
       "    <tr>\n",
       "      <td>5</td>\n",
       "      <td>2.031489</td>\n",
       "      <td>2.004342</td>\n",
       "      <td>0.388480</td>\n",
       "      <td>49:08</td>\n",
       "    </tr>\n",
       "    <tr>\n",
       "      <td>6</td>\n",
       "      <td>2.022350</td>\n",
       "      <td>1.984236</td>\n",
       "      <td>0.394925</td>\n",
       "      <td>49:13</td>\n",
       "    </tr>\n",
       "    <tr>\n",
       "      <td>7</td>\n",
       "      <td>2.024719</td>\n",
       "      <td>1.968187</td>\n",
       "      <td>0.399998</td>\n",
       "      <td>49:08</td>\n",
       "    </tr>\n",
       "    <tr>\n",
       "      <td>8</td>\n",
       "      <td>1.991462</td>\n",
       "      <td>1.960227</td>\n",
       "      <td>0.402438</td>\n",
       "      <td>49:13</td>\n",
       "    </tr>\n",
       "    <tr>\n",
       "      <td>9</td>\n",
       "      <td>1.997264</td>\n",
       "      <td>1.948606</td>\n",
       "      <td>0.406030</td>\n",
       "      <td>49:09</td>\n",
       "    </tr>\n",
       "    <tr>\n",
       "      <td>10</td>\n",
       "      <td>1.997478</td>\n",
       "      <td>1.942975</td>\n",
       "      <td>0.408027</td>\n",
       "      <td>49:12</td>\n",
       "    </tr>\n",
       "    <tr>\n",
       "      <td>11</td>\n",
       "      <td>1.974812</td>\n",
       "      <td>1.931411</td>\n",
       "      <td>0.411842</td>\n",
       "      <td>49:11</td>\n",
       "    </tr>\n",
       "    <tr>\n",
       "      <td>12</td>\n",
       "      <td>1.974995</td>\n",
       "      <td>1.918704</td>\n",
       "      <td>0.415261</td>\n",
       "      <td>49:07</td>\n",
       "    </tr>\n",
       "    <tr>\n",
       "      <td>13</td>\n",
       "      <td>1.965823</td>\n",
       "      <td>1.911900</td>\n",
       "      <td>0.416987</td>\n",
       "      <td>49:14</td>\n",
       "    </tr>\n",
       "    <tr>\n",
       "      <td>14</td>\n",
       "      <td>1.934880</td>\n",
       "      <td>1.894681</td>\n",
       "      <td>0.422118</td>\n",
       "      <td>49:08</td>\n",
       "    </tr>\n",
       "    <tr>\n",
       "      <td>15</td>\n",
       "      <td>1.943795</td>\n",
       "      <td>1.884171</td>\n",
       "      <td>0.425291</td>\n",
       "      <td>49:13</td>\n",
       "    </tr>\n",
       "    <tr>\n",
       "      <td>16</td>\n",
       "      <td>1.929259</td>\n",
       "      <td>1.877228</td>\n",
       "      <td>0.427655</td>\n",
       "      <td>49:08</td>\n",
       "    </tr>\n",
       "    <tr>\n",
       "      <td>17</td>\n",
       "      <td>1.918784</td>\n",
       "      <td>1.862718</td>\n",
       "      <td>0.431869</td>\n",
       "      <td>49:11</td>\n",
       "    </tr>\n",
       "    <tr>\n",
       "      <td>18</td>\n",
       "      <td>1.886540</td>\n",
       "      <td>1.849659</td>\n",
       "      <td>0.435763</td>\n",
       "      <td>49:10</td>\n",
       "    </tr>\n",
       "    <tr>\n",
       "      <td>19</td>\n",
       "      <td>1.841784</td>\n",
       "      <td>1.835929</td>\n",
       "      <td>0.439720</td>\n",
       "      <td>49:08</td>\n",
       "    </tr>\n",
       "    <tr>\n",
       "      <td>20</td>\n",
       "      <td>1.836673</td>\n",
       "      <td>1.819140</td>\n",
       "      <td>0.444688</td>\n",
       "      <td>49:14</td>\n",
       "    </tr>\n",
       "    <tr>\n",
       "      <td>21</td>\n",
       "      <td>1.873725</td>\n",
       "      <td>1.808070</td>\n",
       "      <td>0.448215</td>\n",
       "      <td>49:08</td>\n",
       "    </tr>\n",
       "    <tr>\n",
       "      <td>22</td>\n",
       "      <td>1.847051</td>\n",
       "      <td>1.790649</td>\n",
       "      <td>0.453159</td>\n",
       "      <td>49:13</td>\n",
       "    </tr>\n",
       "    <tr>\n",
       "      <td>23</td>\n",
       "      <td>1.793481</td>\n",
       "      <td>1.772890</td>\n",
       "      <td>0.458746</td>\n",
       "      <td>49:08</td>\n",
       "    </tr>\n",
       "    <tr>\n",
       "      <td>24</td>\n",
       "      <td>1.805792</td>\n",
       "      <td>1.758346</td>\n",
       "      <td>0.463276</td>\n",
       "      <td>49:11</td>\n",
       "    </tr>\n",
       "    <tr>\n",
       "      <td>25</td>\n",
       "      <td>1.813792</td>\n",
       "      <td>1.743109</td>\n",
       "      <td>0.468095</td>\n",
       "      <td>49:08</td>\n",
       "    </tr>\n",
       "    <tr>\n",
       "      <td>26</td>\n",
       "      <td>1.822002</td>\n",
       "      <td>1.719695</td>\n",
       "      <td>0.474748</td>\n",
       "      <td>49:09</td>\n",
       "    </tr>\n",
       "    <tr>\n",
       "      <td>27</td>\n",
       "      <td>1.682144</td>\n",
       "      <td>1.701785</td>\n",
       "      <td>0.480616</td>\n",
       "      <td>50:48</td>\n",
       "    </tr>\n",
       "    <tr>\n",
       "      <td>28</td>\n",
       "      <td>1.707130</td>\n",
       "      <td>1.679946</td>\n",
       "      <td>0.487021</td>\n",
       "      <td>50:47</td>\n",
       "    </tr>\n",
       "    <tr>\n",
       "      <td>29</td>\n",
       "      <td>1.694629</td>\n",
       "      <td>1.660422</td>\n",
       "      <td>0.493408</td>\n",
       "      <td>50:21</td>\n",
       "    </tr>\n",
       "    <tr>\n",
       "      <td>30</td>\n",
       "      <td>1.648052</td>\n",
       "      <td>1.638781</td>\n",
       "      <td>0.499743</td>\n",
       "      <td>49:15</td>\n",
       "    </tr>\n",
       "    <tr>\n",
       "      <td>31</td>\n",
       "      <td>1.646478</td>\n",
       "      <td>1.619756</td>\n",
       "      <td>0.505796</td>\n",
       "      <td>49:47</td>\n",
       "    </tr>\n",
       "    <tr>\n",
       "      <td>32</td>\n",
       "      <td>1.631397</td>\n",
       "      <td>1.601551</td>\n",
       "      <td>0.511481</td>\n",
       "      <td>51:04</td>\n",
       "    </tr>\n",
       "    <tr>\n",
       "      <td>33</td>\n",
       "      <td>1.563596</td>\n",
       "      <td>1.585130</td>\n",
       "      <td>0.516612</td>\n",
       "      <td>49:25</td>\n",
       "    </tr>\n",
       "    <tr>\n",
       "      <td>34</td>\n",
       "      <td>1.580795</td>\n",
       "      <td>1.568546</td>\n",
       "      <td>0.521747</td>\n",
       "      <td>49:27</td>\n",
       "    </tr>\n",
       "    <tr>\n",
       "      <td>35</td>\n",
       "      <td>1.582117</td>\n",
       "      <td>1.556172</td>\n",
       "      <td>0.525802</td>\n",
       "      <td>49:23</td>\n",
       "    </tr>\n",
       "    <tr>\n",
       "      <td>36</td>\n",
       "      <td>1.512864</td>\n",
       "      <td>1.546525</td>\n",
       "      <td>0.528687</td>\n",
       "      <td>49:26</td>\n",
       "    </tr>\n",
       "    <tr>\n",
       "      <td>37</td>\n",
       "      <td>1.577631</td>\n",
       "      <td>1.540635</td>\n",
       "      <td>0.530579</td>\n",
       "      <td>49:25</td>\n",
       "    </tr>\n",
       "    <tr>\n",
       "      <td>38</td>\n",
       "      <td>1.560722</td>\n",
       "      <td>1.537739</td>\n",
       "      <td>0.531571</td>\n",
       "      <td>49:24</td>\n",
       "    </tr>\n",
       "    <tr>\n",
       "      <td>39</td>\n",
       "      <td>1.524099</td>\n",
       "      <td>1.537166</td>\n",
       "      <td>0.531748</td>\n",
       "      <td>50:46</td>\n",
       "    </tr>\n",
       "  </tbody>\n",
       "</table>"
      ],
      "text/plain": [
       "<IPython.core.display.HTML object>"
      ]
     },
     "metadata": {},
     "output_type": "display_data"
    }
   ],
   "source": [
    "learn.fit_one_cycle(40, 3e-3, moms=(0.8,0.7)) #new"
   ]
  },
  {
   "cell_type": "code",
   "execution_count": 13,
   "metadata": {},
   "outputs": [],
   "source": [
    "learn.save('swissp40epoch_0_2dropmult_53acc')"
   ]
  },
  {
   "cell_type": "code",
   "execution_count": 9,
   "metadata": {},
   "outputs": [],
   "source": [
    "learn.load('swissp40epoch_0_2dropmult_53acc');"
   ]
  },
  {
   "cell_type": "code",
   "execution_count": 10,
   "metadata": {},
   "outputs": [],
   "source": [
    "learn.save_encoder('swissp40epoch_0_2dropmult_53acc_enc')"
   ]
  },
  {
   "cell_type": "code",
   "execution_count": 15,
   "metadata": {},
   "outputs": [
    {
     "data": {
      "text/html": [
       "<table border=\"1\" class=\"dataframe\">\n",
       "  <thead>\n",
       "    <tr style=\"text-align: left;\">\n",
       "      <th>epoch</th>\n",
       "      <th>train_loss</th>\n",
       "      <th>valid_loss</th>\n",
       "      <th>accuracy</th>\n",
       "      <th>time</th>\n",
       "    </tr>\n",
       "  </thead>\n",
       "  <tbody>\n",
       "    <tr>\n",
       "      <td>0</td>\n",
       "      <td>1.554619</td>\n",
       "      <td>1.537474</td>\n",
       "      <td>0.531612</td>\n",
       "      <td>49:15</td>\n",
       "    </tr>\n",
       "    <tr>\n",
       "      <td>1</td>\n",
       "      <td>1.542405</td>\n",
       "      <td>1.535923</td>\n",
       "      <td>0.532152</td>\n",
       "      <td>49:13</td>\n",
       "    </tr>\n",
       "    <tr>\n",
       "      <td>2</td>\n",
       "      <td>1.530765</td>\n",
       "      <td>1.534554</td>\n",
       "      <td>0.532561</td>\n",
       "      <td>49:11</td>\n",
       "    </tr>\n",
       "    <tr>\n",
       "      <td>3</td>\n",
       "      <td>1.590924</td>\n",
       "      <td>1.533404</td>\n",
       "      <td>0.532922</td>\n",
       "      <td>49:14</td>\n",
       "    </tr>\n",
       "  </tbody>\n",
       "</table>"
      ],
      "text/plain": [
       "<IPython.core.display.HTML object>"
      ]
     },
     "metadata": {},
     "output_type": "display_data"
    }
   ],
   "source": [
    "learn.fit(4, 5e-5) # after above"
   ]
  },
  {
   "cell_type": "code",
   "execution_count": null,
   "metadata": {},
   "outputs": [],
   "source": []
  },
  {
   "cell_type": "code",
   "execution_count": 10,
   "metadata": {},
   "outputs": [
    {
     "data": {
      "text/plain": [
       "AWD_LSTM(\n",
       "  (encoder): Embedding(32, 400, padding_idx=1)\n",
       "  (encoder_dp): EmbeddingDropout(\n",
       "    (emb): Embedding(32, 400, padding_idx=1)\n",
       "  )\n",
       "  (rnns): ModuleList(\n",
       "    (0): WeightDropout(\n",
       "      (module): LSTM(400, 1152, batch_first=True)\n",
       "    )\n",
       "    (1): WeightDropout(\n",
       "      (module): LSTM(1152, 1152, batch_first=True)\n",
       "    )\n",
       "    (2): WeightDropout(\n",
       "      (module): LSTM(1152, 400, batch_first=True)\n",
       "    )\n",
       "  )\n",
       "  (input_dp): RNNDropout()\n",
       "  (hidden_dps): ModuleList(\n",
       "    (0): RNNDropout()\n",
       "    (1): RNNDropout()\n",
       "    (2): RNNDropout()\n",
       "  )\n",
       ")"
      ]
     },
     "execution_count": 10,
     "metadata": {},
     "output_type": "execute_result"
    }
   ],
   "source": [
    "aw = learn.model[0]; aw"
   ]
  },
  {
   "cell_type": "code",
   "execution_count": 11,
   "metadata": {},
   "outputs": [
    {
     "data": {
      "text/plain": [
       "('encoder.weight', Parameter containing:\n",
       " tensor([[ 0.4444, -0.1356,  0.1484,  ..., -0.1760,  0.0262, -0.1263],\n",
       "         [ 0.4444, -0.1356,  0.1484,  ..., -0.1760,  0.0262, -0.1263],\n",
       "         [ 0.1213, -1.2467, -0.2164,  ..., -0.3110,  1.5222, -4.0027],\n",
       "         ...,\n",
       "         [ 0.5065, -0.1015, -0.1425,  ..., -0.0086, -0.0285,  0.0102],\n",
       "         [ 0.4444, -0.1356,  0.1484,  ..., -0.1760,  0.0262, -0.1263],\n",
       "         [ 0.4444, -0.1356,  0.1484,  ..., -0.1760,  0.0262, -0.1263]],\n",
       "        device='cuda:0', requires_grad=True))"
      ]
     },
     "execution_count": 11,
     "metadata": {},
     "output_type": "execute_result"
    }
   ],
   "source": [
    "weightParam = next(aw.named_parameters()); weightParam"
   ]
  },
  {
   "cell_type": "code",
   "execution_count": 12,
   "metadata": {},
   "outputs": [
    {
     "data": {
      "text/plain": [
       "Parameter containing:\n",
       "tensor([[ 0.4444, -0.1356,  0.1484,  ..., -0.1760,  0.0262, -0.1263],\n",
       "        [ 0.4444, -0.1356,  0.1484,  ..., -0.1760,  0.0262, -0.1263],\n",
       "        [ 0.1213, -1.2467, -0.2164,  ..., -0.3110,  1.5222, -4.0027],\n",
       "        ...,\n",
       "        [ 0.5065, -0.1015, -0.1425,  ..., -0.0086, -0.0285,  0.0102],\n",
       "        [ 0.4444, -0.1356,  0.1484,  ..., -0.1760,  0.0262, -0.1263],\n",
       "        [ 0.4444, -0.1356,  0.1484,  ..., -0.1760,  0.0262, -0.1263]],\n",
       "       device='cuda:0', requires_grad=True)"
      ]
     },
     "execution_count": 12,
     "metadata": {},
     "output_type": "execute_result"
    }
   ],
   "source": [
    "p = weightParam[1]; p"
   ]
  },
  {
   "cell_type": "code",
   "execution_count": 13,
   "metadata": {},
   "outputs": [
    {
     "data": {
      "text/plain": [
       "torch.Size([32, 400])"
      ]
     },
     "execution_count": 13,
     "metadata": {},
     "output_type": "execute_result"
    }
   ],
   "source": [
    "p.shape"
   ]
  },
  {
   "cell_type": "code",
   "execution_count": 14,
   "metadata": {},
   "outputs": [
    {
     "data": {
      "text/plain": [
       "torch.Size([21, 3])"
      ]
     },
     "execution_count": 14,
     "metadata": {},
     "output_type": "execute_result"
    }
   ],
   "source": [
    "aapca = p[9:9+21].pca(3); aapca.shape"
   ]
  },
  {
   "cell_type": "code",
   "execution_count": 15,
   "metadata": {},
   "outputs": [
    {
     "data": {
      "text/plain": [
       "17"
      ]
     },
     "execution_count": 15,
     "metadata": {},
     "output_type": "execute_result"
    }
   ],
   "source": [
    "ulmputils.aaLetters.index('U')"
   ]
  },
  {
   "cell_type": "code",
   "execution_count": 16,
   "metadata": {},
   "outputs": [
    {
     "data": {
      "text/plain": [
       "(tensor([17.9907,  0.5116, -1.4092], device='cuda:0', grad_fn=<SelectBackward>),\n",
       " 'U')"
      ]
     },
     "execution_count": 16,
     "metadata": {},
     "output_type": "execute_result"
    }
   ],
   "source": [
    "aapca[17],ulmputils.aaLetters[17]"
   ]
  },
  {
   "cell_type": "code",
   "execution_count": 78,
   "metadata": {},
   "outputs": [
    {
     "data": {
      "text/plain": [
       "torch.Size([20, 2])"
      ]
     },
     "execution_count": 78,
     "metadata": {},
     "output_type": "execute_result"
    }
   ],
   "source": [
    "aapca = torch.cat((p[9:9+17],p[9+18:9+21])).pca(2); aapca.shape"
   ]
  },
  {
   "cell_type": "code",
   "execution_count": 79,
   "metadata": {},
   "outputs": [
    {
     "data": {
      "text/plain": [
       "('ACDEFGHIKLMNPQRSTVWY', 20)"
      ]
     },
     "execution_count": 79,
     "metadata": {},
     "output_type": "execute_result"
    }
   ],
   "source": [
    "aaLetters = ulmputils.aaLetters.replace('U',''); aaLetters, len(aaLetters)"
   ]
  },
  {
   "cell_type": "code",
   "execution_count": 80,
   "metadata": {},
   "outputs": [],
   "source": [
    "fac0,fac1 = aapca.t()"
   ]
  },
  {
   "cell_type": "code",
   "execution_count": 81,
   "metadata": {
    "scrolled": true
   },
   "outputs": [
    {
     "data": {
      "text/plain": [
       "[(tensor(-5.1123, device='cuda:0', grad_fn=<SelectBackward>), 'D'),\n",
       " (tensor(-4.4045, device='cuda:0', grad_fn=<SelectBackward>), 'E'),\n",
       " (tensor(-4.0296, device='cuda:0', grad_fn=<SelectBackward>), 'N'),\n",
       " (tensor(-3.5528, device='cuda:0', grad_fn=<SelectBackward>), 'K'),\n",
       " (tensor(-3.3124, device='cuda:0', grad_fn=<SelectBackward>), 'Q'),\n",
       " (tensor(-3.0135, device='cuda:0', grad_fn=<SelectBackward>), 'G'),\n",
       " (tensor(-2.5176, device='cuda:0', grad_fn=<SelectBackward>), 'R'),\n",
       " (tensor(-2.4894, device='cuda:0', grad_fn=<SelectBackward>), 'S'),\n",
       " (tensor(-1.6536, device='cuda:0', grad_fn=<SelectBackward>), 'H'),\n",
       " (tensor(-1.6461, device='cuda:0', grad_fn=<SelectBackward>), 'P'),\n",
       " (tensor(-1.0691, device='cuda:0', grad_fn=<SelectBackward>), 'A'),\n",
       " (tensor(-0.7968, device='cuda:0', grad_fn=<SelectBackward>), 'T'),\n",
       " (tensor(2.2799, device='cuda:0', grad_fn=<SelectBackward>), 'C'),\n",
       " (tensor(3.3543, device='cuda:0', grad_fn=<SelectBackward>), 'U'),\n",
       " (tensor(3.6073, device='cuda:0', grad_fn=<SelectBackward>), 'W'),\n",
       " (tensor(4.4650, device='cuda:0', grad_fn=<SelectBackward>), 'M'),\n",
       " (tensor(4.5212, device='cuda:0', grad_fn=<SelectBackward>), 'I'),\n",
       " (tensor(4.5967, device='cuda:0', grad_fn=<SelectBackward>), 'L'),\n",
       " (tensor(5.1910, device='cuda:0', grad_fn=<SelectBackward>), 'V'),\n",
       " (tensor(5.5823, device='cuda:0', grad_fn=<SelectBackward>), 'F')]"
      ]
     },
     "execution_count": 81,
     "metadata": {},
     "output_type": "execute_result"
    }
   ],
   "source": [
    "sorted(list(zip(fac0,ulmputils.aaLetters)))"
   ]
  },
  {
   "cell_type": "code",
   "execution_count": 87,
   "metadata": {
    "scrolled": true
   },
   "outputs": [
    {
     "data": {
      "image/png": "[encoded data removed]",
      "text/plain": [
       "<Figure size 1584x1584 with 1 Axes>"
      ]
     },
     "metadata": {
      "needs_background": "light"
     },
     "output_type": "display_data"
    }
   ],
   "source": [
    "def setAlpha(im) :\n",
    "    height,width = im.shape[:2]\n",
    "    for r in range(height) :\n",
    "        for c in range(width) :\n",
    "            pix = im[r,c]\n",
    "            if pix[0]==1.0 and pix[1]==1.0 and pix[2]==1.0 :\n",
    "                pix[3] = 0.3\n",
    "            else :\n",
    "                pix[3] = 1.0\n",
    "X,Y = fac0, fac1\n",
    "plt.figure(figsize=(22,22))\n",
    "ax = plt.subplot(111)\n",
    "plt.scatter(X, Y)\n",
    "for i, x, y in zip(aaLetters, X, Y):\n",
    "    im = plt.imread('aaims/'+i+'.png')\n",
    "    setAlpha(im)\n",
    "    imageBox = plt.matplotlib.offsetbox.AnnotationBbox(\n",
    "        plt.matplotlib.offsetbox.OffsetImage(im),\n",
    "        (x,y), pad=0.0, frameon=False,\n",
    "    )\n",
    "    ax.add_artist(imageBox)\n",
    "plt.savefig('aapca.png')\n",
    "plt.show()"
   ]
  },
  {
   "cell_type": "code",
   "execution_count": null,
   "metadata": {},
   "outputs": [],
   "source": []
  }
 ],
 "metadata": {
  "kernelspec": {
   "display_name": "Python 3",
   "language": "python",
   "name": "python3"
  },
  "language_info": {
   "codemirror_mode": {
    "name": "ipython",
    "version": 3
   },
   "file_extension": ".py",
   "mimetype": "text/x-python",
   "name": "python",
   "nbconvert_exporter": "python",
   "pygments_lexer": "ipython3",
   "version": "3.7.3"
  }
 },
 "nbformat": 4,
 "nbformat_minor": 2
}
