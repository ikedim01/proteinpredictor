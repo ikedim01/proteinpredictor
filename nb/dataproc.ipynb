{
 "cells": [
  {
   "cell_type": "markdown",
   "metadata": {},
   "source": [
    "# Dataset processing\n",
    "\n",
    "This notebook processes entries from the Swissprot database into datasets for our models. It assumes the Swissprot database has been downloaded in text format from https://www.uniprot.org/downloads and decompressed and saved to the `seqDirPath` directory defined below (the filename should then be `seqDirPath/'uniprot_sprot.dat'`)."
   ]
  },
  {
   "cell_type": "code",
   "execution_count": 1,
   "metadata": {},
   "outputs": [],
   "source": [
    "%reload_ext autoreload\n",
    "%autoreload 2\n",
    "%matplotlib inline"
   ]
  },
  {
   "cell_type": "markdown",
   "metadata": {},
   "source": [
    "### Import libraries:"
   ]
  },
  {
   "cell_type": "code",
   "execution_count": 2,
   "metadata": {},
   "outputs": [],
   "source": [
    "from fastai import *\n",
    "from fastai.text import *\n",
    "\n",
    "import pickle\n",
    "\n",
    "sys.path.append(\"..\")\n",
    "import readseq\n",
    "\n",
    "seqDirPath = Config().data_path()/'pseq'"
   ]
  },
  {
   "cell_type": "markdown",
   "metadata": {},
   "source": [
    "### Set up protein filtering:"
   ]
  },
  {
   "cell_type": "code",
   "execution_count": 3,
   "metadata": {},
   "outputs": [],
   "source": [
    "# Path to Swissprot database in flat file format:\n",
    "datFPath = seqDirPath/'uniprot_sprot.dat'\n",
    "\n",
    "# Filter proteins to those with only the 20 common amino acids,\n",
    "# between 40 and 500 aa in length, with evidence level <= 3,\n",
    "# not flagged as a transmembrane or as a fragment:\n",
    "lmFilterPars = dict(\n",
    "    restrictTo20AA = True,\n",
    "    minLen = 40,\n",
    "    maxLen = 500,\n",
    "    maxPE = 3,\n",
    "    requireInName='',\n",
    "    elimKWs = ['transmembrane'],\n",
    "    excludeStrs = ['fragment'],\n",
    ")\n",
    "\n",
    "# Same as above, but restricting to proteins flagged as transmembrane:\n",
    "lmTMFilterPars = dict(lmFilterPars,elimKWs=[],requireKWs=['transmembrane'])\n",
    "\n",
    "clusterLen = 30"
   ]
  },
  {
   "cell_type": "markdown",
   "metadata": {},
   "source": [
    "Check to make sure we're catching all transmembrane proteins:"
   ]
  },
  {
   "cell_type": "code",
   "execution_count": 4,
   "metadata": {},
   "outputs": [
    {
     "name": "stdout",
     "output_type": "stream",
     "text": [
      "Protein 0 keywords: ('activator', 'complete proteome', 'reference proteome', 'transcription', 'transcription regulation')\n",
      "Protein 1 keywords: ('complete proteome', 'host membrane', 'membrane', 'reference proteome', 'transmembrane', 'transmembrane helix')\n",
      "Protein 2 keywords: ('complete proteome', 'reference proteome')\n",
      "Protein 55 keywords: ('coiled coil', 'complete proteome', 'reference proteome')\n"
     ]
    },
    {
     "data": {
      "text/plain": [
       "(78965, 78965)"
      ]
     },
     "execution_count": 4,
     "metadata": {},
     "output_type": "execute_result"
    }
   ],
   "source": [
    "pKws = readseq.scanDat(datFPath,readseq.getDatKWs)\n",
    "for i in [0,1,2,55] :\n",
    "    print('Protein',i,'keywords:',pKws[i])\n",
    "(len([kwList for kwList in pKws if 'transmembrane' in kwList]),\n",
    " len([kwList for kwList in pKws if any('transmembrane' in kw.lower() for kw in kwList)]))"
   ]
  },
  {
   "cell_type": "markdown",
   "metadata": {},
   "source": [
    "Check some stats on our data:"
   ]
  },
  {
   "cell_type": "code",
   "execution_count": 5,
   "metadata": {
    "scrolled": true
   },
   "outputs": [
    {
     "name": "stdout",
     "output_type": "stream",
     "text": [
      "\n",
      "All organisms, all PE, not transmembrane:\n",
      "total length 97,318,324 in 382,034 sequences; 20 letters: ACDEFGHIKLMNPQRSTVWY\n",
      "\n",
      "All organisms, PE<=3, not transmembrane:\n",
      "total length 95,228,956 in 371,144 sequences; 20 letters: ACDEFGHIKLMNPQRSTVWY\n",
      "\n",
      "All organisms, PE<=3, transmembrane:\n",
      "total length 14,337,551 in 52,597 sequences; 20 letters: ACDEFGHIKLMNPQRSTVWY\n",
      "\n",
      "Human, PE<=3, not transmembrane:\n",
      "total length 2,395,489 in 8,492 sequences; 20 letters: ACDEFGHIKLMNPQRSTVWY\n"
     ]
    }
   ],
   "source": [
    "print(); print('All organisms, all PE, not transmembrane:')\n",
    "readseq.makeLMDataset(datFPath,lmFilterPars,maxPE=5);\n",
    "print(); print('All organisms, PE<=3, not transmembrane:')\n",
    "seqM = readseq.makeLMDataset(datFPath,lmFilterPars);\n",
    "print(); print('All organisms, PE<=3, transmembrane:')\n",
    "readseq.makeLMDataset(datFPath,lmTMFilterPars);\n",
    "print(); print('Human, PE<=3, not transmembrane:')\n",
    "readseq.makeLMDataset(datFPath,lmFilterPars,requireInSpecies='homo sapiens');"
   ]
  },
  {
   "cell_type": "markdown",
   "metadata": {},
   "source": [
    "### A quick look at amino acid frequencies over our main dataset.\n",
    "\n",
    "I found it surprising that the distribution looks so linear!"
   ]
  },
  {
   "cell_type": "code",
   "execution_count": 6,
   "metadata": {},
   "outputs": [
    {
     "name": "stdout",
     "output_type": "stream",
     "text": [
      "Amino acid frequencies:\n",
      "W: 886,640\n",
      "C: 1,254,646\n",
      "H: 2,196,500\n",
      "M: 2,342,405\n",
      "Y: 2,679,014\n",
      "F: 3,399,514\n",
      "Q: 3,622,288\n",
      "N: 3,682,235\n",
      "P: 4,300,051\n",
      "T: 4,965,028\n",
      "D: 5,423,404\n",
      "R: 5,554,642\n",
      "S: 5,650,064\n",
      "I: 5,679,305\n",
      "K: 5,759,110\n",
      "E: 6,639,100\n",
      "V: 6,777,441\n",
      "G: 7,096,181\n",
      "A: 8,424,227\n",
      "L: 8,897,161\n"
     ]
    }
   ],
   "source": [
    "aaFreqs = sorted(readseq.cCounts(seqM.values()).items(), key=lambda x:x[1])\n",
    "print('Amino acid frequencies:')\n",
    "for aaLet,freq in aaFreqs :\n",
    "    print('{}: {:,}'.format(aaLet,freq))"
   ]
  },
  {
   "cell_type": "code",
   "execution_count": 7,
   "metadata": {
    "scrolled": true
   },
   "outputs": [
    {
     "data": {
      "image/png": "[encoded data removed]",
      "text/plain": [
       "<Figure size 432x432 with 1 Axes>"
      ]
     },
     "metadata": {
      "needs_background": "light"
     },
     "output_type": "display_data"
    }
   ],
   "source": [
    "plt.figure(figsize=(6,6))\n",
    "plt.scatter(range(len(aaFreqs)), [freq for _,freq in aaFreqs], color=(0.9,0.9,0.9))\n",
    "for i,(aaLet,freq) in enumerate(aaFreqs) :\n",
    "    plt.text(i,freq,aaLet,color='green')\n",
    "plt.show()"
   ]
  },
  {
   "cell_type": "markdown",
   "metadata": {},
   "source": [
    "### Generate datasets for language models:"
   ]
  },
  {
   "cell_type": "code",
   "execution_count": 8,
   "metadata": {},
   "outputs": [
    {
     "name": "stdout",
     "output_type": "stream",
     "text": [
      "\n",
      "Generating dataset swissprotPE3AA20NoTM - all organisms, PE<=3, not transmembrane:\n",
      "total length 95,228,956 in 371,144 sequences; 20 letters: ACDEFGHIKLMNPQRSTVWY\n",
      "length-30 subsequences: total 84,465,780, unique 56,316,364\n",
      "157,248 clusters; identifier counts: 371,144, 371,144\n",
      "\n",
      "Generating dataset swissprotPE3AA20TM - all organisms, PE<=3, transmembrane:\n",
      "total length 14,337,551 in 52,597 sequences; 20 letters: ACDEFGHIKLMNPQRSTVWY\n",
      "length-30 subsequences: total 12,812,238, unique 8,873,011\n",
      "23,861 clusters; identifier counts: 52,597, 52,597\n"
     ]
    }
   ],
   "source": [
    "lmDatasetList = [\n",
    "    ('swissprotPE3AA20NoTM','all organisms, PE<=3, not transmembrane',lmFilterPars),\n",
    "    ('swissprotPE3AA20TM','all organisms, PE<=3, transmembrane',lmTMFilterPars),\n",
    "]\n",
    "for lmFName,desc,pars in lmDatasetList :\n",
    "    print(); print('Generating dataset',lmFName,'-',desc+':')\n",
    "    readseq.makeLMDataset(datFPath,pars,seqDirPath/(lmFName+'.csv'),\n",
    "                          seqDirPath/(lmFName+'clusters.csv'),clusterLen)"
   ]
  },
  {
   "cell_type": "markdown",
   "metadata": {},
   "source": [
    "### Generate datasets for classification:"
   ]
  },
  {
   "cell_type": "code",
   "execution_count": 9,
   "metadata": {},
   "outputs": [
    {
     "name": "stdout",
     "output_type": "stream",
     "text": [
      "\n",
      "Overall frequencies for atpBind: Counter({'neg': 473231, 'pos': 88125})\n",
      "Generating swissprotPE3AA20NoTM_atpBind dataset:\n",
      "train: 278510 valid: 23728 test: 15558 skipped: 53348 clusters: 157248\n",
      "Generating swissprotPE3AA20TM_atpBind dataset:\n",
      "train: 39320 valid: 3648 test: 2422 skipped: 7207 clusters: 23861\n",
      "\n",
      "Overall frequencies for gtpBind: Counter({'neg': 546803, 'pos': 14553})\n",
      "Generating swissprotPE3AA20NoTM_gtpBind dataset:\n",
      "train: 278510 valid: 23728 test: 15558 skipped: 53348 clusters: 157248\n",
      "Generating swissprotPE3AA20TM_gtpBind dataset:\n",
      "train: 39320 valid: 3648 test: 2422 skipped: 7207 clusters: 23861\n",
      "\n",
      "Overall frequencies for metalBind: Counter({'neg': 505764, 'pos': 55592})\n",
      "Generating swissprotPE3AA20NoTM_metalBind dataset:\n",
      "train: 278510 valid: 23728 test: 15558 skipped: 53348 clusters: 157248\n",
      "Generating swissprotPE3AA20TM_metalBind dataset:\n",
      "train: 39320 valid: 3648 test: 2422 skipped: 7207 clusters: 23861\n"
     ]
    }
   ],
   "source": [
    "def makeClasDataset(lmFName,dsName,propFn,propKwArgs={},**kwargs) :\n",
    "    fullDsName = lmFName+'_'+dsName\n",
    "    print('Generating',fullDsName,'dataset:')\n",
    "    readseq.makeClasDataset(datFPath,seqDirPath/(lmFName+'clusters.csv'),\n",
    "                            propFn,propKwArgs,\n",
    "                            seqDirPath/(fullDsName+'Train.csv'),\n",
    "                            seqDirPath/(fullDsName+'Test.csv'),\n",
    "                            **kwargs)\n",
    "\n",
    "for dsName,fn,nCopies in [\n",
    "        ('atpBind',readseq.getDatAtpBinding,1),\n",
    "        ('gtpBind',readseq.getDatGtpBinding,10),\n",
    "        ('metalBind',readseq.getDatMetalBinding,3),\n",
    "    ] :\n",
    "    print(); print('Overall frequencies for',dsName+':',readseq.countDat(datFPath,fn))\n",
    "    for lmFName,_,_ in lmDatasetList :\n",
    "        makeClasDataset(lmFName,dsName,fn,nCopiesFn=readseq.dupPos(nCopies))"
   ]
  },
  {
   "cell_type": "code",
   "execution_count": null,
   "metadata": {},
   "outputs": [],
   "source": []
  }
 ],
 "metadata": {
  "kernelspec": {
   "display_name": "Python 3",
   "language": "python",
   "name": "python3"
  },
  "language_info": {
   "codemirror_mode": {
    "name": "ipython",
    "version": 3
   },
   "file_extension": ".py",
   "mimetype": "text/x-python",
   "name": "python",
   "nbconvert_exporter": "python",
   "pygments_lexer": "ipython3",
   "version": "3.7.3"
  }
 },
 "nbformat": 4,
 "nbformat_minor": 2
}
