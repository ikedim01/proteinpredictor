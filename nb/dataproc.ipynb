{
 "cells": [
  {
   "cell_type": "code",
   "execution_count": 1,
   "metadata": {},
   "outputs": [],
   "source": [
    "%reload_ext autoreload\n",
    "%autoreload 2\n",
    "%matplotlib inline"
   ]
  },
  {
   "cell_type": "code",
   "execution_count": 2,
   "metadata": {},
   "outputs": [],
   "source": [
    "from fastai import *\n",
    "from fastai.text import *\n",
    "\n",
    "import pickle\n",
    "\n",
    "sys.path.append(\"..\")\n",
    "import readseq\n",
    "import ulmputils\n",
    "\n",
    "seqDirPath = Config().data_path()/'pseq'"
   ]
  },
  {
   "cell_type": "markdown",
   "metadata": {},
   "source": [
    "This notebook processes entries from the Swissprot database into datasets for our models. It assumes the swissprot database has been downloaded in text format from https://www.uniprot.org/downloads and decompressed and saved to the seqDirPath directory."
   ]
  },
  {
   "cell_type": "code",
   "execution_count": 3,
   "metadata": {},
   "outputs": [],
   "source": [
    "datFPath = seqDirPath/'uniprot_sprot.dat'\n",
    "lmFilterPars = dict(\n",
    "    skipUndet = True,\n",
    "    skipPyl = True,\n",
    "    minLen = 40,\n",
    "    maxLen = 500,\n",
    "    maxPE = 3,\n",
    "    requireInName='',\n",
    "    excludeStrs = ['fragment'],\n",
    ")\n",
    "clusterLen = 30"
   ]
  },
  {
   "cell_type": "code",
   "execution_count": 4,
   "metadata": {},
   "outputs": [
    {
     "name": "stdout",
     "output_type": "stream",
     "text": [
      "Stats:\n",
      "all organisms, all PE:\n",
      "total length 112,142,558 in 437,134 sequences; 21 letters: ACDEFGHIKLMNPQRSTUVWY\n",
      "all organisms, PE<=3:\n",
      "total length 109,617,240 in 423,957 sequences; 21 letters: ACDEFGHIKLMNPQRSTUVWY\n",
      "human, all PE:\n",
      "total length 3,482,136 in 12,287 sequences; 21 letters: ACDEFGHIKLMNPQRSTUVWY\n",
      "human, PE<=3:\n",
      "total length 3,353,716 in 11,620 sequences; 21 letters: ACDEFGHIKLMNPQRSTUVWY\n"
     ]
    }
   ],
   "source": [
    "print('Stats:')\n",
    "print('all organisms, all PE:')\n",
    "readseq.makeLMDataset(datFPath,lmFilterPars,maxPE=5);\n",
    "print('all organisms, PE<=3:')\n",
    "seqM = readseq.makeLMDataset(datFPath,lmFilterPars,maxPE=3);\n",
    "print('human, all PE:')\n",
    "readseq.makeLMDataset(datFPath,lmFilterPars,maxPE=5,requireInOS='homo sapiens');\n",
    "print('human, PE<=3:')\n",
    "readseq.makeLMDataset(datFPath,lmFilterPars,maxPE=3,requireInOS='homo sapiens');"
   ]
  },
  {
   "cell_type": "code",
   "execution_count": 5,
   "metadata": {},
   "outputs": [
    {
     "name": "stdout",
     "output_type": "stream",
     "text": [
      "Amino acid frequencies:\n",
      "U: 289\n",
      "W: 1,164,030\n",
      "C: 1,459,316\n",
      "H: 2,480,873\n",
      "M: 2,777,797\n",
      "Y: 3,154,588\n",
      "Q: 4,073,212\n",
      "N: 4,196,086\n",
      "F: 4,235,456\n",
      "P: 4,953,227\n",
      "T: 5,752,494\n",
      "D: 5,917,458\n",
      "R: 6,172,081\n",
      "K: 6,350,756\n",
      "S: 6,648,585\n",
      "I: 6,732,226\n",
      "E: 7,220,784\n",
      "V: 7,849,836\n",
      "G: 8,137,174\n",
      "A: 9,654,120\n",
      "L: 10,686,852\n"
     ]
    }
   ],
   "source": [
    "aaFreqs = sorted(readseq.cCounts(seqM.values()).items(), key=lambda x:x[1])\n",
    "print('Amino acid frequencies:')\n",
    "for aaLet,freq in aaFreqs :\n",
    "    print('{}: {:,}'.format(aaLet,freq))"
   ]
  },
  {
   "cell_type": "code",
   "execution_count": 6,
   "metadata": {},
   "outputs": [
    {
     "data": {
      "image/png": "[encoded data removed]",
      "text/plain": [
       "<Figure size 576x576 with 1 Axes>"
      ]
     },
     "metadata": {
      "needs_background": "light"
     },
     "output_type": "display_data"
    }
   ],
   "source": [
    "plt.figure(figsize=(8,8))\n",
    "plt.scatter(range(20), [freq for _,freq in aaFreqs[1:]],color=(0.9,0.9,0.9))\n",
    "for i,(aaLet,freq) in enumerate(aaFreqs[1:]) :\n",
    "    plt.text(i,freq,aaLet,color='green')\n",
    "plt.show()"
   ]
  },
  {
   "cell_type": "code",
   "execution_count": 7,
   "metadata": {},
   "outputs": [
    {
     "name": "stdout",
     "output_type": "stream",
     "text": [
      "generating PE<=3 set, all organisms\n",
      "total length 109,617,240 in 423,957 sequences; 21 letters: ACDEFGHIKLMNPQRSTUVWY\n",
      "length-30 subsequences: total 97,322,487, unique 65,216,756\n",
      "181,118 clusters; identifier counts: 423,957, 423,957\n"
     ]
    }
   ],
   "source": [
    "fName = 'swissprotPE3'\n",
    "print('generating PE<=3 set, all organisms')\n",
    "readseq.makeLMDataset(datFPath,lmFilterPars,seqDirPath/(fName+'.csv'),\n",
    "                      seqDirPath/(fName+'clusters.csv'),clusterLen,\n",
    "                      maxPE=3);"
   ]
  },
  {
   "cell_type": "code",
   "execution_count": 8,
   "metadata": {},
   "outputs": [
    {
     "name": "stdout",
     "output_type": "stream",
     "text": [
      "\n",
      "Generating atpBind dataset:\n",
      "train: 317366 valid: 27268 test: 17884 skipped: 61439 clusters: 181118\n",
      "Counter({'neg': 473231, 'pos': 88125})\n",
      "\n",
      "Generating gtpBind dataset:\n",
      "train: 317366 valid: 27268 test: 17884 skipped: 61439 clusters: 181118\n",
      "Counter({'neg': 546803, 'pos': 14553})\n",
      "\n",
      "Generating metalBind dataset:\n",
      "train: 317366 valid: 27268 test: 17884 skipped: 61439 clusters: 181118\n",
      "Counter({'neg': 505764, 'pos': 55592})\n"
     ]
    }
   ],
   "source": [
    "def makeClasDataset(trSetName,propFn,propKwArgs={},**kwargs) :\n",
    "    print()\n",
    "    print('Generating',trSetName,'dataset:')\n",
    "    readseq.makeClasDataset(datFPath,seqDirPath/(fName+'clusters.csv'),\n",
    "                            propFn,propKwArgs,\n",
    "                            seqDirPath/(fName+trSetName+'Train.csv'),\n",
    "                            seqDirPath/(fName+trSetName+'Test.csv'),\n",
    "                            **kwargs)\n",
    "for name,fn,nCopies in [\n",
    "            ('atpBind',readseq.getDatAtpBinding,1),\n",
    "            ('gtpBind',readseq.getDatGtpBinding,10),\n",
    "            ('metalBind',readseq.getDatMetalBinding,3),\n",
    "        ] :\n",
    "    makeClasDataset(name,fn,nCopiesFn=readseq.dupPos(nCopies))\n",
    "    print(readseq.countDat(datFPath,fn))"
   ]
  },
  {
   "cell_type": "code",
   "execution_count": null,
   "metadata": {},
   "outputs": [],
   "source": []
  }
 ],
 "metadata": {
  "kernelspec": {
   "display_name": "Python 3",
   "language": "python",
   "name": "python3"
  },
  "language_info": {
   "codemirror_mode": {
    "name": "ipython",
    "version": 3
   },
   "file_extension": ".py",
   "mimetype": "text/x-python",
   "name": "python",
   "nbconvert_exporter": "python",
   "pygments_lexer": "ipython3",
   "version": "3.7.3"
  }
 },
 "nbformat": 4,
 "nbformat_minor": 2
}
