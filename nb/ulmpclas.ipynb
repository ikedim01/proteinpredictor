{
 "cells": [
  {
   "cell_type": "markdown",
   "metadata": {},
   "source": [
    "# Protein classifier training\n",
    "\n",
    "This notebook trains classifiers for applying ULMFit to protein sequences. The dataproc and ulmptrain notebooks should be run first to create datasets and train language models."
   ]
  },
  {
   "cell_type": "code",
   "execution_count": 1,
   "metadata": {},
   "outputs": [],
   "source": [
    "%reload_ext autoreload\n",
    "%autoreload 2\n",
    "%matplotlib inline"
   ]
  },
  {
   "cell_type": "markdown",
   "metadata": {},
   "source": [
    "### Import libraries:"
   ]
  },
  {
   "cell_type": "code",
   "execution_count": 2,
   "metadata": {},
   "outputs": [],
   "source": [
    "from fastai import *\n",
    "from fastai.text import *\n",
    "\n",
    "import pickle\n",
    "\n",
    "sys.path.append(\"..\")\n",
    "import readseq\n",
    "import ulmputils\n",
    "\n",
    "seqDirPath = Config().data_path()/'pseq'\n",
    "ulmputils.modelDirPath = modelDirPath = seqDirPath/'models'"
   ]
  },
  {
   "cell_type": "markdown",
   "metadata": {},
   "source": [
    "### Create classifier data bunch:\n",
    "from dataset CSV files generated using makeClasDataset in the dataproc notebook."
   ]
  },
  {
   "cell_type": "code",
   "execution_count": 3,
   "metadata": {},
   "outputs": [],
   "source": [
    "bs = 64\n",
    "def makeClasDatabunch(lmFName,dsName) :\n",
    "    l = TextList.from_csv(seqDirPath,lmFName+'_'+dsName+'Train.csv', cols='sequence',\n",
    "                          processor=ulmputils.processor)\n",
    "    lspl = l.split_from_df('is_valid')\n",
    "    llab = lspl.label_from_df('label')\n",
    "    res = llab.databunch(bs=bs)\n",
    "    return res"
   ]
  },
  {
   "cell_type": "code",
   "execution_count": 4,
   "metadata": {},
   "outputs": [],
   "source": [
    "# makeClasDatabunch('swissprotPE3AA20NoTM','atpBind')"
   ]
  },
  {
   "cell_type": "markdown",
   "metadata": {},
   "source": [
    "### Set up hyperparameters for training classifiers:\n",
    "Should match those used to train language models in the ulmptrain notebook."
   ]
  },
  {
   "cell_type": "code",
   "execution_count": 5,
   "metadata": {},
   "outputs": [],
   "source": [
    "pref = 'awd_lstm'\n",
    "clasPars = dict(awd_lstm_clas_config,\n",
    "    emb_sz = 400,\n",
    "    n_hid = 1152,\n",
    "    n_layers = 3,\n",
    "    qrnn = False,\n",
    ")\n",
    "archPars = dict(\n",
    "    drop_mult=0.2,\n",
    ")"
   ]
  },
  {
   "cell_type": "markdown",
   "metadata": {},
   "source": [
    "### Create and train classifier:"
   ]
  },
  {
   "cell_type": "code",
   "execution_count": 6,
   "metadata": {},
   "outputs": [],
   "source": [
    "def tryClasTraining(lmFName, dsName, nEpochs, lr,\n",
    "                    moms=(0.8,0.7), metrics=accuracy, seed=31415) :\n",
    "    global data, learn, modelFName\n",
    "    data = makeClasDatabunch(lmFName,dsName)\n",
    "    if seed is not None :\n",
    "        ulmputils.randomSeedForTraining(seed)\n",
    "    learn = text_classifier_learner(data, AWD_LSTM, config=clasPars,\n",
    "                                    pretrained=False, metrics=metrics,\n",
    "                                    **archPars)\n",
    "    print('Loss function:',learn.loss_func)\n",
    "    encoderFName = ulmputils.getModelFNameFromHyperPars(pref+'_'+lmFName,\n",
    "                                              (clasPars,awd_lstm_clas_config),archPars)\n",
    "    learn.load_encoder(encoderFName+'_enc')\n",
    "    modelFName = encoderFName + '_' + dsName\n",
    "    #learn.lr_find()\n",
    "    #learn.recorder.plot()\n",
    "    learn.fit_one_cycle(nEpochs, lr, moms=moms)"
   ]
  },
  {
   "cell_type": "markdown",
   "metadata": {},
   "source": [
    "### Calculate precision, recall, etc:"
   ]
  },
  {
   "cell_type": "code",
   "execution_count": 7,
   "metadata": {},
   "outputs": [],
   "source": [
    "def filterP1AndTarg(thresh,p1AndTarg,fn,reverse=True,returnPred=False) :\n",
    "    fList = [(i,pred) for i,(targ,pred) in enumerate(p1AndTarg) if fn(targ,pred,thresh)]\n",
    "    fList.sort(key = lambda x : x[1], reverse=reverse)\n",
    "    if not returnPred :\n",
    "        fList = [i for i,pred in fList]\n",
    "    return fList\n",
    "def truePos(thresh,p1AndTarg,reverse=True,returnPred=False) :\n",
    "    return filterP1AndTarg(thresh,p1AndTarg,\n",
    "                           lambda targ,pred,thresh : targ==1 and pred>=thresh,\n",
    "                           reverse,returnPred)\n",
    "def falsePos(thresh,p1AndTarg,reverse=True,returnPred=False) :\n",
    "    return filterP1AndTarg(thresh,p1AndTarg,\n",
    "                           lambda targ,pred,thresh : targ==0 and pred>=thresh,\n",
    "                           reverse,returnPred)\n",
    "def falseNeg(thresh,p1AndTarg,reverse=True,returnPred=False) :\n",
    "    return filterP1AndTarg(thresh,p1AndTarg,\n",
    "                           lambda targ,pred,thresh : targ==1 and pred<thresh,\n",
    "                           reverse,returnPred)\n",
    "def printLearnInfo(learn) :\n",
    "    p = learn.get_preds(ordered=True)\n",
    "    p1 = p[0][:,1]\n",
    "    p1AndTarg = list(zip(p[1].tolist(),p1.tolist()))\n",
    "    validDF, trainDF = learn.data.valid_ds.inner_df, learn.data.train_ds.inner_df\n",
    "    validIds, validNames, validSeqs = (validDF.identifier.values,\n",
    "                                       validDF.name.values, validDF.sequence.values)\n",
    "    trainSeqs, trainLabels = trainDF.sequence.values, trainDF.label.values\n",
    "    trainPosSeqs = [sequence for sequence,label in zip(trainSeqs,trainLabels)\n",
    "                    if label=='pos']\n",
    "    for thresh in [0.05,0.1,0.15,0.2,0.25,0.3,0.4,0.5,0.6,0.7,0.8] :\n",
    "        nTruePos,nFalsePos,nFalseNeg = (\n",
    "              len(truePos(thresh,p1AndTarg)),\n",
    "              len(falsePos(thresh,p1AndTarg)),\n",
    "              len(falseNeg(thresh,p1AndTarg))\n",
    "        )\n",
    "        recall = nTruePos/(nTruePos+nFalseNeg)\n",
    "        precision = nTruePos/(nTruePos+nFalsePos)\n",
    "        print('{} - recall {:.3f} precision {:.3f} F1 {:.3f}'.format(thresh,\n",
    "                        recall,precision,2/(1/recall+1/precision)))\n",
    "        #print(thresh,'-',\n",
    "        #      len(truePos(thresh,p1AndTarg)),\n",
    "        #      len(falsePos(thresh,p1AndTarg)),\n",
    "        #      len(falseNeg(thresh,p1AndTarg)))\n",
    "        #if thresh == 0.5 :\n",
    "        #    print('True pos:')\n",
    "        #    for i in truePos(thresh,p1AndTarg) :\n",
    "        #        print(validNames[i],\n",
    "        #              readseq.findLongestRepeat(validSeqs[i],trainPosSeqs))\n",
    "        #    print('False neg:',[validNames[i] for i in falseNeg(thresh,p1AndTarg)])\n",
    "    print('Most likely new positives:')\n",
    "    for i,pred in falsePos(0.0,p1AndTarg,returnPred=True)[:20] :\n",
    "        print(pred,validIds[i],validNames[i],\n",
    "                      #readseq.findLongestRepeat(validSeqs[i],trainPosSeqs)\n",
    "             )"
   ]
  },
  {
   "cell_type": "markdown",
   "metadata": {},
   "source": [
    "### Try predicting some properties:"
   ]
  },
  {
   "cell_type": "code",
   "execution_count": 11,
   "metadata": {
    "scrolled": false
   },
   "outputs": [
    {
     "name": "stdout",
     "output_type": "stream",
     "text": [
      "Loss function: FlattenedLoss of CrossEntropyLoss()\n"
     ]
    },
    {
     "data": {
      "text/html": [
       "<table border=\"1\" class=\"dataframe\">\n",
       "  <thead>\n",
       "    <tr style=\"text-align: left;\">\n",
       "      <th>epoch</th>\n",
       "      <th>train_loss</th>\n",
       "      <th>valid_loss</th>\n",
       "      <th>accuracy</th>\n",
       "      <th>time</th>\n",
       "    </tr>\n",
       "  </thead>\n",
       "  <tbody>\n",
       "    <tr>\n",
       "      <td>0</td>\n",
       "      <td>0.056342</td>\n",
       "      <td>0.019075</td>\n",
       "      <td>0.996797</td>\n",
       "      <td>20:23</td>\n",
       "    </tr>\n",
       "    <tr>\n",
       "      <td>1</td>\n",
       "      <td>0.045514</td>\n",
       "      <td>0.014813</td>\n",
       "      <td>0.996923</td>\n",
       "      <td>21:10</td>\n",
       "    </tr>\n",
       "    <tr>\n",
       "      <td>2</td>\n",
       "      <td>0.045548</td>\n",
       "      <td>0.023521</td>\n",
       "      <td>0.996123</td>\n",
       "      <td>21:21</td>\n",
       "    </tr>\n",
       "    <tr>\n",
       "      <td>3</td>\n",
       "      <td>0.029890</td>\n",
       "      <td>0.009145</td>\n",
       "      <td>0.998061</td>\n",
       "      <td>20:28</td>\n",
       "    </tr>\n",
       "    <tr>\n",
       "      <td>4</td>\n",
       "      <td>0.027956</td>\n",
       "      <td>0.012062</td>\n",
       "      <td>0.997809</td>\n",
       "      <td>21:49</td>\n",
       "    </tr>\n",
       "  </tbody>\n",
       "</table>"
      ],
      "text/plain": [
       "<IPython.core.display.HTML object>"
      ]
     },
     "metadata": {},
     "output_type": "display_data"
    }
   ],
   "source": [
    "tryClasTraining('swissprotPE3AA20NoTM', 'gtpBind', 5, 1e-2)"
   ]
  },
  {
   "cell_type": "code",
   "execution_count": 12,
   "metadata": {},
   "outputs": [
    {
     "name": "stdout",
     "output_type": "stream",
     "text": [
      "0.05 - recall 0.977 precision 0.333 F1 0.496\n",
      "0.1 - recall 0.973 precision 0.569 F1 0.718\n",
      "0.15 - recall 0.964 precision 0.721 F1 0.825\n",
      "0.2 - recall 0.962 precision 0.802 F1 0.874\n",
      "0.25 - recall 0.957 precision 0.849 F1 0.900\n",
      "0.3 - recall 0.952 precision 0.873 F1 0.911\n",
      "0.4 - recall 0.950 precision 0.913 F1 0.931\n",
      "0.5 - recall 0.948 precision 0.935 F1 0.942\n",
      "0.6 - recall 0.946 precision 0.954 F1 0.950\n",
      "0.7 - recall 0.937 precision 0.974 F1 0.955\n",
      "0.8 - recall 0.928 precision 0.983 F1 0.955\n",
      "Most likely new positives:\n",
      "0.983332633972168 A5PJI7 Translation initiation factor eIF-2B subunit gamma\n",
      "0.9307911396026611 P55243 Glucose-1-phosphate adenylyltransferase large subunit 3, chloroplastic/amyloplastic (Precursor)\n",
      "0.9252060055732727 P76556 Ethanolamine utilization protein EutP\n",
      "0.890681803226471 Q00188 Protein TraL\n",
      "0.8312211036682129 P09396 Movement and silencing protein TGBp1\n",
      "0.8227682113647461 A4WLK1 Nucleoside-triphosphatase THEP1 {ECO:0000255|HAMAP-Rule:MF_00796}\n",
      "0.8119547367095947 O43543 DNA repair protein XRCC2\n",
      "0.7901793718338013 B7GLK2 Bis(5'-nucleosyl)-tetraphosphatase PrpE [asymmetrical] {ECO:0000255|HAMAP-Rule:MF_01443}\n",
      "0.7814822793006897 P27897 UTP--glucose-1-phosphate uridylyltransferase\n",
      "0.7658289074897766 P67172 tRNA threonylcarbamoyladenosine biosynthesis protein TsaE\n",
      "0.7310918569564819 B2A6V4 Nucleoside-triphosphatase THEP1 {ECO:0000255|HAMAP-Rule:MF_00796}\n",
      "0.6965464949607849 Q09629 Probable adenylate kinase isoenzyme ZK673.2\n",
      "0.6676437854766846 Q869Q0 COBW domain-containing protein DDB_G0274527\n",
      "0.6616805791854858 Q8ZTE6 Nucleoside-triphosphatase THEP1 {ECO:0000255|HAMAP-Rule:MF_00796}\n",
      "0.645394504070282 O74310 COBW domain-containing protein C15D4.05\n",
      "0.6446993947029114 O43237 Cytoplasmic dynein 1 light intermediate chain 2\n",
      "0.6247053742408752 A8MB70 Nucleoside-triphosphatase THEP1 {ECO:0000255|HAMAP-Rule:MF_00796}\n",
      "0.6216577887535095 O27140 Nucleoside-triphosphatase THEP1 {ECO:0000255|HAMAP-Rule:MF_00796}\n",
      "0.6205764412879944 Q1LZ78 Cancer-related nucleoside-triphosphatase homolog\n",
      "0.6157506108283997 Q8TCB0 Interferon-induced protein 44\n"
     ]
    }
   ],
   "source": [
    "printLearnInfo(learn)"
   ]
  },
  {
   "cell_type": "code",
   "execution_count": 23,
   "metadata": {},
   "outputs": [
    {
     "name": "stdout",
     "output_type": "stream",
     "text": [
      "Saving awd_lstm_swissprotPE3AA20NoTM_drop_mult_0_2_gtpBind\n"
     ]
    }
   ],
   "source": [
    "ulmputils.saveNextModelVersion(learn,modelFName)"
   ]
  },
  {
   "cell_type": "code",
   "execution_count": 8,
   "metadata": {
    "scrolled": true
   },
   "outputs": [
    {
     "name": "stdout",
     "output_type": "stream",
     "text": [
      "Loss function: FlattenedLoss of CrossEntropyLoss()\n"
     ]
    },
    {
     "data": {
      "text/html": [
       "<table border=\"1\" class=\"dataframe\">\n",
       "  <thead>\n",
       "    <tr style=\"text-align: left;\">\n",
       "      <th>epoch</th>\n",
       "      <th>train_loss</th>\n",
       "      <th>valid_loss</th>\n",
       "      <th>accuracy</th>\n",
       "      <th>time</th>\n",
       "    </tr>\n",
       "  </thead>\n",
       "  <tbody>\n",
       "    <tr>\n",
       "      <td>0</td>\n",
       "      <td>0.106700</td>\n",
       "      <td>0.078760</td>\n",
       "      <td>0.978254</td>\n",
       "      <td>16:52</td>\n",
       "    </tr>\n",
       "    <tr>\n",
       "      <td>1</td>\n",
       "      <td>0.085162</td>\n",
       "      <td>0.072583</td>\n",
       "      <td>0.979096</td>\n",
       "      <td>14:51</td>\n",
       "    </tr>\n",
       "    <tr>\n",
       "      <td>2</td>\n",
       "      <td>0.081038</td>\n",
       "      <td>0.061042</td>\n",
       "      <td>0.982089</td>\n",
       "      <td>14:18</td>\n",
       "    </tr>\n",
       "    <tr>\n",
       "      <td>3</td>\n",
       "      <td>0.056390</td>\n",
       "      <td>0.052795</td>\n",
       "      <td>0.984154</td>\n",
       "      <td>15:39</td>\n",
       "    </tr>\n",
       "    <tr>\n",
       "      <td>4</td>\n",
       "      <td>0.065770</td>\n",
       "      <td>0.050603</td>\n",
       "      <td>0.985207</td>\n",
       "      <td>15:54</td>\n",
       "    </tr>\n",
       "  </tbody>\n",
       "</table>"
      ],
      "text/plain": [
       "<IPython.core.display.HTML object>"
      ]
     },
     "metadata": {},
     "output_type": "display_data"
    }
   ],
   "source": [
    "tryClasTraining('swissprotPE3AA20NoTM', 'atpBind', 5, 1e-2)"
   ]
  },
  {
   "cell_type": "code",
   "execution_count": 9,
   "metadata": {},
   "outputs": [
    {
     "name": "stdout",
     "output_type": "stream",
     "text": [
      "0.05 - recall 0.969 precision 0.628 F1 0.762\n",
      "0.1 - recall 0.932 precision 0.901 F1 0.916\n",
      "0.15 - recall 0.923 precision 0.946 F1 0.934\n",
      "0.2 - recall 0.917 precision 0.963 F1 0.939\n",
      "0.25 - recall 0.912 precision 0.971 F1 0.940\n",
      "0.3 - recall 0.906 precision 0.978 F1 0.941\n",
      "0.4 - recall 0.897 precision 0.984 F1 0.939\n",
      "0.5 - recall 0.892 precision 0.988 F1 0.938\n",
      "0.6 - recall 0.885 precision 0.991 F1 0.935\n",
      "0.7 - recall 0.877 precision 0.993 F1 0.932\n",
      "0.8 - recall 0.869 precision 0.995 F1 0.928\n",
      "Most likely new positives:\n",
      "0.9997912049293518 A5G9I1 10 kDa chaperonin {ECO:0000255|HAMAP-Rule:MF_00580}\n",
      "0.9994750618934631 Q54BN3 Probable replication factor C subunit 3\n",
      "0.9952515363693237 O94697 Replication factor C subunit 5\n",
      "0.9842198491096497 P06619 Adenylate dimethylallyltransferase\n",
      "0.9557788372039795 P14011 Adenylate dimethylallyltransferase\n",
      "0.9280935525894165 Q6AY16 Actin-like protein 9\n",
      "0.9275141954421997 O94625 DnaJ-related protein spj1\n",
      "0.9077320694923401 P07165 Protein virC1\n",
      "0.8848217129707336 Q96250 ATP synthase subunit gamma, mitochondrial (Precursor)\n",
      "0.8569555282592773 K3VH30 Bifunctional cytokinin biosynthesis protein {ECO:0000303|PubMed:28802024}\n",
      "0.8288094997406006 P38077 ATP synthase subunit gamma, mitochondrial (Precursor)\n",
      "0.8286429643630981 P76256 tRNA threonylcarbamoyladenosine biosynthesis protein TsaB\n",
      "0.8263182640075684 Q3A829 ATP phosphoribosyltransferase regulatory subunit {ECO:0000255|HAMAP-Rule:MF_00125}\n",
      "0.7872766852378845 Q08DN8 Flotillin-1\n",
      "0.7833991050720215 B9KCR8 10 kDa chaperonin {ECO:0000255|HAMAP-Rule:MF_00580}\n",
      "0.7777139544487 Q32KZ2 Actin-like protein 7A\n",
      "0.7666729688644409 Q00188 Protein TraL\n",
      "0.6821093559265137 Q8NRX4 Probable polyphosphate kinase PKK2A {ECO:0000305}\n",
      "0.630348265171051 Q1I490 Curved DNA-binding protein {ECO:0000255|HAMAP-Rule:MF_01154}\n",
      "0.6277260184288025 P42942 Uncharacterized GTP-binding protein YGR210C\n"
     ]
    }
   ],
   "source": [
    "printLearnInfo(learn)"
   ]
  },
  {
   "cell_type": "code",
   "execution_count": 10,
   "metadata": {},
   "outputs": [
    {
     "name": "stdout",
     "output_type": "stream",
     "text": [
      "Saving awd_lstm_swissprotPE3AA20NoTM_drop_mult_0_2_atpBind\n"
     ]
    }
   ],
   "source": [
    "ulmputils.saveNextModelVersion(learn,modelFName)"
   ]
  },
  {
   "cell_type": "code",
   "execution_count": 8,
   "metadata": {
    "scrolled": true
   },
   "outputs": [
    {
     "name": "stdout",
     "output_type": "stream",
     "text": [
      "Loss function: FlattenedLoss of CrossEntropyLoss()\n"
     ]
    },
    {
     "data": {
      "text/html": [
       "<table border=\"1\" class=\"dataframe\">\n",
       "  <thead>\n",
       "    <tr style=\"text-align: left;\">\n",
       "      <th>epoch</th>\n",
       "      <th>train_loss</th>\n",
       "      <th>valid_loss</th>\n",
       "      <th>accuracy</th>\n",
       "      <th>time</th>\n",
       "    </tr>\n",
       "  </thead>\n",
       "  <tbody>\n",
       "    <tr>\n",
       "      <td>0</td>\n",
       "      <td>0.215057</td>\n",
       "      <td>0.162564</td>\n",
       "      <td>0.942852</td>\n",
       "      <td>16:54</td>\n",
       "    </tr>\n",
       "    <tr>\n",
       "      <td>1</td>\n",
       "      <td>0.208599</td>\n",
       "      <td>0.149615</td>\n",
       "      <td>0.949343</td>\n",
       "      <td>17:49</td>\n",
       "    </tr>\n",
       "    <tr>\n",
       "      <td>2</td>\n",
       "      <td>0.176557</td>\n",
       "      <td>0.136933</td>\n",
       "      <td>0.952714</td>\n",
       "      <td>19:39</td>\n",
       "    </tr>\n",
       "    <tr>\n",
       "      <td>3</td>\n",
       "      <td>0.187473</td>\n",
       "      <td>0.148534</td>\n",
       "      <td>0.955116</td>\n",
       "      <td>20:21</td>\n",
       "    </tr>\n",
       "    <tr>\n",
       "      <td>4</td>\n",
       "      <td>0.180990</td>\n",
       "      <td>0.143478</td>\n",
       "      <td>0.949343</td>\n",
       "      <td>20:13</td>\n",
       "    </tr>\n",
       "    <tr>\n",
       "      <td>5</td>\n",
       "      <td>0.150977</td>\n",
       "      <td>0.144140</td>\n",
       "      <td>0.954948</td>\n",
       "      <td>18:05</td>\n",
       "    </tr>\n",
       "    <tr>\n",
       "      <td>6</td>\n",
       "      <td>0.148632</td>\n",
       "      <td>0.124804</td>\n",
       "      <td>0.956802</td>\n",
       "      <td>19:11</td>\n",
       "    </tr>\n",
       "    <tr>\n",
       "      <td>7</td>\n",
       "      <td>0.148988</td>\n",
       "      <td>0.126536</td>\n",
       "      <td>0.958656</td>\n",
       "      <td>19:42</td>\n",
       "    </tr>\n",
       "    <tr>\n",
       "      <td>8</td>\n",
       "      <td>0.141524</td>\n",
       "      <td>0.125415</td>\n",
       "      <td>0.957898</td>\n",
       "      <td>18:21</td>\n",
       "    </tr>\n",
       "    <tr>\n",
       "      <td>9</td>\n",
       "      <td>0.148803</td>\n",
       "      <td>0.125076</td>\n",
       "      <td>0.957224</td>\n",
       "      <td>18:30</td>\n",
       "    </tr>\n",
       "  </tbody>\n",
       "</table>"
      ],
      "text/plain": [
       "<IPython.core.display.HTML object>"
      ]
     },
     "metadata": {},
     "output_type": "display_data"
    }
   ],
   "source": [
    "tryClasTraining('swissprotPE3AA20NoTM', 'metalBind', 10, 5e-3)"
   ]
  },
  {
   "cell_type": "code",
   "execution_count": 9,
   "metadata": {},
   "outputs": [
    {
     "name": "stdout",
     "output_type": "stream",
     "text": [
      "0.05 - recall 0.975 precision 0.280 F1 0.435\n",
      "0.1 - recall 0.953 precision 0.336 F1 0.497\n",
      "0.15 - recall 0.926 precision 0.397 F1 0.556\n",
      "0.2 - recall 0.894 precision 0.456 F1 0.604\n",
      "0.25 - recall 0.855 precision 0.521 F1 0.648\n",
      "0.3 - recall 0.817 precision 0.589 F1 0.685\n",
      "0.4 - recall 0.753 precision 0.720 F1 0.736\n",
      "0.5 - recall 0.699 precision 0.818 F1 0.754\n",
      "0.6 - recall 0.661 precision 0.891 F1 0.759\n",
      "0.7 - recall 0.625 precision 0.925 F1 0.746\n",
      "0.8 - recall 0.586 precision 0.958 F1 0.727\n",
      "Most likely new positives:\n",
      "0.9999992847442627 Q0I8S8 Hydroxyacylglutathione hydrolase {ECO:0000255|HAMAP-Rule:MF_01374}\n",
      "0.9999314546585083 P15451 Cytochrome c\n",
      "0.999647855758667 Q04UM1 50S ribosomal protein L31 {ECO:0000255|HAMAP-Rule:MF_00501}\n",
      "0.9994650483131409 Q3ATS5 50S ribosomal protein L31 {ECO:0000255|HAMAP-Rule:MF_00501}\n",
      "0.9983882904052734 B5YI09 1-deoxy-D-xylulose 5-phosphate reductoisomerase {ECO:0000255|HAMAP-Rule:MF_00183}\n",
      "0.9981970191001892 Q7URM5 1-deoxy-D-xylulose 5-phosphate reductoisomerase {ECO:0000255|HAMAP-Rule:MF_00183}\n",
      "0.997119665145874 Q03924 Zinc finger protein 117\n",
      "0.9962073564529419 A9A2T9 3-methyl-2-oxobutanoate hydroxymethyltransferase {ECO:0000255|HAMAP-Rule:MF_00156}\n",
      "0.9953383207321167 Q7UM39 3-methyl-2-oxobutanoate hydroxymethyltransferase {ECO:0000255|HAMAP-Rule:MF_00156}\n",
      "0.994602620601654 O73848 Somatotropin (Precursor)\n",
      "0.994164764881134 O67783 3-methyl-2-oxobutanoate hydroxymethyltransferase {ECO:0000255|HAMAP-Rule:MF_00156}\n",
      "0.9921286106109619 Q8KC50 50S ribosomal protein L31 {ECO:0000255|HAMAP-Rule:MF_00501}\n",
      "0.9831274747848511 O18842 Metallothionein\n",
      "0.9817792773246765 P67981 Metallothionein-2\n",
      "0.9759283661842346 P17036 Zinc finger protein 3\n",
      "0.9750104546546936 Q383Q5 ATP-dependent protease subunit HslV (Precursor)\n",
      "0.9738110303878784 Q54TU5 Superoxide dismutase [Cu-Zn] 4\n",
      "0.9732834100723267 B3QL18 50S ribosomal protein L31 {ECO:0000255|HAMAP-Rule:MF_00501}\n",
      "0.9710567593574524 P38122 3-methyl-2-oxobutanoate hydroxymethyltransferase\n",
      "0.9709733724594116 P00100 Cytochrome c-551\n"
     ]
    }
   ],
   "source": [
    "printLearnInfo(learn)"
   ]
  },
  {
   "cell_type": "code",
   "execution_count": 12,
   "metadata": {},
   "outputs": [
    {
     "name": "stdout",
     "output_type": "stream",
     "text": [
      "Saving awd_lstm_swissprotPE3AA20NoTM_drop_mult_0_2_metalBind\n"
     ]
    }
   ],
   "source": [
    "ulmputils.saveNextModelVersion(learn,modelFName)"
   ]
  },
  {
   "cell_type": "code",
   "execution_count": null,
   "metadata": {},
   "outputs": [],
   "source": []
  },
  {
   "cell_type": "code",
   "execution_count": null,
   "metadata": {},
   "outputs": [],
   "source": []
  },
  {
   "cell_type": "markdown",
   "metadata": {},
   "source": [
    "# OLD STUFF:"
   ]
  },
  {
   "cell_type": "code",
   "execution_count": 6,
   "metadata": {
    "scrolled": true
   },
   "outputs": [
    {
     "name": "stdout",
     "output_type": "stream",
     "text": [
      "Loss function: FlattenedLoss of CrossEntropyLoss()\n"
     ]
    },
    {
     "data": {
      "text/html": [
       "<table border=\"1\" class=\"dataframe\">\n",
       "  <thead>\n",
       "    <tr style=\"text-align: left;\">\n",
       "      <th>epoch</th>\n",
       "      <th>train_loss</th>\n",
       "      <th>valid_loss</th>\n",
       "      <th>accuracy</th>\n",
       "      <th>time</th>\n",
       "    </tr>\n",
       "  </thead>\n",
       "  <tbody>\n",
       "    <tr>\n",
       "      <td>0</td>\n",
       "      <td>0.059743</td>\n",
       "      <td>0.028896</td>\n",
       "      <td>0.996039</td>\n",
       "      <td>24:14</td>\n",
       "    </tr>\n",
       "    <tr>\n",
       "      <td>1</td>\n",
       "      <td>0.039870</td>\n",
       "      <td>0.009562</td>\n",
       "      <td>0.997946</td>\n",
       "      <td>22:39</td>\n",
       "    </tr>\n",
       "    <tr>\n",
       "      <td>2</td>\n",
       "      <td>0.038213</td>\n",
       "      <td>0.009159</td>\n",
       "      <td>0.998056</td>\n",
       "      <td>23:48</td>\n",
       "    </tr>\n",
       "    <tr>\n",
       "      <td>3</td>\n",
       "      <td>0.018562</td>\n",
       "      <td>0.010238</td>\n",
       "      <td>0.998020</td>\n",
       "      <td>21:51</td>\n",
       "    </tr>\n",
       "    <tr>\n",
       "      <td>4</td>\n",
       "      <td>0.022860</td>\n",
       "      <td>0.010147</td>\n",
       "      <td>0.997763</td>\n",
       "      <td>20:28</td>\n",
       "    </tr>\n",
       "  </tbody>\n",
       "</table>"
      ],
      "text/plain": [
       "<IPython.core.display.HTML object>"
      ]
     },
     "metadata": {},
     "output_type": "display_data"
    }
   ],
   "source": [
    "data,learn = tryTraining('gtpBind','swissp40epoch_0_2dropmult_53acc_enc',5,1e-2,\n",
    "                         metrics=accuracy)"
   ]
  },
  {
   "cell_type": "code",
   "execution_count": 7,
   "metadata": {},
   "outputs": [
    {
     "name": "stdout",
     "output_type": "stream",
     "text": [
      "0.05 - recall 0.960 precision 0.470 F1 0.631\n",
      "0.1 - recall 0.954 precision 0.688 F1 0.799\n",
      "0.15 - recall 0.947 precision 0.800 F1 0.868\n",
      "0.2 - recall 0.943 precision 0.844 F1 0.891\n",
      "0.25 - recall 0.934 precision 0.881 F1 0.907\n",
      "0.3 - recall 0.929 precision 0.901 F1 0.915\n",
      "0.4 - recall 0.921 precision 0.931 F1 0.926\n",
      "0.5 - recall 0.918 precision 0.945 F1 0.932\n",
      "0.6 - recall 0.918 precision 0.961 F1 0.939\n",
      "0.7 - recall 0.916 precision 0.974 F1 0.944\n",
      "0.8 - recall 0.896 precision 0.988 F1 0.940\n",
      "Most likely:\n",
      "0.9895246624946594 Q7SXY4 Cytoplasmic dynein 2 light intermediate chain 1\n",
      "0.9474827647209167 P76556 Ethanolamine utilization protein EutP\n",
      "0.9297962784767151 P80361 Probable translation initiation factor eIF-2B subunit gamma\n",
      "0.9004318714141846 Q9JU97 3,4-dihydroxy-2-butanone 4-phosphate synthase\n",
      "0.8350386023521423 Q9BSD7 Cancer-related nucleoside-triphosphatase\n",
      "0.7747216820716858 Q97X93 UPF0273 protein SSO1861 {ECO:0000255|HAMAP-Rule:MF_01076}\n",
      "0.773944616317749 Q8Z5I4 Glucose-1-phosphate cytidylyltransferase\n",
      "0.7657492756843567 O86788 tRNA threonylcarbamoyladenosine biosynthesis protein TsaE\n",
      "0.7527778148651123 Q8VYP6 Polynucleotide 5'-hydroxyl-kinase NOL9\n",
      "0.7212778925895691 A3MX10 Nucleoside-triphosphatase THEP1 {ECO:0000255|HAMAP-Rule:MF_00796}\n",
      "0.7067962288856506 Q9ZL40 3,4-dihydroxy-2-butanone 4-phosphate synthase\n",
      "0.6841074228286743 Q9V290 Polyribonucleotide 5'-hydroxyl-kinase PYRAB01840\n",
      "0.6787543296813965 D4GU70 Low-salt glycan biosynthesis nucleotidyltransferase Agl11\n",
      "0.6759409308433533 Q3SZM5 N-acylneuraminate cytidylyltransferase\n",
      "0.6752148270606995 P09396 Movement and silencing protein TGBp1\n",
      "0.6408931612968445 Q02539 Histone H1.1\n",
      "0.6000056266784668 P51962 3,4-dihydroxy-2-butanone 4-phosphate synthase\n",
      "0.5884580016136169 O57936 Polyribonucleotide 5'-hydroxyl-kinase PH0197\n",
      "0.5681179165840149 Q882G0 3,4-dihydroxy-2-butanone 4-phosphate synthase\n",
      "0.5612891912460327 Q182W3 Stage IV sporulation protein A {ECO:0000312|EMBL:CAJ69515.2}\n"
     ]
    }
   ],
   "source": [
    "printLearnInfo(learn)"
   ]
  },
  {
   "cell_type": "code",
   "execution_count": 8,
   "metadata": {
    "scrolled": true
   },
   "outputs": [
    {
     "name": "stdout",
     "output_type": "stream",
     "text": [
      "Loss function: FlattenedLoss of CrossEntropyLoss()\n"
     ]
    },
    {
     "data": {
      "text/html": [
       "<table border=\"1\" class=\"dataframe\">\n",
       "  <thead>\n",
       "    <tr style=\"text-align: left;\">\n",
       "      <th>epoch</th>\n",
       "      <th>train_loss</th>\n",
       "      <th>valid_loss</th>\n",
       "      <th>accuracy</th>\n",
       "      <th>time</th>\n",
       "    </tr>\n",
       "  </thead>\n",
       "  <tbody>\n",
       "    <tr>\n",
       "      <td>0</td>\n",
       "      <td>0.094848</td>\n",
       "      <td>0.063217</td>\n",
       "      <td>0.982434</td>\n",
       "      <td>18:40</td>\n",
       "    </tr>\n",
       "    <tr>\n",
       "      <td>1</td>\n",
       "      <td>0.076341</td>\n",
       "      <td>0.063666</td>\n",
       "      <td>0.983717</td>\n",
       "      <td>16:28</td>\n",
       "    </tr>\n",
       "    <tr>\n",
       "      <td>2</td>\n",
       "      <td>0.061110</td>\n",
       "      <td>0.055671</td>\n",
       "      <td>0.984487</td>\n",
       "      <td>17:44</td>\n",
       "    </tr>\n",
       "    <tr>\n",
       "      <td>3</td>\n",
       "      <td>0.043388</td>\n",
       "      <td>0.049755</td>\n",
       "      <td>0.986028</td>\n",
       "      <td>17:42</td>\n",
       "    </tr>\n",
       "    <tr>\n",
       "      <td>4</td>\n",
       "      <td>0.045106</td>\n",
       "      <td>0.048325</td>\n",
       "      <td>0.986981</td>\n",
       "      <td>17:00</td>\n",
       "    </tr>\n",
       "  </tbody>\n",
       "</table>"
      ],
      "text/plain": [
       "<IPython.core.display.HTML object>"
      ]
     },
     "metadata": {},
     "output_type": "display_data"
    }
   ],
   "source": [
    "data,learn = tryTraining('atpBind','swissp40epoch_0_2dropmult_53acc_enc',5,1e-2,\n",
    "                         metrics=accuracy)"
   ]
  },
  {
   "cell_type": "code",
   "execution_count": 9,
   "metadata": {
    "scrolled": true
   },
   "outputs": [
    {
     "name": "stdout",
     "output_type": "stream",
     "text": [
      "0.05 - recall 0.949 precision 0.832 F1 0.887\n",
      "0.1 - recall 0.928 precision 0.936 F1 0.932\n",
      "0.15 - recall 0.918 precision 0.966 F1 0.941\n",
      "0.2 - recall 0.914 precision 0.974 F1 0.943\n",
      "0.25 - recall 0.911 precision 0.979 F1 0.944\n",
      "0.3 - recall 0.907 precision 0.985 F1 0.944\n",
      "0.4 - recall 0.900 precision 0.987 F1 0.942\n",
      "0.5 - recall 0.893 precision 0.989 F1 0.938\n",
      "0.6 - recall 0.886 precision 0.991 F1 0.935\n",
      "0.7 - recall 0.874 precision 0.993 F1 0.930\n",
      "0.8 - recall 0.861 precision 0.994 F1 0.923\n",
      "Most likely:\n",
      "0.9999616146087646 Q9F4E4 10 kDa chaperonin {ECO:0000255|HAMAP-Rule:MF_00580}\n",
      "0.9999520778656006 Q03SR0 10 kDa chaperonin {ECO:0000255|HAMAP-Rule:MF_00580}\n",
      "0.9997187256813049 Q8RKI6 Glycerol-3-phosphate cytidylyltransferase\n",
      "0.998019814491272 Q94490 Ubiquitin conjugating enzyme E2 B\n",
      "0.9968795776367188 P05631 ATP synthase subunit gamma, mitochondrial {ECO:0000305} (Precursor)\n",
      "0.9962904453277588 Q9BYD9 Actin-related protein T3\n",
      "0.988463819026947 Q73I70 10 kDa chaperonin {ECO:0000255|HAMAP-Rule:MF_00580}\n",
      "0.9774967432022095 Q9LJD7 Constitutive photomorphogenesis protein 10\n",
      "0.9730649590492249 Q6LA56 Uncharacterized kinase C3H5.11\n",
      "0.9670051336288452 Q5GLH2 Tribbles homolog 2\n",
      "0.9649501442909241 Q41075 ATP synthase gamma chain, chloroplastic (Precursor)\n",
      "0.9592301845550537 O69768 Amidase\n",
      "0.9279325604438782 Q46ZL2 3-hydroxylaminophenol mutase\n",
      "0.8693583011627197 Q87VN8 Curved DNA-binding protein {ECO:0000255|HAMAP-Rule:MF_01154}\n",
      "0.8641666173934937 Q9XJR9 Protein P9\n",
      "0.8522778749465942 B9KCR8 10 kDa chaperonin {ECO:0000255|HAMAP-Rule:MF_00580}\n",
      "0.8133671879768372 P26832 Uncharacterized protein CPE0188\n",
      "0.7909570932388306 P58592 Adenylate dimethylallyltransferase\n",
      "0.750424861907959 Q8RMD4 Acarbose 7(IV)-phosphotransferase {ECO:0000305}\n",
      "0.707356870174408 Q56237 Chaperone protein DnaJ 2\n"
     ]
    }
   ],
   "source": [
    "printLearnInfo(learn)"
   ]
  },
  {
   "cell_type": "code",
   "execution_count": 10,
   "metadata": {
    "scrolled": false
   },
   "outputs": [
    {
     "name": "stdout",
     "output_type": "stream",
     "text": [
      "Loss function: FlattenedLoss of CrossEntropyLoss()\n"
     ]
    },
    {
     "data": {
      "text/html": [
       "<table border=\"1\" class=\"dataframe\">\n",
       "  <thead>\n",
       "    <tr style=\"text-align: left;\">\n",
       "      <th>epoch</th>\n",
       "      <th>train_loss</th>\n",
       "      <th>valid_loss</th>\n",
       "      <th>accuracy</th>\n",
       "      <th>time</th>\n",
       "    </tr>\n",
       "  </thead>\n",
       "  <tbody>\n",
       "    <tr>\n",
       "      <td>0</td>\n",
       "      <td>0.258967</td>\n",
       "      <td>0.161738</td>\n",
       "      <td>0.946274</td>\n",
       "      <td>23:09</td>\n",
       "    </tr>\n",
       "    <tr>\n",
       "      <td>1</td>\n",
       "      <td>0.213522</td>\n",
       "      <td>0.146265</td>\n",
       "      <td>0.949171</td>\n",
       "      <td>22:21</td>\n",
       "    </tr>\n",
       "    <tr>\n",
       "      <td>2</td>\n",
       "      <td>0.182258</td>\n",
       "      <td>0.133434</td>\n",
       "      <td>0.955076</td>\n",
       "      <td>21:09</td>\n",
       "    </tr>\n",
       "    <tr>\n",
       "      <td>3</td>\n",
       "      <td>0.176618</td>\n",
       "      <td>0.142193</td>\n",
       "      <td>0.956359</td>\n",
       "      <td>20:34</td>\n",
       "    </tr>\n",
       "    <tr>\n",
       "      <td>4</td>\n",
       "      <td>0.167359</td>\n",
       "      <td>0.125699</td>\n",
       "      <td>0.959366</td>\n",
       "      <td>20:04</td>\n",
       "    </tr>\n",
       "  </tbody>\n",
       "</table>"
      ],
      "text/plain": [
       "<IPython.core.display.HTML object>"
      ]
     },
     "metadata": {},
     "output_type": "display_data"
    }
   ],
   "source": [
    "data,learn = tryTraining('metalBind','swissp40epoch_0_2dropmult_53acc_enc',5,1e-2,\n",
    "                         metrics=accuracy)"
   ]
  },
  {
   "cell_type": "code",
   "execution_count": 11,
   "metadata": {
    "scrolled": true
   },
   "outputs": [
    {
     "name": "stdout",
     "output_type": "stream",
     "text": [
      "0.05 - recall 0.972 precision 0.237 F1 0.381\n",
      "0.1 - recall 0.941 precision 0.304 F1 0.460\n",
      "0.15 - recall 0.900 precision 0.393 F1 0.547\n",
      "0.2 - recall 0.840 precision 0.487 F1 0.617\n",
      "0.25 - recall 0.790 precision 0.584 F1 0.672\n",
      "0.3 - recall 0.744 precision 0.675 F1 0.708\n",
      "0.4 - recall 0.670 precision 0.803 F1 0.730\n",
      "0.5 - recall 0.623 precision 0.874 F1 0.727\n",
      "0.6 - recall 0.583 precision 0.911 F1 0.711\n",
      "0.7 - recall 0.553 precision 0.942 F1 0.697\n",
      "0.8 - recall 0.518 precision 0.955 F1 0.671\n",
      "Most likely:\n",
      "0.9998219609260559 Q9KDQ1 Non-canonical purine NTP pyrophosphatase homolog\n",
      "0.9997192025184631 Q89KP9 1-deoxy-D-xylulose 5-phosphate reductoisomerase {ECO:0000255|HAMAP-Rule:MF_00183}\n",
      "0.9997087121009827 O49203 Nucleoside diphosphate kinase III, chloroplastic/mitochondrial (Precursor)\n",
      "0.9997019171714783 P84155 Oxygen-dependent coproporphyrinogen-III oxidase\n",
      "0.9996678829193115 P83584 Ferredoxin\n",
      "0.9991071820259094 Q969Y2 tRNA modification GTPase GTPBP3, mitochondrial (Precursor)\n",
      "0.9989118576049805 Q89MZ4 3-methyl-2-oxobutanoate hydroxymethyltransferase 3 {ECO:0000255|HAMAP-Rule:MF_00156}\n",
      "0.9988405108451843 A9A2T9 3-methyl-2-oxobutanoate hydroxymethyltransferase {ECO:0000255|HAMAP-Rule:MF_00156}\n",
      "0.9987527132034302 Q98514 Putative protein A464R\n",
      "0.9985944628715515 Q7UM39 3-methyl-2-oxobutanoate hydroxymethyltransferase {ECO:0000255|HAMAP-Rule:MF_00156}\n",
      "0.9984071850776672 P68494 Metallothionein\n",
      "0.9966805577278137 Q9UT98 NADH kinase pos5, mitochondrial (Precursor)\n",
      "0.9965960383415222 Q7NMK3 3-methyl-2-oxobutanoate hydroxymethyltransferase {ECO:0000255|HAMAP-Rule:MF_00156}\n",
      "0.9960945248603821 B3EFU5 50S ribosomal protein L31 {ECO:0000255|HAMAP-Rule:MF_00501}\n",
      "0.9944325089454651 Q9LR75 Coproporphyrinogen-III oxidase 1, chloroplastic (Precursor)\n",
      "0.9906010627746582 B3QL18 50S ribosomal protein L31 {ECO:0000255|HAMAP-Rule:MF_00501}\n",
      "0.9888047575950623 Q6GQH4 Early growth response protein 1-A\n",
      "0.9869698286056519 Q6ZSG1 E3 ubiquitin-protein ligase RNF165 {ECO:0000305}\n",
      "0.9865939617156982 Q5P2L1 Type III pantothenate kinase {ECO:0000255|HAMAP-Rule:MF_01274}\n",
      "0.9832845330238342 Q03924 Zinc finger protein 117\n"
     ]
    }
   ],
   "source": [
    "printLearnInfo(learn)"
   ]
  },
  {
   "cell_type": "code",
   "execution_count": 13,
   "metadata": {},
   "outputs": [],
   "source": [
    "# learn.freeze_to(-2)\n",
    "# learn.fit_one_cycle(3, slice(1e-2/(2.6**4),1e-2), moms=(0.8,0.7))\n",
    "\n",
    "# learn.freeze_to(-3)\n",
    "# learn.fit_one_cycle(3, slice(5e-3/(2.6**4),5e-3), moms=(0.8,0.7))\n",
    "\n",
    "# interp = ClassificationInterpretation.from_learner(learn)\n",
    "# interp.plot_confusion_matrix(figsize=(6,6), dpi=60)"
   ]
  },
  {
   "cell_type": "code",
   "execution_count": null,
   "metadata": {},
   "outputs": [],
   "source": []
  }
 ],
 "metadata": {
  "kernelspec": {
   "display_name": "Python 3",
   "language": "python",
   "name": "python3"
  },
  "language_info": {
   "codemirror_mode": {
    "name": "ipython",
    "version": 3
   },
   "file_extension": ".py",
   "mimetype": "text/x-python",
   "name": "python",
   "nbconvert_exporter": "python",
   "pygments_lexer": "ipython3",
   "version": "3.7.3"
  }
 },
 "nbformat": 4,
 "nbformat_minor": 2
}
