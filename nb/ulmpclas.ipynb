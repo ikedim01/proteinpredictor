{
 "cells": [
  {
   "cell_type": "code",
   "execution_count": 1,
   "metadata": {},
   "outputs": [],
   "source": [
    "%reload_ext autoreload\n",
    "%autoreload 2\n",
    "%matplotlib inline"
   ]
  },
  {
   "cell_type": "code",
   "execution_count": 2,
   "metadata": {},
   "outputs": [],
   "source": [
    "from fastai import *\n",
    "from fastai.text import *\n",
    "\n",
    "import pickle\n",
    "\n",
    "sys.path.append(\"..\")\n",
    "import readseq\n",
    "import ulmputils\n",
    "\n",
    "seqDirPath = Config().data_path()/'pseq'"
   ]
  },
  {
   "cell_type": "code",
   "execution_count": 3,
   "metadata": {},
   "outputs": [],
   "source": [
    "bs = 64"
   ]
  },
  {
   "cell_type": "code",
   "execution_count": 4,
   "metadata": {},
   "outputs": [],
   "source": [
    "def makeClasDatabunch(fName,trSetName) :\n",
    "    l = TextList.from_csv(seqDirPath,fName+trSetName+'Train.csv', cols='sequence',\n",
    "                          processor=ulmputils.processor)\n",
    "    lspl = l.split_from_df('is_valid')\n",
    "    llab = lspl.label_from_df('label')\n",
    "    res = llab.databunch(bs=bs)\n",
    "    return res\n",
    "\n",
    "def tryTraining(trSetName, encoderFName, nEpochs, lr, fName='swissprotPE3',\n",
    "                train_seed=31415, drop_mult=0.2, metrics=[], moms=(0.8,0.7),\n",
    "                **kwargs) :\n",
    "    data = makeClasDatabunch(fName,trSetName)\n",
    "    if train_seed is not None :\n",
    "        ulmputils.randomSeedForTraining(train_seed)\n",
    "    learn = text_classifier_learner(data, AWD_LSTM, pretrained=False,\n",
    "                                    drop_mult=drop_mult, metrics=metrics,\n",
    "                                    **kwargs)\n",
    "    print('Loss function:',learn.loss_func)\n",
    "    learn.load_encoder(encoderFName)\n",
    "    #learn.lr_find()\n",
    "    #learn.recorder.plot()\n",
    "    learn.fit_one_cycle(nEpochs, lr, moms=moms)\n",
    "    return data,learn"
   ]
  },
  {
   "cell_type": "code",
   "execution_count": 5,
   "metadata": {},
   "outputs": [],
   "source": [
    "def filterP1AndTarg(thresh,p1AndTarg,fn,reverse=True,returnPred=False) :\n",
    "    fList = [(i,pred) for i,(targ,pred) in enumerate(p1AndTarg) if fn(targ,pred,thresh)]\n",
    "    fList.sort(key = lambda x : x[1], reverse=reverse)\n",
    "    if not returnPred :\n",
    "        fList = [i for i,pred in fList]\n",
    "    return fList\n",
    "def truePos(thresh,p1AndTarg,reverse=True,returnPred=False) :\n",
    "    return filterP1AndTarg(thresh,p1AndTarg,\n",
    "                           lambda targ,pred,thresh : targ==1 and pred>=thresh,\n",
    "                           reverse,returnPred)\n",
    "def falsePos(thresh,p1AndTarg,reverse=True,returnPred=False) :\n",
    "    return filterP1AndTarg(thresh,p1AndTarg,\n",
    "                           lambda targ,pred,thresh : targ==0 and pred>=thresh,\n",
    "                           reverse,returnPred)\n",
    "def falseNeg(thresh,p1AndTarg,reverse=True,returnPred=False) :\n",
    "    return filterP1AndTarg(thresh,p1AndTarg,\n",
    "                           lambda targ,pred,thresh : targ==1 and pred<thresh,\n",
    "                           reverse,returnPred)\n",
    "def printLearnInfo(learn) :\n",
    "    p = learn.get_preds(ordered=True)\n",
    "    p1 = p[0][:,1]\n",
    "    p1AndTarg = list(zip(p[1].tolist(),p1.tolist()))\n",
    "    validDF, trainDF = learn.data.valid_ds.inner_df, learn.data.train_ds.inner_df\n",
    "    validIds, validNames, validSeqs = (validDF.identifier.values,\n",
    "                                       validDF.name.values, validDF.sequence.values)\n",
    "    trainSeqs, trainLabels = trainDF.sequence.values, trainDF.label.values\n",
    "    trainPosSeqs = [sequence for sequence,label in zip(trainSeqs,trainLabels)\n",
    "                    if label=='pos']\n",
    "    for thresh in [0.05,0.1,0.15,0.2,0.25,0.3,0.4,0.5,0.6,0.7,0.8] :\n",
    "        nTruePos,nFalsePos,nFalseNeg = (\n",
    "              len(truePos(thresh,p1AndTarg)),\n",
    "              len(falsePos(thresh,p1AndTarg)),\n",
    "              len(falseNeg(thresh,p1AndTarg))\n",
    "        )\n",
    "        recall = nTruePos/(nTruePos+nFalseNeg)\n",
    "        precision = nTruePos/(nTruePos+nFalsePos)\n",
    "        print('{} - recall {:.3f} precision {:.3f} F1 {:.3f}'.format(thresh,\n",
    "                        recall,precision,2/(1/recall+1/precision)))\n",
    "        #print(thresh,'-',\n",
    "        #      len(truePos(thresh,p1AndTarg)),\n",
    "        #      len(falsePos(thresh,p1AndTarg)),\n",
    "        #      len(falseNeg(thresh,p1AndTarg)))\n",
    "        #if thresh == 0.5 :\n",
    "        #    print('True pos:')\n",
    "        #    for i in truePos(thresh,p1AndTarg) :\n",
    "        #        print(validNames[i],\n",
    "        #              readseq.findLongestRepeat(validSeqs[i],trainPosSeqs))\n",
    "        #    print('False neg:',[validNames[i] for i in falseNeg(thresh,p1AndTarg)])\n",
    "    print('Most likely:')\n",
    "    for i,pred in falsePos(0.0,p1AndTarg,returnPred=True)[:20] :\n",
    "        print(pred,validIds[i],validNames[i],\n",
    "                      #readseq.findLongestRepeat(validSeqs[i],trainPosSeqs)\n",
    "             )"
   ]
  },
  {
   "cell_type": "code",
   "execution_count": 6,
   "metadata": {
    "scrolled": true
   },
   "outputs": [
    {
     "name": "stdout",
     "output_type": "stream",
     "text": [
      "Loss function: FlattenedLoss of CrossEntropyLoss()\n"
     ]
    },
    {
     "data": {
      "text/html": [
       "<table border=\"1\" class=\"dataframe\">\n",
       "  <thead>\n",
       "    <tr style=\"text-align: left;\">\n",
       "      <th>epoch</th>\n",
       "      <th>train_loss</th>\n",
       "      <th>valid_loss</th>\n",
       "      <th>accuracy</th>\n",
       "      <th>time</th>\n",
       "    </tr>\n",
       "  </thead>\n",
       "  <tbody>\n",
       "    <tr>\n",
       "      <td>0</td>\n",
       "      <td>0.059743</td>\n",
       "      <td>0.028896</td>\n",
       "      <td>0.996039</td>\n",
       "      <td>24:14</td>\n",
       "    </tr>\n",
       "    <tr>\n",
       "      <td>1</td>\n",
       "      <td>0.039870</td>\n",
       "      <td>0.009562</td>\n",
       "      <td>0.997946</td>\n",
       "      <td>22:39</td>\n",
       "    </tr>\n",
       "    <tr>\n",
       "      <td>2</td>\n",
       "      <td>0.038213</td>\n",
       "      <td>0.009159</td>\n",
       "      <td>0.998056</td>\n",
       "      <td>23:48</td>\n",
       "    </tr>\n",
       "    <tr>\n",
       "      <td>3</td>\n",
       "      <td>0.018562</td>\n",
       "      <td>0.010238</td>\n",
       "      <td>0.998020</td>\n",
       "      <td>21:51</td>\n",
       "    </tr>\n",
       "    <tr>\n",
       "      <td>4</td>\n",
       "      <td>0.022860</td>\n",
       "      <td>0.010147</td>\n",
       "      <td>0.997763</td>\n",
       "      <td>20:28</td>\n",
       "    </tr>\n",
       "  </tbody>\n",
       "</table>"
      ],
      "text/plain": [
       "<IPython.core.display.HTML object>"
      ]
     },
     "metadata": {},
     "output_type": "display_data"
    }
   ],
   "source": [
    "data,learn = tryTraining('gtpBind','swissp40epoch_0_2dropmult_53acc_enc',5,1e-2,\n",
    "                         metrics=accuracy)"
   ]
  },
  {
   "cell_type": "code",
   "execution_count": 7,
   "metadata": {},
   "outputs": [
    {
     "name": "stdout",
     "output_type": "stream",
     "text": [
      "0.05 - recall 0.960 precision 0.470 F1 0.631\n",
      "0.1 - recall 0.954 precision 0.688 F1 0.799\n",
      "0.15 - recall 0.947 precision 0.800 F1 0.868\n",
      "0.2 - recall 0.943 precision 0.844 F1 0.891\n",
      "0.25 - recall 0.934 precision 0.881 F1 0.907\n",
      "0.3 - recall 0.929 precision 0.901 F1 0.915\n",
      "0.4 - recall 0.921 precision 0.931 F1 0.926\n",
      "0.5 - recall 0.918 precision 0.945 F1 0.932\n",
      "0.6 - recall 0.918 precision 0.961 F1 0.939\n",
      "0.7 - recall 0.916 precision 0.974 F1 0.944\n",
      "0.8 - recall 0.896 precision 0.988 F1 0.940\n",
      "Most likely:\n",
      "0.9895246624946594 Q7SXY4 Cytoplasmic dynein 2 light intermediate chain 1\n",
      "0.9474827647209167 P76556 Ethanolamine utilization protein EutP\n",
      "0.9297962784767151 P80361 Probable translation initiation factor eIF-2B subunit gamma\n",
      "0.9004318714141846 Q9JU97 3,4-dihydroxy-2-butanone 4-phosphate synthase\n",
      "0.8350386023521423 Q9BSD7 Cancer-related nucleoside-triphosphatase\n",
      "0.7747216820716858 Q97X93 UPF0273 protein SSO1861 {ECO:0000255|HAMAP-Rule:MF_01076}\n",
      "0.773944616317749 Q8Z5I4 Glucose-1-phosphate cytidylyltransferase\n",
      "0.7657492756843567 O86788 tRNA threonylcarbamoyladenosine biosynthesis protein TsaE\n",
      "0.7527778148651123 Q8VYP6 Polynucleotide 5'-hydroxyl-kinase NOL9\n",
      "0.7212778925895691 A3MX10 Nucleoside-triphosphatase THEP1 {ECO:0000255|HAMAP-Rule:MF_00796}\n",
      "0.7067962288856506 Q9ZL40 3,4-dihydroxy-2-butanone 4-phosphate synthase\n",
      "0.6841074228286743 Q9V290 Polyribonucleotide 5'-hydroxyl-kinase PYRAB01840\n",
      "0.6787543296813965 D4GU70 Low-salt glycan biosynthesis nucleotidyltransferase Agl11\n",
      "0.6759409308433533 Q3SZM5 N-acylneuraminate cytidylyltransferase\n",
      "0.6752148270606995 P09396 Movement and silencing protein TGBp1\n",
      "0.6408931612968445 Q02539 Histone H1.1\n",
      "0.6000056266784668 P51962 3,4-dihydroxy-2-butanone 4-phosphate synthase\n",
      "0.5884580016136169 O57936 Polyribonucleotide 5'-hydroxyl-kinase PH0197\n",
      "0.5681179165840149 Q882G0 3,4-dihydroxy-2-butanone 4-phosphate synthase\n",
      "0.5612891912460327 Q182W3 Stage IV sporulation protein A {ECO:0000312|EMBL:CAJ69515.2}\n"
     ]
    }
   ],
   "source": [
    "printLearnInfo(learn)"
   ]
  },
  {
   "cell_type": "code",
   "execution_count": 8,
   "metadata": {
    "scrolled": true
   },
   "outputs": [
    {
     "name": "stdout",
     "output_type": "stream",
     "text": [
      "Loss function: FlattenedLoss of CrossEntropyLoss()\n"
     ]
    },
    {
     "data": {
      "text/html": [
       "<table border=\"1\" class=\"dataframe\">\n",
       "  <thead>\n",
       "    <tr style=\"text-align: left;\">\n",
       "      <th>epoch</th>\n",
       "      <th>train_loss</th>\n",
       "      <th>valid_loss</th>\n",
       "      <th>accuracy</th>\n",
       "      <th>time</th>\n",
       "    </tr>\n",
       "  </thead>\n",
       "  <tbody>\n",
       "    <tr>\n",
       "      <td>0</td>\n",
       "      <td>0.094848</td>\n",
       "      <td>0.063217</td>\n",
       "      <td>0.982434</td>\n",
       "      <td>18:40</td>\n",
       "    </tr>\n",
       "    <tr>\n",
       "      <td>1</td>\n",
       "      <td>0.076341</td>\n",
       "      <td>0.063666</td>\n",
       "      <td>0.983717</td>\n",
       "      <td>16:28</td>\n",
       "    </tr>\n",
       "    <tr>\n",
       "      <td>2</td>\n",
       "      <td>0.061110</td>\n",
       "      <td>0.055671</td>\n",
       "      <td>0.984487</td>\n",
       "      <td>17:44</td>\n",
       "    </tr>\n",
       "    <tr>\n",
       "      <td>3</td>\n",
       "      <td>0.043388</td>\n",
       "      <td>0.049755</td>\n",
       "      <td>0.986028</td>\n",
       "      <td>17:42</td>\n",
       "    </tr>\n",
       "    <tr>\n",
       "      <td>4</td>\n",
       "      <td>0.045106</td>\n",
       "      <td>0.048325</td>\n",
       "      <td>0.986981</td>\n",
       "      <td>17:00</td>\n",
       "    </tr>\n",
       "  </tbody>\n",
       "</table>"
      ],
      "text/plain": [
       "<IPython.core.display.HTML object>"
      ]
     },
     "metadata": {},
     "output_type": "display_data"
    }
   ],
   "source": [
    "data,learn = tryTraining('atpBind','swissp40epoch_0_2dropmult_53acc_enc',5,1e-2,\n",
    "                         metrics=accuracy)"
   ]
  },
  {
   "cell_type": "code",
   "execution_count": 9,
   "metadata": {
    "scrolled": true
   },
   "outputs": [
    {
     "name": "stdout",
     "output_type": "stream",
     "text": [
      "0.05 - recall 0.949 precision 0.832 F1 0.887\n",
      "0.1 - recall 0.928 precision 0.936 F1 0.932\n",
      "0.15 - recall 0.918 precision 0.966 F1 0.941\n",
      "0.2 - recall 0.914 precision 0.974 F1 0.943\n",
      "0.25 - recall 0.911 precision 0.979 F1 0.944\n",
      "0.3 - recall 0.907 precision 0.985 F1 0.944\n",
      "0.4 - recall 0.900 precision 0.987 F1 0.942\n",
      "0.5 - recall 0.893 precision 0.989 F1 0.938\n",
      "0.6 - recall 0.886 precision 0.991 F1 0.935\n",
      "0.7 - recall 0.874 precision 0.993 F1 0.930\n",
      "0.8 - recall 0.861 precision 0.994 F1 0.923\n",
      "Most likely:\n",
      "0.9999616146087646 Q9F4E4 10 kDa chaperonin {ECO:0000255|HAMAP-Rule:MF_00580}\n",
      "0.9999520778656006 Q03SR0 10 kDa chaperonin {ECO:0000255|HAMAP-Rule:MF_00580}\n",
      "0.9997187256813049 Q8RKI6 Glycerol-3-phosphate cytidylyltransferase\n",
      "0.998019814491272 Q94490 Ubiquitin conjugating enzyme E2 B\n",
      "0.9968795776367188 P05631 ATP synthase subunit gamma, mitochondrial {ECO:0000305} (Precursor)\n",
      "0.9962904453277588 Q9BYD9 Actin-related protein T3\n",
      "0.988463819026947 Q73I70 10 kDa chaperonin {ECO:0000255|HAMAP-Rule:MF_00580}\n",
      "0.9774967432022095 Q9LJD7 Constitutive photomorphogenesis protein 10\n",
      "0.9730649590492249 Q6LA56 Uncharacterized kinase C3H5.11\n",
      "0.9670051336288452 Q5GLH2 Tribbles homolog 2\n",
      "0.9649501442909241 Q41075 ATP synthase gamma chain, chloroplastic (Precursor)\n",
      "0.9592301845550537 O69768 Amidase\n",
      "0.9279325604438782 Q46ZL2 3-hydroxylaminophenol mutase\n",
      "0.8693583011627197 Q87VN8 Curved DNA-binding protein {ECO:0000255|HAMAP-Rule:MF_01154}\n",
      "0.8641666173934937 Q9XJR9 Protein P9\n",
      "0.8522778749465942 B9KCR8 10 kDa chaperonin {ECO:0000255|HAMAP-Rule:MF_00580}\n",
      "0.8133671879768372 P26832 Uncharacterized protein CPE0188\n",
      "0.7909570932388306 P58592 Adenylate dimethylallyltransferase\n",
      "0.750424861907959 Q8RMD4 Acarbose 7(IV)-phosphotransferase {ECO:0000305}\n",
      "0.707356870174408 Q56237 Chaperone protein DnaJ 2\n"
     ]
    }
   ],
   "source": [
    "printLearnInfo(learn)"
   ]
  },
  {
   "cell_type": "code",
   "execution_count": 10,
   "metadata": {
    "scrolled": false
   },
   "outputs": [
    {
     "name": "stdout",
     "output_type": "stream",
     "text": [
      "Loss function: FlattenedLoss of CrossEntropyLoss()\n"
     ]
    },
    {
     "data": {
      "text/html": [
       "<table border=\"1\" class=\"dataframe\">\n",
       "  <thead>\n",
       "    <tr style=\"text-align: left;\">\n",
       "      <th>epoch</th>\n",
       "      <th>train_loss</th>\n",
       "      <th>valid_loss</th>\n",
       "      <th>accuracy</th>\n",
       "      <th>time</th>\n",
       "    </tr>\n",
       "  </thead>\n",
       "  <tbody>\n",
       "    <tr>\n",
       "      <td>0</td>\n",
       "      <td>0.258967</td>\n",
       "      <td>0.161738</td>\n",
       "      <td>0.946274</td>\n",
       "      <td>23:09</td>\n",
       "    </tr>\n",
       "    <tr>\n",
       "      <td>1</td>\n",
       "      <td>0.213522</td>\n",
       "      <td>0.146265</td>\n",
       "      <td>0.949171</td>\n",
       "      <td>22:21</td>\n",
       "    </tr>\n",
       "    <tr>\n",
       "      <td>2</td>\n",
       "      <td>0.182258</td>\n",
       "      <td>0.133434</td>\n",
       "      <td>0.955076</td>\n",
       "      <td>21:09</td>\n",
       "    </tr>\n",
       "    <tr>\n",
       "      <td>3</td>\n",
       "      <td>0.176618</td>\n",
       "      <td>0.142193</td>\n",
       "      <td>0.956359</td>\n",
       "      <td>20:34</td>\n",
       "    </tr>\n",
       "    <tr>\n",
       "      <td>4</td>\n",
       "      <td>0.167359</td>\n",
       "      <td>0.125699</td>\n",
       "      <td>0.959366</td>\n",
       "      <td>20:04</td>\n",
       "    </tr>\n",
       "  </tbody>\n",
       "</table>"
      ],
      "text/plain": [
       "<IPython.core.display.HTML object>"
      ]
     },
     "metadata": {},
     "output_type": "display_data"
    }
   ],
   "source": [
    "data,learn = tryTraining('metalBind','swissp40epoch_0_2dropmult_53acc_enc',5,1e-2,\n",
    "                         metrics=accuracy)"
   ]
  },
  {
   "cell_type": "code",
   "execution_count": 11,
   "metadata": {
    "scrolled": true
   },
   "outputs": [
    {
     "name": "stdout",
     "output_type": "stream",
     "text": [
      "0.05 - recall 0.972 precision 0.237 F1 0.381\n",
      "0.1 - recall 0.941 precision 0.304 F1 0.460\n",
      "0.15 - recall 0.900 precision 0.393 F1 0.547\n",
      "0.2 - recall 0.840 precision 0.487 F1 0.617\n",
      "0.25 - recall 0.790 precision 0.584 F1 0.672\n",
      "0.3 - recall 0.744 precision 0.675 F1 0.708\n",
      "0.4 - recall 0.670 precision 0.803 F1 0.730\n",
      "0.5 - recall 0.623 precision 0.874 F1 0.727\n",
      "0.6 - recall 0.583 precision 0.911 F1 0.711\n",
      "0.7 - recall 0.553 precision 0.942 F1 0.697\n",
      "0.8 - recall 0.518 precision 0.955 F1 0.671\n",
      "Most likely:\n",
      "0.9998219609260559 Q9KDQ1 Non-canonical purine NTP pyrophosphatase homolog\n",
      "0.9997192025184631 Q89KP9 1-deoxy-D-xylulose 5-phosphate reductoisomerase {ECO:0000255|HAMAP-Rule:MF_00183}\n",
      "0.9997087121009827 O49203 Nucleoside diphosphate kinase III, chloroplastic/mitochondrial (Precursor)\n",
      "0.9997019171714783 P84155 Oxygen-dependent coproporphyrinogen-III oxidase\n",
      "0.9996678829193115 P83584 Ferredoxin\n",
      "0.9991071820259094 Q969Y2 tRNA modification GTPase GTPBP3, mitochondrial (Precursor)\n",
      "0.9989118576049805 Q89MZ4 3-methyl-2-oxobutanoate hydroxymethyltransferase 3 {ECO:0000255|HAMAP-Rule:MF_00156}\n",
      "0.9988405108451843 A9A2T9 3-methyl-2-oxobutanoate hydroxymethyltransferase {ECO:0000255|HAMAP-Rule:MF_00156}\n",
      "0.9987527132034302 Q98514 Putative protein A464R\n",
      "0.9985944628715515 Q7UM39 3-methyl-2-oxobutanoate hydroxymethyltransferase {ECO:0000255|HAMAP-Rule:MF_00156}\n",
      "0.9984071850776672 P68494 Metallothionein\n",
      "0.9966805577278137 Q9UT98 NADH kinase pos5, mitochondrial (Precursor)\n",
      "0.9965960383415222 Q7NMK3 3-methyl-2-oxobutanoate hydroxymethyltransferase {ECO:0000255|HAMAP-Rule:MF_00156}\n",
      "0.9960945248603821 B3EFU5 50S ribosomal protein L31 {ECO:0000255|HAMAP-Rule:MF_00501}\n",
      "0.9944325089454651 Q9LR75 Coproporphyrinogen-III oxidase 1, chloroplastic (Precursor)\n",
      "0.9906010627746582 B3QL18 50S ribosomal protein L31 {ECO:0000255|HAMAP-Rule:MF_00501}\n",
      "0.9888047575950623 Q6GQH4 Early growth response protein 1-A\n",
      "0.9869698286056519 Q6ZSG1 E3 ubiquitin-protein ligase RNF165 {ECO:0000305}\n",
      "0.9865939617156982 Q5P2L1 Type III pantothenate kinase {ECO:0000255|HAMAP-Rule:MF_01274}\n",
      "0.9832845330238342 Q03924 Zinc finger protein 117\n"
     ]
    }
   ],
   "source": [
    "printLearnInfo(learn)"
   ]
  },
  {
   "cell_type": "code",
   "execution_count": 12,
   "metadata": {},
   "outputs": [
    {
     "data": {
      "text/plain": [
       "RNNLearner(data=TextClasDataBunch;\n",
       "\n",
       "Train: LabelList (375088 items)\n",
       "x: TextList\n",
       "xxbos M A R P L L G K T S S V R R R L E S L S A C S I F F F L R K F C Q K M A S L V F L N S P V Y Q M S N I L L T E R R Q V D R A M G G S D D D G V M V V A L S P S D F K T V L G S A L L A V E R D M V H V V P K Y L Q T P G I L H D M L V L L T P I F G E A L S V D M S G A T D V M V Q Q I A T A G F V D V D P L H S S V S W K D N V S C P V A L L A V S N A V R T M M G Q P C Q V T L I I D V G T Q N I L R D L V N L P V E M S G D L Q V M A Y T K D P L G K V P A V G V S V F D S G S V Q K G D A H S V G A P D G L V S F H T H P V S S A V E L N Y H A G W P S N V D M S S L L T M K N L M H V V V A E E G L W T M A R T L S M Q R L T K V L T D A E K D V M R A A A F N L F L P L N E L R V M G T K D S N N K S L K T Y F E V F E T F T I G A L M K H S G V T P T A F V D R R W L D N T I Y H M G F I P W G R D M R F V V E Y D L D G T N P F L N T V P T L M S V K R K A K I Q E M F D N M V S R M V T S,xxbos M I K L F C V L A A F I S I N S A C Q S S H Q Q R E E F T V A T Y H S S S I C T T Y C Y S N C V V A S Q H K G L N V E S Y T C D K P D P Y G R E T V C K C T L I K C H D I,xxbos M Q N S K T D M C A A L W A V T G L V L N V A V R F A L E P F K E S M G Q G W H T A A R V A V N G A I V L A L A D R L S D S P V T M T L F V M A L S A S P E,xxbos M W Q Y L P I L L M T M I S Q L E W T V A A V K R Y P A G G F I T G D K L S R V F E A L P W R V A V V S D E P E K Y E G F P I L T E E D P A V F E D A D C I L F A V S D P K C V T G A M K S V F M A S S K T A W V V Y D G T E T R A T V R S W M R R L W R A E T Y V P L L T H R G F V T D V C V Y S Q P D S E R Y V S V M T A T A H F Y S N R L E V L E E M A F V P H L A Y A K L A M G R Y T V L D G C M S V K G S A D V A P L N R S M W F L T A A A I P H G E I D T D S L F S D P G A V Y S C G S A L R E A L G S L P E G S T S V V A V R N S S Y R K Y V R G I L G P N F R V E T F T N V V K T W G V Y D Y V L L P M G I S D S Y K Q G R D L M E K L E M P G G H R V V T F A P E N Y T V N E V H L N R P L K Y A I K R M D L I T P M V L R H V S L N K,xxbos M N Y S V I W A I T I L I L G L V L T L A W A R Q N P T H P I N P L V L N Y H T K P S P K R H R M V L V V E S F A S V D A L V E L V E N I L S Q T I R V A S I T V V S Q R P D H L R Q V P L L H Q T C T F S R A S G L S A L F K E T S G T L V V F I S K E G F H H F Q S P T L L E T I D Q R G V T A E Q T L P G I V L R N T D M P G I D L T T V Y R Q Q R L G L G N\n",
       "y: CategoryList\n",
       "neg,neg,neg,neg,neg\n",
       "Path: /home/isaac/.fastai/data/pseq;\n",
       "\n",
       "Valid: LabelList (27268 items)\n",
       "x: TextList\n",
       "xxbos M R Y T V L I A L Q G A L L L L L L I D D G Q G Q S P Y P Y P G M P C N S S R Q C G L G T C V H S R C A H C S S D G T L C S P E D P T M V W P C C P E S S C Q L V V G L P S L V N H Y N C L P N Q C T D S S Q C P G G F G C M T R R S K C E L C K A D G E A C N S P Y L D W R K D K E C C S G Y C H T E A R G L E G V C I D P K K I F C T P K N P W Q L A P Y P P S Y H Q P T T L R P P T S L Y D S W L M S G F L V K S T T A P S T Q E E E D D Y,xxbos M P L S V F A E E F A E K S V K R Y I G Q G L W L P C N L S D Y Y Y Y Q E F H D E G G Y G S I H R V M D K A T G N E V I M K H S Y K L D F S P G I L P E W W S K F G S L T D D L R E R V V S N H Q L R V S R E A Q I L V Q A S T V L P E M K L H D Y F D D G E S F I L I M D Y G G R S L E N I A S S H K K K I T N L V R Y R A Y K G N W F Y K N W L K Q V V D Y M I K I Y H K I K I L Y D I G I Y H N D L K P E N V L V D G D H I T I I D F G V A D F V P D E N E R K T W S C Y D F R G T I D Y I P P E V G T T G S F D P W H Q T V W C F G V M L Y F L S F M E Y P F H I D N Q F L E Y A L E G E K L D K L P E P F A Q L I R E C L S V D P D K R P L T S L L D R L T E L H H H L Q T I D V W,xxbos M V K Y V V T G G C G F L G S H I V K C I L K Y A P E V T E V V A Y D I N I S H I M T M W S S K L K V V R G D V M D V M A L A K A V D G A D V V I H T A G I V D V W Y R H T D D E I Y R V N V S G T K N V L M C C I N A G V Q V L V N T S S M E V V G P N T T S G V F V R G G E R T P Y N T V H D H V Y P L S K D R A E K L V K H Y T G V A A A P G M P A L K T C S L R P T G I Y G E G C D L L E K F F H D T V N A G N V A Y G G S P P D S E H G R V Y V G N V A W M H L L A A R A L L A G G E S A H K V N G E A F F C Y D D S P Y M S Y D A F N A E L F E D R G F G Y V Y V P Y W V M K P M A A Y N D L K R K F L G C F G V K R S P I L N S Y T L A L A R T S F T V K T S K A R R M F G Y M P L Y E W S E A K R R T K D W I S T L K,xxbos M K K N M I L F F G I L K K L L I C I L K M E I K C W L T S D I V Y F D S E L A L T V K Q F F M K K N N T I L D K I A A H C Y G L I M Q K I S Q P V T F K N Y I Y I W R A V L F A D C T I K T N K T P D T Q N I I N L S Q N A T E E V K I I I D E L I D C F K N K N N F K E E E Y K P N L D L L N S Y I K N I K K F I T E N K T S K F I F D K D W E I L I N N I W M N,xxbos M S V D S F T S R L A V V M T A V V L V W W A Q A L P V P S P R R G E S D C D A A C R K F L L Q Y G Y L D L G E E N C T E V D S N R K L C S V D D E L V G V P R P L A R V D L A A G V S H L Q T M A G L E P T G R I D A S T A R L F T S P R C G V P D V S K Y I V A A G R R R R T R R E S V I V C T T R W T T T K S N S N E T L V K W W L D Q S S M Q W L N S T L N W V S L T N V L H H S F W K W S K E S M L A F Q Q V S L E R D A Q I V V R F E N G S H G D G W D F D G P G N V L A H A F Q P G Q S L G G D I H L D A A E P W T I Y D I D G H D G N S I L H V V L H E I G H A L G L E H S R D P T S I M Y A W Y T P F K Y D L G P E D V S A V A G L Y G A K P A S S V A A W N P K I Q K F Y W D R H V R N D L L P L L E R D L D A E E E D S D E V R\n",
       "y: CategoryList\n",
       "neg,neg,neg,neg,neg\n",
       "Path: /home/isaac/.fastai/data/pseq;\n",
       "\n",
       "Test: None, model=SequentialRNN(\n",
       "  (0): MultiBatchEncoder(\n",
       "    (module): AWD_LSTM(\n",
       "      (encoder): Embedding(32, 400, padding_idx=1)\n",
       "      (encoder_dp): EmbeddingDropout(\n",
       "        (emb): Embedding(32, 400, padding_idx=1)\n",
       "      )\n",
       "      (rnns): ModuleList(\n",
       "        (0): WeightDropout(\n",
       "          (module): LSTM(400, 1152, batch_first=True)\n",
       "        )\n",
       "        (1): WeightDropout(\n",
       "          (module): LSTM(1152, 1152, batch_first=True)\n",
       "        )\n",
       "        (2): WeightDropout(\n",
       "          (module): LSTM(1152, 400, batch_first=True)\n",
       "        )\n",
       "      )\n",
       "      (input_dp): RNNDropout()\n",
       "      (hidden_dps): ModuleList(\n",
       "        (0): RNNDropout()\n",
       "        (1): RNNDropout()\n",
       "        (2): RNNDropout()\n",
       "      )\n",
       "    )\n",
       "  )\n",
       "  (1): PoolingLinearClassifier(\n",
       "    (layers): Sequential(\n",
       "      (0): BatchNorm1d(1200, eps=1e-05, momentum=0.1, affine=True, track_running_stats=True)\n",
       "      (1): Dropout(p=0.08000000000000002)\n",
       "      (2): Linear(in_features=1200, out_features=50, bias=True)\n",
       "      (3): ReLU(inplace)\n",
       "      (4): BatchNorm1d(50, eps=1e-05, momentum=0.1, affine=True, track_running_stats=True)\n",
       "      (5): Dropout(p=0.1)\n",
       "      (6): Linear(in_features=50, out_features=2, bias=True)\n",
       "    )\n",
       "  )\n",
       "), opt_func=functools.partial(<class 'torch.optim.adam.Adam'>, betas=(0.9, 0.99)), loss_func=FlattenedLoss of CrossEntropyLoss(), metrics=[<function accuracy at 0x7fd1e1834598>], true_wd=True, bn_wd=True, wd=0.01, train_bn=True, path=PosixPath('/home/isaac/.fastai/data/pseq'), model_dir='models', callback_fns=[functools.partial(<class 'fastai.basic_train.Recorder'>, add_time=True, silent=False)], callbacks=[RNNTrainer\n",
       "learn: ...\n",
       "alpha: 2.0\n",
       "beta: 1.0], layer_groups=[Sequential(\n",
       "  (0): Embedding(32, 400, padding_idx=1)\n",
       "  (1): EmbeddingDropout(\n",
       "    (emb): Embedding(32, 400, padding_idx=1)\n",
       "  )\n",
       "), Sequential(\n",
       "  (0): WeightDropout(\n",
       "    (module): LSTM(400, 1152, batch_first=True)\n",
       "  )\n",
       "  (1): RNNDropout()\n",
       "), Sequential(\n",
       "  (0): WeightDropout(\n",
       "    (module): LSTM(1152, 1152, batch_first=True)\n",
       "  )\n",
       "  (1): RNNDropout()\n",
       "), Sequential(\n",
       "  (0): WeightDropout(\n",
       "    (module): LSTM(1152, 400, batch_first=True)\n",
       "  )\n",
       "  (1): RNNDropout()\n",
       "), Sequential(\n",
       "  (0): PoolingLinearClassifier(\n",
       "    (layers): Sequential(\n",
       "      (0): BatchNorm1d(1200, eps=1e-05, momentum=0.1, affine=True, track_running_stats=True)\n",
       "      (1): Dropout(p=0.08000000000000002)\n",
       "      (2): Linear(in_features=1200, out_features=50, bias=True)\n",
       "      (3): ReLU(inplace)\n",
       "      (4): BatchNorm1d(50, eps=1e-05, momentum=0.1, affine=True, track_running_stats=True)\n",
       "      (5): Dropout(p=0.1)\n",
       "      (6): Linear(in_features=50, out_features=2, bias=True)\n",
       "    )\n",
       "  )\n",
       ")], add_time=True, silent=False)"
      ]
     },
     "execution_count": 12,
     "metadata": {},
     "output_type": "execute_result"
    }
   ],
   "source": [
    "learn"
   ]
  },
  {
   "cell_type": "code",
   "execution_count": 13,
   "metadata": {},
   "outputs": [],
   "source": [
    "# learn.freeze_to(-2)\n",
    "# learn.fit_one_cycle(3, slice(1e-2/(2.6**4),1e-2), moms=(0.8,0.7))\n",
    "\n",
    "# learn.freeze_to(-3)\n",
    "# learn.fit_one_cycle(3, slice(5e-3/(2.6**4),5e-3), moms=(0.8,0.7))\n",
    "\n",
    "# interp = ClassificationInterpretation.from_learner(learn)\n",
    "# interp.plot_confusion_matrix(figsize=(6,6), dpi=60)"
   ]
  },
  {
   "cell_type": "code",
   "execution_count": null,
   "metadata": {},
   "outputs": [],
   "source": []
  }
 ],
 "metadata": {
  "kernelspec": {
   "display_name": "Python 3",
   "language": "python",
   "name": "python3"
  },
  "language_info": {
   "codemirror_mode": {
    "name": "ipython",
    "version": 3
   },
   "file_extension": ".py",
   "mimetype": "text/x-python",
   "name": "python",
   "nbconvert_exporter": "python",
   "pygments_lexer": "ipython3",
   "version": "3.7.3"
  }
 },
 "nbformat": 4,
 "nbformat_minor": 2
}
